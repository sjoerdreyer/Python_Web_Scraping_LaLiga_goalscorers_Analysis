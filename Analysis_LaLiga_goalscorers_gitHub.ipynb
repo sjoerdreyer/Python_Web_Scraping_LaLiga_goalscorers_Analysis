{
 "cells": [
  {
   "cell_type": "markdown",
   "id": "bd705f08",
   "metadata": {},
   "source": [
    "# Imports:"
   ]
  },
  {
   "cell_type": "code",
   "execution_count": 258,
   "id": "809ec4b7",
   "metadata": {},
   "outputs": [],
   "source": [
    "from bs4 import BeautifulSoup\n",
    "import requests\n",
    "import pandas as pd"
   ]
  },
  {
   "cell_type": "markdown",
   "id": "49418698",
   "metadata": {},
   "source": [
    "\n",
    "# Web-Scraping:"
   ]
  },
  {
   "cell_type": "code",
   "execution_count": 259,
   "id": "df7390ad",
   "metadata": {
    "scrolled": true
   },
   "outputs": [
    {
     "name": "stdout",
     "output_type": "stream",
     "text": [
      "Starting season (from 2003 onwards): 2006\n",
      "Ending season (from 2003 onwards): 2018\n",
      "Top how many players (select any number between 1-50, for better plots recommended 10 or under): 10\n"
     ]
    }
   ],
   "source": [
    "all_year_outputs = []\n",
    "\n",
    "\n",
    "start_year = int(input('Starting season (from 2003 onwards): '))\n",
    "end_year = int(input('Ending season (from 2003 onwards): '))\n",
    "top_n_players = int(input('Top how many players (select any number between 1-50, for better plots recommended 10 or under): '))\n",
    "\n",
    "# Scraping ESPN deportes website\n",
    "for n in range(start_year, end_year+1):\n",
    "    response = requests.get(\n",
    "        f\"https://espndeportes.espn.com/futbol/estadisticas/_/liga/ESP.1/temporada/{n}/vista/anotaciones\")\n",
    "    soup = BeautifulSoup(response.text, 'html.parser')\n",
    "\n",
    "    yearly_outputs = []\n",
    "\n",
    "    for items in soup.select_one(\".Table tbody\").find_all('tr'):\n",
    "        name = items.find_all(\"td\")[1].getText()\n",
    "        team = items.find_all(\"td\")[2].getText()\n",
    "        games_played = int(items.find_all(\"td\")[3].getText())\n",
    "        goals_scored = int(items.find_all(\"td\")[4].getText())\n",
    "        yearly_outputs.append([n, name, team, games_played, goals_scored])\n",
    "\n",
    "    topN_yearly = yearly_outputs[0:(top_n_players)]\n",
    "    for data_line in range(0, (top_n_players)):\n",
    "        all_year_outputs.append(topN_yearly[data_line])\n"
   ]
  },
  {
   "cell_type": "markdown",
   "id": "86102bd9",
   "metadata": {},
   "source": [
    "\n",
    "# Data Frame creation and editing:"
   ]
  },
  {
   "cell_type": "code",
   "execution_count": 260,
   "id": "9d27c47d",
   "metadata": {},
   "outputs": [
    {
     "data": {
      "text/html": [
       "<div>\n",
       "<style scoped>\n",
       "    .dataframe tbody tr th:only-of-type {\n",
       "        vertical-align: middle;\n",
       "    }\n",
       "\n",
       "    .dataframe tbody tr th {\n",
       "        vertical-align: top;\n",
       "    }\n",
       "\n",
       "    .dataframe thead th {\n",
       "        text-align: right;\n",
       "    }\n",
       "</style>\n",
       "<table border=\"1\" class=\"dataframe\">\n",
       "  <thead>\n",
       "    <tr style=\"text-align: right;\">\n",
       "      <th></th>\n",
       "      <th>year</th>\n",
       "      <th>player</th>\n",
       "      <th>team</th>\n",
       "      <th>games played</th>\n",
       "      <th>goals scored</th>\n",
       "    </tr>\n",
       "  </thead>\n",
       "  <tbody>\n",
       "    <tr>\n",
       "      <th>0</th>\n",
       "      <td>2006</td>\n",
       "      <td>Ruud van Nistelrooy</td>\n",
       "      <td>Real Madrid</td>\n",
       "      <td>37</td>\n",
       "      <td>25</td>\n",
       "    </tr>\n",
       "    <tr>\n",
       "      <th>1</th>\n",
       "      <td>2006</td>\n",
       "      <td>Diego Milito</td>\n",
       "      <td>Real Zaragoza</td>\n",
       "      <td>37</td>\n",
       "      <td>23</td>\n",
       "    </tr>\n",
       "    <tr>\n",
       "      <th>2</th>\n",
       "      <td>2006</td>\n",
       "      <td>Ronaldinho</td>\n",
       "      <td>Barcelona</td>\n",
       "      <td>32</td>\n",
       "      <td>21</td>\n",
       "    </tr>\n",
       "    <tr>\n",
       "      <th>3</th>\n",
       "      <td>2006</td>\n",
       "      <td>Frederic Kanouté</td>\n",
       "      <td>Sevilla FC</td>\n",
       "      <td>32</td>\n",
       "      <td>21</td>\n",
       "    </tr>\n",
       "    <tr>\n",
       "      <th>4</th>\n",
       "      <td>2006</td>\n",
       "      <td>Diego Forlán</td>\n",
       "      <td>Villarreal</td>\n",
       "      <td>36</td>\n",
       "      <td>19</td>\n",
       "    </tr>\n",
       "    <tr>\n",
       "      <th>5</th>\n",
       "      <td>2006</td>\n",
       "      <td>David Villa</td>\n",
       "      <td>Valencia</td>\n",
       "      <td>36</td>\n",
       "      <td>16</td>\n",
       "    </tr>\n",
       "    <tr>\n",
       "      <th>6</th>\n",
       "      <td>2006</td>\n",
       "      <td>Fernando Baiano</td>\n",
       "      <td>Celta Vigo</td>\n",
       "      <td>35</td>\n",
       "      <td>15</td>\n",
       "    </tr>\n",
       "    <tr>\n",
       "      <th>7</th>\n",
       "      <td>2006</td>\n",
       "      <td>Raúl Tamudo</td>\n",
       "      <td>Espanyol</td>\n",
       "      <td>31</td>\n",
       "      <td>15</td>\n",
       "    </tr>\n",
       "    <tr>\n",
       "      <th>8</th>\n",
       "      <td>2006</td>\n",
       "      <td>Fernando Torres</td>\n",
       "      <td>Atlético Madrid</td>\n",
       "      <td>36</td>\n",
       "      <td>14</td>\n",
       "    </tr>\n",
       "    <tr>\n",
       "      <th>9</th>\n",
       "      <td>2006</td>\n",
       "      <td>Lionel Messi</td>\n",
       "      <td>Barcelona</td>\n",
       "      <td>26</td>\n",
       "      <td>14</td>\n",
       "    </tr>\n",
       "    <tr>\n",
       "      <th>10</th>\n",
       "      <td>2007</td>\n",
       "      <td>Daniel Güiza</td>\n",
       "      <td>Mallorca</td>\n",
       "      <td>37</td>\n",
       "      <td>27</td>\n",
       "    </tr>\n",
       "  </tbody>\n",
       "</table>\n",
       "</div>"
      ],
      "text/plain": [
       "    year               player             team  games played  goals scored\n",
       "0   2006  Ruud van Nistelrooy      Real Madrid            37            25\n",
       "1   2006         Diego Milito    Real Zaragoza            37            23\n",
       "2   2006           Ronaldinho        Barcelona            32            21\n",
       "3   2006     Frederic Kanouté       Sevilla FC            32            21\n",
       "4   2006         Diego Forlán       Villarreal            36            19\n",
       "5   2006          David Villa         Valencia            36            16\n",
       "6   2006      Fernando Baiano       Celta Vigo            35            15\n",
       "7   2006          Raúl Tamudo         Espanyol            31            15\n",
       "8   2006      Fernando Torres  Atlético Madrid            36            14\n",
       "9   2006         Lionel Messi        Barcelona            26            14\n",
       "10  2007         Daniel Güiza         Mallorca            37            27"
      ]
     },
     "execution_count": 260,
     "metadata": {},
     "output_type": "execute_result"
    }
   ],
   "source": [
    "df = pd.DataFrame(all_year_outputs, columns=['year', 'player', 'team', 'games played', 'goals scored'])\n",
    "\n",
    "df.head(top_n_players+1)"
   ]
  },
  {
   "cell_type": "code",
   "execution_count": 261,
   "id": "bb7a3894",
   "metadata": {},
   "outputs": [],
   "source": [
    "df['goals per game'] = df['goals scored']/df['games played']"
   ]
  },
  {
   "cell_type": "code",
   "execution_count": 262,
   "id": "e853df9f",
   "metadata": {},
   "outputs": [],
   "source": [
    "df.at[(df['year']==2015) & (df['player']=='Luis Suárez'), 'games played'] = 35\n",
    "df.at[(df['year']==2015) & (df['player']=='Luis Suárez'), 'goals scored'] = 40\n",
    "\n",
    "df.at[(df['year']==2015) & (df['player']=='Cristiano Ronaldo'), 'games played'] = 36\n",
    "df.at[(df['year']==2015) & (df['player']=='Cristiano Ronaldo'), 'goals scored'] = 35\n",
    "\n",
    "df.at[(df['year']==2015) & (df['player']=='Lionel Messi'), 'games played'] = 33\n",
    "df.at[(df['year']==2015) & (df['player']=='Lionel Messi'), 'goals scored'] = 26\n",
    "\n",
    "df.at[(df['year']==2015) & (df['player']=='Neymar'), 'games played'] = 34\n",
    "df.at[(df['year']==2015) & (df['player']=='Neymar'), 'goals scored'] = 24\n",
    "\n",
    "df.at[(df['year']==2015) & (df['player']=='Karim Benzema'), 'games played'] = 27\n",
    "df.at[(df['year']==2015) & (df['player']=='Karim Benzema'), 'goals scored'] = 24\n",
    "\n",
    "df.at[(df['year']==2015) & (df['player']=='Antoine Griezmann'), 'games played'] = 38\n",
    "df.at[(df['year']==2015) & (df['player']=='Antoine Griezmann'), 'goals scored'] = 22\n",
    "\n",
    "df.at[(df['year']==2015) & (df['player']=='Aritz Aduriz'), 'games played'] = 34\n",
    "df.at[(df['year']==2015) & (df['player']=='Aritz Aduriz'), 'goals scored'] = 20\n",
    "\n",
    "df.at[(df['year']==2015) & (df['player']=='Rubén Castro'), 'games played'] = 38\n",
    "df.at[(df['year']==2015) & (df['player']=='Rubén Castro'), 'goals scored'] = 19\n",
    "\n",
    "df.at[(df['year']==2015) & (df['player']=='Gareth Bale'), 'games played'] = 23\n",
    "df.at[(df['year']==2015) & (df['player']=='Gareth Bale'), 'goals scored'] = 19\n",
    "\n",
    "df.at[(df['year']==2015) & (df['player']=='Borja Bastón'), 'games played'] = 36\n",
    "df.at[(df['year']==2015) & (df['player']=='Borja Bastón'), 'goals scored'] = 18\n",
    "\n",
    "df.drop(df[df['games played']>39].index, inplace = True)"
   ]
  },
  {
   "cell_type": "code",
   "execution_count": 263,
   "id": "f003e86e",
   "metadata": {},
   "outputs": [
    {
     "data": {
      "text/html": [
       "<div>\n",
       "<style scoped>\n",
       "    .dataframe tbody tr th:only-of-type {\n",
       "        vertical-align: middle;\n",
       "    }\n",
       "\n",
       "    .dataframe tbody tr th {\n",
       "        vertical-align: top;\n",
       "    }\n",
       "\n",
       "    .dataframe thead th {\n",
       "        text-align: right;\n",
       "    }\n",
       "</style>\n",
       "<table border=\"1\" class=\"dataframe\">\n",
       "  <thead>\n",
       "    <tr style=\"text-align: right;\">\n",
       "      <th></th>\n",
       "      <th>year</th>\n",
       "      <th>player</th>\n",
       "      <th>team</th>\n",
       "      <th>games played</th>\n",
       "      <th>goals scored</th>\n",
       "      <th>goals per game</th>\n",
       "    </tr>\n",
       "  </thead>\n",
       "  <tbody>\n",
       "    <tr>\n",
       "      <th>90</th>\n",
       "      <td>2015</td>\n",
       "      <td>Luis Suárez</td>\n",
       "      <td>Barcelona</td>\n",
       "      <td>35</td>\n",
       "      <td>40</td>\n",
       "      <td>1.14</td>\n",
       "    </tr>\n",
       "    <tr>\n",
       "      <th>91</th>\n",
       "      <td>2015</td>\n",
       "      <td>Cristiano Ronaldo</td>\n",
       "      <td>Real Madrid</td>\n",
       "      <td>36</td>\n",
       "      <td>35</td>\n",
       "      <td>0.97</td>\n",
       "    </tr>\n",
       "    <tr>\n",
       "      <th>92</th>\n",
       "      <td>2015</td>\n",
       "      <td>Lionel Messi</td>\n",
       "      <td>Barcelona</td>\n",
       "      <td>33</td>\n",
       "      <td>26</td>\n",
       "      <td>0.79</td>\n",
       "    </tr>\n",
       "    <tr>\n",
       "      <th>93</th>\n",
       "      <td>2015</td>\n",
       "      <td>Neymar</td>\n",
       "      <td>Barcelona</td>\n",
       "      <td>34</td>\n",
       "      <td>24</td>\n",
       "      <td>0.71</td>\n",
       "    </tr>\n",
       "    <tr>\n",
       "      <th>94</th>\n",
       "      <td>2015</td>\n",
       "      <td>Karim Benzema</td>\n",
       "      <td>Real Madrid</td>\n",
       "      <td>27</td>\n",
       "      <td>24</td>\n",
       "      <td>0.89</td>\n",
       "    </tr>\n",
       "    <tr>\n",
       "      <th>95</th>\n",
       "      <td>2015</td>\n",
       "      <td>Antoine Griezmann</td>\n",
       "      <td>Atlético Madrid</td>\n",
       "      <td>38</td>\n",
       "      <td>22</td>\n",
       "      <td>0.58</td>\n",
       "    </tr>\n",
       "    <tr>\n",
       "      <th>96</th>\n",
       "      <td>2015</td>\n",
       "      <td>Aritz Aduriz</td>\n",
       "      <td>Athletic Club</td>\n",
       "      <td>34</td>\n",
       "      <td>20</td>\n",
       "      <td>0.59</td>\n",
       "    </tr>\n",
       "    <tr>\n",
       "      <th>97</th>\n",
       "      <td>2015</td>\n",
       "      <td>Rubén Castro</td>\n",
       "      <td>Real Betis</td>\n",
       "      <td>38</td>\n",
       "      <td>19</td>\n",
       "      <td>0.50</td>\n",
       "    </tr>\n",
       "    <tr>\n",
       "      <th>98</th>\n",
       "      <td>2015</td>\n",
       "      <td>Gareth Bale</td>\n",
       "      <td>Real Madrid</td>\n",
       "      <td>23</td>\n",
       "      <td>19</td>\n",
       "      <td>0.83</td>\n",
       "    </tr>\n",
       "    <tr>\n",
       "      <th>99</th>\n",
       "      <td>2015</td>\n",
       "      <td>Borja Bastón</td>\n",
       "      <td>Eibar</td>\n",
       "      <td>36</td>\n",
       "      <td>18</td>\n",
       "      <td>0.50</td>\n",
       "    </tr>\n",
       "  </tbody>\n",
       "</table>\n",
       "</div>"
      ],
      "text/plain": [
       "    year             player             team  games played  goals scored  \\\n",
       "90  2015        Luis Suárez        Barcelona            35            40   \n",
       "91  2015  Cristiano Ronaldo      Real Madrid            36            35   \n",
       "92  2015       Lionel Messi        Barcelona            33            26   \n",
       "93  2015             Neymar        Barcelona            34            24   \n",
       "94  2015      Karim Benzema      Real Madrid            27            24   \n",
       "95  2015  Antoine Griezmann  Atlético Madrid            38            22   \n",
       "96  2015       Aritz Aduriz    Athletic Club            34            20   \n",
       "97  2015       Rubén Castro       Real Betis            38            19   \n",
       "98  2015        Gareth Bale      Real Madrid            23            19   \n",
       "99  2015       Borja Bastón            Eibar            36            18   \n",
       "\n",
       "    goals per game  \n",
       "90            1.14  \n",
       "91            0.97  \n",
       "92            0.79  \n",
       "93            0.71  \n",
       "94            0.89  \n",
       "95            0.58  \n",
       "96            0.59  \n",
       "97            0.50  \n",
       "98            0.83  \n",
       "99            0.50  "
      ]
     },
     "execution_count": 263,
     "metadata": {},
     "output_type": "execute_result"
    }
   ],
   "source": [
    "df.loc[df['year']==2015]"
   ]
  },
  {
   "cell_type": "code",
   "execution_count": 265,
   "id": "a0df5a29",
   "metadata": {
    "scrolled": true
   },
   "outputs": [
    {
     "data": {
      "text/html": [
       "<div>\n",
       "<style scoped>\n",
       "    .dataframe tbody tr th:only-of-type {\n",
       "        vertical-align: middle;\n",
       "    }\n",
       "\n",
       "    .dataframe tbody tr th {\n",
       "        vertical-align: top;\n",
       "    }\n",
       "\n",
       "    .dataframe thead th {\n",
       "        text-align: right;\n",
       "    }\n",
       "</style>\n",
       "<table border=\"1\" class=\"dataframe\">\n",
       "  <thead>\n",
       "    <tr style=\"text-align: right;\">\n",
       "      <th></th>\n",
       "      <th>year</th>\n",
       "      <th>player</th>\n",
       "      <th>team</th>\n",
       "      <th>games played</th>\n",
       "      <th>goals scored</th>\n",
       "      <th>goals per game</th>\n",
       "    </tr>\n",
       "  </thead>\n",
       "  <tbody>\n",
       "    <tr>\n",
       "      <th>0</th>\n",
       "      <td>2006</td>\n",
       "      <td>Ruud van Nistelrooy</td>\n",
       "      <td>Real Madrid</td>\n",
       "      <td>37</td>\n",
       "      <td>25</td>\n",
       "      <td>0.68</td>\n",
       "    </tr>\n",
       "    <tr>\n",
       "      <th>1</th>\n",
       "      <td>2006</td>\n",
       "      <td>Diego Milito</td>\n",
       "      <td>Real Zaragoza</td>\n",
       "      <td>37</td>\n",
       "      <td>23</td>\n",
       "      <td>0.62</td>\n",
       "    </tr>\n",
       "    <tr>\n",
       "      <th>2</th>\n",
       "      <td>2006</td>\n",
       "      <td>Ronaldinho</td>\n",
       "      <td>Barcelona</td>\n",
       "      <td>32</td>\n",
       "      <td>21</td>\n",
       "      <td>0.66</td>\n",
       "    </tr>\n",
       "    <tr>\n",
       "      <th>3</th>\n",
       "      <td>2006</td>\n",
       "      <td>Frederic Kanouté</td>\n",
       "      <td>Sevilla FC</td>\n",
       "      <td>32</td>\n",
       "      <td>21</td>\n",
       "      <td>0.66</td>\n",
       "    </tr>\n",
       "    <tr>\n",
       "      <th>4</th>\n",
       "      <td>2006</td>\n",
       "      <td>Diego Forlán</td>\n",
       "      <td>Villarreal</td>\n",
       "      <td>36</td>\n",
       "      <td>19</td>\n",
       "      <td>0.53</td>\n",
       "    </tr>\n",
       "    <tr>\n",
       "      <th>5</th>\n",
       "      <td>2006</td>\n",
       "      <td>David Villa</td>\n",
       "      <td>Valencia</td>\n",
       "      <td>36</td>\n",
       "      <td>16</td>\n",
       "      <td>0.44</td>\n",
       "    </tr>\n",
       "    <tr>\n",
       "      <th>6</th>\n",
       "      <td>2006</td>\n",
       "      <td>Fernando Baiano</td>\n",
       "      <td>Celta Vigo</td>\n",
       "      <td>35</td>\n",
       "      <td>15</td>\n",
       "      <td>0.43</td>\n",
       "    </tr>\n",
       "    <tr>\n",
       "      <th>7</th>\n",
       "      <td>2006</td>\n",
       "      <td>Raúl Tamudo</td>\n",
       "      <td>Espanyol</td>\n",
       "      <td>31</td>\n",
       "      <td>15</td>\n",
       "      <td>0.48</td>\n",
       "    </tr>\n",
       "    <tr>\n",
       "      <th>8</th>\n",
       "      <td>2006</td>\n",
       "      <td>Fernando Torres</td>\n",
       "      <td>Atlético Madrid</td>\n",
       "      <td>36</td>\n",
       "      <td>14</td>\n",
       "      <td>0.39</td>\n",
       "    </tr>\n",
       "    <tr>\n",
       "      <th>9</th>\n",
       "      <td>2006</td>\n",
       "      <td>Lionel Messi</td>\n",
       "      <td>Barcelona</td>\n",
       "      <td>26</td>\n",
       "      <td>14</td>\n",
       "      <td>0.54</td>\n",
       "    </tr>\n",
       "    <tr>\n",
       "      <th>10</th>\n",
       "      <td>2007</td>\n",
       "      <td>Daniel Güiza</td>\n",
       "      <td>Mallorca</td>\n",
       "      <td>37</td>\n",
       "      <td>27</td>\n",
       "      <td>0.73</td>\n",
       "    </tr>\n",
       "    <tr>\n",
       "      <th>11</th>\n",
       "      <td>2007</td>\n",
       "      <td>Luis Fabiano</td>\n",
       "      <td>Sevilla FC</td>\n",
       "      <td>30</td>\n",
       "      <td>24</td>\n",
       "      <td>0.80</td>\n",
       "    </tr>\n",
       "    <tr>\n",
       "      <th>12</th>\n",
       "      <td>2007</td>\n",
       "      <td>Sergio Agüero</td>\n",
       "      <td>Atlético Madrid</td>\n",
       "      <td>38</td>\n",
       "      <td>19</td>\n",
       "      <td>0.50</td>\n",
       "    </tr>\n",
       "    <tr>\n",
       "      <th>13</th>\n",
       "      <td>2007</td>\n",
       "      <td>Raúl</td>\n",
       "      <td>Real Madrid</td>\n",
       "      <td>37</td>\n",
       "      <td>18</td>\n",
       "      <td>0.49</td>\n",
       "    </tr>\n",
       "    <tr>\n",
       "      <th>14</th>\n",
       "      <td>2007</td>\n",
       "      <td>Nihat Kahveci</td>\n",
       "      <td>Villarreal</td>\n",
       "      <td>34</td>\n",
       "      <td>18</td>\n",
       "      <td>0.53</td>\n",
       "    </tr>\n",
       "    <tr>\n",
       "      <th>15</th>\n",
       "      <td>2007</td>\n",
       "      <td>David Villa</td>\n",
       "      <td>Valencia</td>\n",
       "      <td>28</td>\n",
       "      <td>18</td>\n",
       "      <td>0.64</td>\n",
       "    </tr>\n",
       "    <tr>\n",
       "      <th>16</th>\n",
       "      <td>2007</td>\n",
       "      <td>Ricardo Oliveira</td>\n",
       "      <td>Real Zaragoza</td>\n",
       "      <td>37</td>\n",
       "      <td>17</td>\n",
       "      <td>0.46</td>\n",
       "    </tr>\n",
       "    <tr>\n",
       "      <th>17</th>\n",
       "      <td>2007</td>\n",
       "      <td>Diego Forlán</td>\n",
       "      <td>Atlético Madrid</td>\n",
       "      <td>36</td>\n",
       "      <td>16</td>\n",
       "      <td>0.44</td>\n",
       "    </tr>\n",
       "    <tr>\n",
       "      <th>18</th>\n",
       "      <td>2007</td>\n",
       "      <td>Frederic Kanouté</td>\n",
       "      <td>Sevilla FC</td>\n",
       "      <td>30</td>\n",
       "      <td>16</td>\n",
       "      <td>0.53</td>\n",
       "    </tr>\n",
       "    <tr>\n",
       "      <th>19</th>\n",
       "      <td>2007</td>\n",
       "      <td>Ruud van Nistelrooy</td>\n",
       "      <td>Real Madrid</td>\n",
       "      <td>24</td>\n",
       "      <td>16</td>\n",
       "      <td>0.67</td>\n",
       "    </tr>\n",
       "  </tbody>\n",
       "</table>\n",
       "</div>"
      ],
      "text/plain": [
       "    year               player             team  games played  goals scored  \\\n",
       "0   2006  Ruud van Nistelrooy      Real Madrid            37            25   \n",
       "1   2006         Diego Milito    Real Zaragoza            37            23   \n",
       "2   2006           Ronaldinho        Barcelona            32            21   \n",
       "3   2006     Frederic Kanouté       Sevilla FC            32            21   \n",
       "4   2006         Diego Forlán       Villarreal            36            19   \n",
       "5   2006          David Villa         Valencia            36            16   \n",
       "6   2006      Fernando Baiano       Celta Vigo            35            15   \n",
       "7   2006          Raúl Tamudo         Espanyol            31            15   \n",
       "8   2006      Fernando Torres  Atlético Madrid            36            14   \n",
       "9   2006         Lionel Messi        Barcelona            26            14   \n",
       "10  2007         Daniel Güiza         Mallorca            37            27   \n",
       "11  2007         Luis Fabiano       Sevilla FC            30            24   \n",
       "12  2007        Sergio Agüero  Atlético Madrid            38            19   \n",
       "13  2007                 Raúl      Real Madrid            37            18   \n",
       "14  2007        Nihat Kahveci       Villarreal            34            18   \n",
       "15  2007          David Villa         Valencia            28            18   \n",
       "16  2007     Ricardo Oliveira    Real Zaragoza            37            17   \n",
       "17  2007         Diego Forlán  Atlético Madrid            36            16   \n",
       "18  2007     Frederic Kanouté       Sevilla FC            30            16   \n",
       "19  2007  Ruud van Nistelrooy      Real Madrid            24            16   \n",
       "\n",
       "    goals per game  \n",
       "0             0.68  \n",
       "1             0.62  \n",
       "2             0.66  \n",
       "3             0.66  \n",
       "4             0.53  \n",
       "5             0.44  \n",
       "6             0.43  \n",
       "7             0.48  \n",
       "8             0.39  \n",
       "9             0.54  \n",
       "10            0.73  \n",
       "11            0.80  \n",
       "12            0.50  \n",
       "13            0.49  \n",
       "14            0.53  \n",
       "15            0.64  \n",
       "16            0.46  \n",
       "17            0.44  \n",
       "18            0.53  \n",
       "19            0.67  "
      ]
     },
     "execution_count": 265,
     "metadata": {},
     "output_type": "execute_result"
    }
   ],
   "source": [
    "df.head(20)"
   ]
  },
  {
   "cell_type": "code",
   "execution_count": 266,
   "id": "37e13bcd",
   "metadata": {
    "scrolled": true
   },
   "outputs": [
    {
     "data": {
      "text/plain": [
       "(130, 6)"
      ]
     },
     "execution_count": 266,
     "metadata": {},
     "output_type": "execute_result"
    }
   ],
   "source": [
    "df.shape"
   ]
  },
  {
   "cell_type": "markdown",
   "id": "8c1db790",
   "metadata": {},
   "source": [
    "\n",
    "\n",
    "\n",
    "# Plots:"
   ]
  },
  {
   "cell_type": "code",
   "execution_count": 267,
   "id": "975eab2e",
   "metadata": {
    "scrolled": true
   },
   "outputs": [],
   "source": [
    "import numpy as np\n",
    "import plotly.express as px\n",
    "import seaborn as sns\n",
    "import matplotlib.pyplot as plt"
   ]
  },
  {
   "cell_type": "code",
   "execution_count": 268,
   "id": "e1ef906b",
   "metadata": {},
   "outputs": [],
   "source": [
    "pd.options.display.float_format = '{:,.2f}'.format"
   ]
  },
  {
   "cell_type": "code",
   "execution_count": 269,
   "id": "7bfc597c",
   "metadata": {},
   "outputs": [
    {
     "name": "stdout",
     "output_type": "stream",
     "text": [
      "Any NaN values among the data? False\n"
     ]
    }
   ],
   "source": [
    "print(f'Any NaN values among the data? {df.isna().values.any()}')"
   ]
  },
  {
   "cell_type": "code",
   "execution_count": 270,
   "id": "fd4074ff",
   "metadata": {
    "scrolled": false
   },
   "outputs": [
    {
     "data": {
      "application/vnd.plotly.v1+json": {
       "config": {
        "plotlyServerURL": "https://plot.ly"
       },
       "data": [
        {
         "hovertemplate": "<b>%{hovertext}</b><br><br>year=%{x}<br>goals scored=%{y}<extra></extra>",
         "hovertext": [
          "Ruud van Nistelrooy",
          "Diego Milito",
          "Ronaldinho",
          "Frederic Kanouté",
          "Diego Forlán",
          "David Villa",
          "Fernando Baiano",
          "Raúl Tamudo",
          "Fernando Torres",
          "Lionel Messi"
         ],
         "legendgroup": "2006",
         "line": {
          "color": "#636efa",
          "dash": "solid"
         },
         "marker": {
          "symbol": "circle"
         },
         "mode": "lines+markers",
         "name": "2006",
         "orientation": "v",
         "showlegend": true,
         "type": "scatter",
         "x": [
          2006,
          2006,
          2006,
          2006,
          2006,
          2006,
          2006,
          2006,
          2006,
          2006
         ],
         "xaxis": "x",
         "y": [
          25,
          23,
          21,
          21,
          19,
          16,
          15,
          15,
          14,
          14
         ],
         "yaxis": "y"
        },
        {
         "hovertemplate": "<b>%{hovertext}</b><br><br>year=%{x}<br>goals scored=%{y}<extra></extra>",
         "hovertext": [
          "Daniel Güiza",
          "Luis Fabiano",
          "Sergio Agüero",
          "Raúl",
          "Nihat Kahveci",
          "David Villa",
          "Ricardo Oliveira",
          "Diego Forlán",
          "Frederic Kanouté",
          "Ruud van Nistelrooy"
         ],
         "legendgroup": "2007",
         "line": {
          "color": "#EF553B",
          "dash": "solid"
         },
         "marker": {
          "symbol": "circle"
         },
         "mode": "lines+markers",
         "name": "2007",
         "orientation": "v",
         "showlegend": true,
         "type": "scatter",
         "x": [
          2007,
          2007,
          2007,
          2007,
          2007,
          2007,
          2007,
          2007,
          2007,
          2007
         ],
         "xaxis": "x",
         "y": [
          27,
          24,
          19,
          18,
          18,
          18,
          17,
          16,
          16,
          16
         ],
         "yaxis": "y"
        },
        {
         "hovertemplate": "<b>%{hovertext}</b><br><br>year=%{x}<br>goals scored=%{y}<extra></extra>",
         "hovertext": [
          "Diego Forlán",
          "Samuel Eto'o",
          "David Villa",
          "Lionel Messi",
          "Gonzalo Higuaín",
          "Álvaro Negredo",
          "Thierry Henry",
          "Raúl",
          "Frederic Kanouté",
          "Sergio Agüero"
         ],
         "legendgroup": "2008",
         "line": {
          "color": "#00cc96",
          "dash": "solid"
         },
         "marker": {
          "symbol": "circle"
         },
         "mode": "lines+markers",
         "name": "2008",
         "orientation": "v",
         "showlegend": true,
         "type": "scatter",
         "x": [
          2008,
          2008,
          2008,
          2008,
          2008,
          2008,
          2008,
          2008,
          2008,
          2008
         ],
         "xaxis": "x",
         "y": [
          32,
          30,
          28,
          23,
          22,
          19,
          19,
          18,
          18,
          17
         ],
         "yaxis": "y"
        },
        {
         "hovertemplate": "<b>%{hovertext}</b><br><br>year=%{x}<br>goals scored=%{y}<extra></extra>",
         "hovertext": [
          "Lionel Messi",
          "Gonzalo Higuaín",
          "Cristiano Ronaldo",
          "David Villa",
          "Diego Forlán",
          "Zlatan Ibrahimovic",
          "Roberto Soldado",
          "Luis Fabiano",
          "Nino",
          "Fernando Llorente"
         ],
         "legendgroup": "2009",
         "line": {
          "color": "#ab63fa",
          "dash": "solid"
         },
         "marker": {
          "symbol": "circle"
         },
         "mode": "lines+markers",
         "name": "2009",
         "orientation": "v",
         "showlegend": true,
         "type": "scatter",
         "x": [
          2009,
          2009,
          2009,
          2009,
          2009,
          2009,
          2009,
          2009,
          2009,
          2009
         ],
         "xaxis": "x",
         "y": [
          34,
          27,
          26,
          21,
          18,
          16,
          16,
          15,
          14,
          14
         ],
         "yaxis": "y"
        },
        {
         "hovertemplate": "<b>%{hovertext}</b><br><br>year=%{x}<br>goals scored=%{y}<extra></extra>",
         "hovertext": [
          "Cristiano Ronaldo",
          "Lionel Messi",
          "Álvaro Negredo",
          "Sergio Agüero",
          "Fernando Llorente",
          "Giuseppe Rossi",
          "David Villa",
          "Roberto Soldado",
          "Karim Benzema",
          "Salomón Rondón"
         ],
         "legendgroup": "2010",
         "line": {
          "color": "#FFA15A",
          "dash": "solid"
         },
         "marker": {
          "symbol": "circle"
         },
         "mode": "lines+markers",
         "name": "2010",
         "orientation": "v",
         "showlegend": true,
         "type": "scatter",
         "x": [
          2010,
          2010,
          2010,
          2010,
          2010,
          2010,
          2010,
          2010,
          2010,
          2010
         ],
         "xaxis": "x",
         "y": [
          40,
          31,
          20,
          20,
          18,
          18,
          18,
          18,
          15,
          14
         ],
         "yaxis": "y"
        },
        {
         "hovertemplate": "<b>%{hovertext}</b><br><br>year=%{x}<br>goals scored=%{y}<extra></extra>",
         "hovertext": [
          "Lionel Messi",
          "Cristiano Ronaldo",
          "Radamel Falcao",
          "Gonzalo Higuaín",
          "Karim Benzema",
          "Roberto Soldado",
          "Fernando Llorente",
          "Rubén Castro",
          "Michu",
          "Arouna Koné"
         ],
         "legendgroup": "2011",
         "line": {
          "color": "#19d3f3",
          "dash": "solid"
         },
         "marker": {
          "symbol": "circle"
         },
         "mode": "lines+markers",
         "name": "2011",
         "orientation": "v",
         "showlegend": true,
         "type": "scatter",
         "x": [
          2011,
          2011,
          2011,
          2011,
          2011,
          2011,
          2011,
          2011,
          2011,
          2011
         ],
         "xaxis": "x",
         "y": [
          50,
          46,
          24,
          22,
          21,
          17,
          17,
          16,
          15,
          15
         ],
         "yaxis": "y"
        },
        {
         "hovertemplate": "<b>%{hovertext}</b><br><br>year=%{x}<br>goals scored=%{y}<extra></extra>",
         "hovertext": [
          "Lionel Messi",
          "Cristiano Ronaldo",
          "Radamel Falcao",
          "Álvaro Negredo",
          "Roberto Soldado",
          "Piti",
          "Rubén Castro",
          "Gonzalo Higuaín",
          "Hélder Postiga",
          "Aritz Aduriz"
         ],
         "legendgroup": "2012",
         "line": {
          "color": "#FF6692",
          "dash": "solid"
         },
         "marker": {
          "symbol": "circle"
         },
         "mode": "lines+markers",
         "name": "2012",
         "orientation": "v",
         "showlegend": true,
         "type": "scatter",
         "x": [
          2012,
          2012,
          2012,
          2012,
          2012,
          2012,
          2012,
          2012,
          2012,
          2012
         ],
         "xaxis": "x",
         "y": [
          46,
          34,
          28,
          25,
          24,
          18,
          18,
          16,
          14,
          14
         ],
         "yaxis": "y"
        },
        {
         "hovertemplate": "<b>%{hovertext}</b><br><br>year=%{x}<br>goals scored=%{y}<extra></extra>",
         "hovertext": [
          "Cristiano Ronaldo",
          "Lionel Messi",
          "Diego Costa",
          "Alexis Sánchez",
          "Karim Benzema",
          "Carlos Vela",
          "Antoine Griezmann",
          "Aritz Aduriz",
          "Javi Guerra",
          "Pedro"
         ],
         "legendgroup": "2013",
         "line": {
          "color": "#B6E880",
          "dash": "solid"
         },
         "marker": {
          "symbol": "circle"
         },
         "mode": "lines+markers",
         "name": "2013",
         "orientation": "v",
         "showlegend": true,
         "type": "scatter",
         "x": [
          2013,
          2013,
          2013,
          2013,
          2013,
          2013,
          2013,
          2013,
          2013,
          2013
         ],
         "xaxis": "x",
         "y": [
          31,
          28,
          27,
          19,
          17,
          16,
          16,
          16,
          15,
          15
         ],
         "yaxis": "y"
        },
        {
         "hovertemplate": "<b>%{hovertext}</b><br><br>year=%{x}<br>goals scored=%{y}<extra></extra>",
         "hovertext": [
          "Cristiano Ronaldo",
          "Lionel Messi",
          "Antoine Griezmann",
          "Neymar",
          "Carlos Bacca",
          "Aritz Aduriz",
          "Alberto Bueno",
          "Luis Suárez",
          "Karim Benzema",
          "Sergio García"
         ],
         "legendgroup": "2014",
         "line": {
          "color": "#FF97FF",
          "dash": "solid"
         },
         "marker": {
          "symbol": "circle"
         },
         "mode": "lines+markers",
         "name": "2014",
         "orientation": "v",
         "showlegend": true,
         "type": "scatter",
         "x": [
          2014,
          2014,
          2014,
          2014,
          2014,
          2014,
          2014,
          2014,
          2014,
          2014
         ],
         "xaxis": "x",
         "y": [
          48,
          43,
          22,
          22,
          20,
          18,
          17,
          16,
          15,
          14
         ],
         "yaxis": "y"
        },
        {
         "hovertemplate": "<b>%{hovertext}</b><br><br>year=%{x}<br>goals scored=%{y}<extra></extra>",
         "hovertext": [
          "Luis Suárez",
          "Cristiano Ronaldo",
          "Lionel Messi",
          "Neymar",
          "Karim Benzema",
          "Antoine Griezmann",
          "Aritz Aduriz",
          "Rubén Castro",
          "Gareth Bale",
          "Borja Bastón"
         ],
         "legendgroup": "2015",
         "line": {
          "color": "#FECB52",
          "dash": "solid"
         },
         "marker": {
          "symbol": "circle"
         },
         "mode": "lines+markers",
         "name": "2015",
         "orientation": "v",
         "showlegend": true,
         "type": "scatter",
         "x": [
          2015,
          2015,
          2015,
          2015,
          2015,
          2015,
          2015,
          2015,
          2015,
          2015
         ],
         "xaxis": "x",
         "y": [
          40,
          35,
          26,
          24,
          24,
          22,
          20,
          19,
          19,
          18
         ],
         "yaxis": "y"
        },
        {
         "hovertemplate": "<b>%{hovertext}</b><br><br>year=%{x}<br>goals scored=%{y}<extra></extra>",
         "hovertext": [
          "Lionel Messi",
          "Luis Suárez",
          "Cristiano Ronaldo",
          "Iago Aspas",
          "Antoine Griezmann",
          "Aritz Aduriz",
          "Álvaro Morata",
          "Sandro Ramírez",
          "Gerard Moreno",
          "Rubén Castro"
         ],
         "legendgroup": "2016",
         "line": {
          "color": "#636efa",
          "dash": "solid"
         },
         "marker": {
          "symbol": "circle"
         },
         "mode": "lines+markers",
         "name": "2016",
         "orientation": "v",
         "showlegend": true,
         "type": "scatter",
         "x": [
          2016,
          2016,
          2016,
          2016,
          2016,
          2016,
          2016,
          2016,
          2016,
          2016
         ],
         "xaxis": "x",
         "y": [
          37,
          29,
          25,
          19,
          16,
          16,
          15,
          14,
          13,
          13
         ],
         "yaxis": "y"
        },
        {
         "hovertemplate": "<b>%{hovertext}</b><br><br>year=%{x}<br>goals scored=%{y}<extra></extra>",
         "hovertext": [
          "Lionel Messi",
          "Cristiano Ronaldo",
          "Luis Suárez",
          "Iago Aspas",
          "Cristhian Stuani",
          "Antoine Griezmann",
          "Maxi Gómez",
          "Gerard Moreno",
          "Rodrigo",
          "Gareth Bale"
         ],
         "legendgroup": "2017",
         "line": {
          "color": "#EF553B",
          "dash": "solid"
         },
         "marker": {
          "symbol": "circle"
         },
         "mode": "lines+markers",
         "name": "2017",
         "orientation": "v",
         "showlegend": true,
         "type": "scatter",
         "x": [
          2017,
          2017,
          2017,
          2017,
          2017,
          2017,
          2017,
          2017,
          2017,
          2017
         ],
         "xaxis": "x",
         "y": [
          34,
          26,
          25,
          22,
          21,
          19,
          17,
          16,
          16,
          16
         ],
         "yaxis": "y"
        },
        {
         "hovertemplate": "<b>%{hovertext}</b><br><br>year=%{x}<br>goals scored=%{y}<extra></extra>",
         "hovertext": [
          "Lionel Messi",
          "Karim Benzema",
          "Luis Suárez",
          "Iago Aspas",
          "Cristhian Stuani",
          "Wissam Ben Yedder",
          "Borja Iglesias",
          "Antoine Griezmann",
          "Jorge Molina",
          "Jaime Mata"
         ],
         "legendgroup": "2018",
         "line": {
          "color": "#00cc96",
          "dash": "solid"
         },
         "marker": {
          "symbol": "circle"
         },
         "mode": "lines+markers",
         "name": "2018",
         "orientation": "v",
         "showlegend": true,
         "type": "scatter",
         "x": [
          2018,
          2018,
          2018,
          2018,
          2018,
          2018,
          2018,
          2018,
          2018,
          2018
         ],
         "xaxis": "x",
         "y": [
          36,
          21,
          21,
          20,
          19,
          18,
          17,
          15,
          14,
          14
         ],
         "yaxis": "y"
        }
       ],
       "layout": {
        "legend": {
         "title": {
          "text": "year"
         },
         "tracegroupgap": 0
        },
        "template": {
         "data": {
          "bar": [
           {
            "error_x": {
             "color": "#2a3f5f"
            },
            "error_y": {
             "color": "#2a3f5f"
            },
            "marker": {
             "line": {
              "color": "#E5ECF6",
              "width": 0.5
             },
             "pattern": {
              "fillmode": "overlay",
              "size": 10,
              "solidity": 0.2
             }
            },
            "type": "bar"
           }
          ],
          "barpolar": [
           {
            "marker": {
             "line": {
              "color": "#E5ECF6",
              "width": 0.5
             },
             "pattern": {
              "fillmode": "overlay",
              "size": 10,
              "solidity": 0.2
             }
            },
            "type": "barpolar"
           }
          ],
          "carpet": [
           {
            "aaxis": {
             "endlinecolor": "#2a3f5f",
             "gridcolor": "white",
             "linecolor": "white",
             "minorgridcolor": "white",
             "startlinecolor": "#2a3f5f"
            },
            "baxis": {
             "endlinecolor": "#2a3f5f",
             "gridcolor": "white",
             "linecolor": "white",
             "minorgridcolor": "white",
             "startlinecolor": "#2a3f5f"
            },
            "type": "carpet"
           }
          ],
          "choropleth": [
           {
            "colorbar": {
             "outlinewidth": 0,
             "ticks": ""
            },
            "type": "choropleth"
           }
          ],
          "contour": [
           {
            "colorbar": {
             "outlinewidth": 0,
             "ticks": ""
            },
            "colorscale": [
             [
              0,
              "#0d0887"
             ],
             [
              0.1111111111111111,
              "#46039f"
             ],
             [
              0.2222222222222222,
              "#7201a8"
             ],
             [
              0.3333333333333333,
              "#9c179e"
             ],
             [
              0.4444444444444444,
              "#bd3786"
             ],
             [
              0.5555555555555556,
              "#d8576b"
             ],
             [
              0.6666666666666666,
              "#ed7953"
             ],
             [
              0.7777777777777778,
              "#fb9f3a"
             ],
             [
              0.8888888888888888,
              "#fdca26"
             ],
             [
              1,
              "#f0f921"
             ]
            ],
            "type": "contour"
           }
          ],
          "contourcarpet": [
           {
            "colorbar": {
             "outlinewidth": 0,
             "ticks": ""
            },
            "type": "contourcarpet"
           }
          ],
          "heatmap": [
           {
            "colorbar": {
             "outlinewidth": 0,
             "ticks": ""
            },
            "colorscale": [
             [
              0,
              "#0d0887"
             ],
             [
              0.1111111111111111,
              "#46039f"
             ],
             [
              0.2222222222222222,
              "#7201a8"
             ],
             [
              0.3333333333333333,
              "#9c179e"
             ],
             [
              0.4444444444444444,
              "#bd3786"
             ],
             [
              0.5555555555555556,
              "#d8576b"
             ],
             [
              0.6666666666666666,
              "#ed7953"
             ],
             [
              0.7777777777777778,
              "#fb9f3a"
             ],
             [
              0.8888888888888888,
              "#fdca26"
             ],
             [
              1,
              "#f0f921"
             ]
            ],
            "type": "heatmap"
           }
          ],
          "heatmapgl": [
           {
            "colorbar": {
             "outlinewidth": 0,
             "ticks": ""
            },
            "colorscale": [
             [
              0,
              "#0d0887"
             ],
             [
              0.1111111111111111,
              "#46039f"
             ],
             [
              0.2222222222222222,
              "#7201a8"
             ],
             [
              0.3333333333333333,
              "#9c179e"
             ],
             [
              0.4444444444444444,
              "#bd3786"
             ],
             [
              0.5555555555555556,
              "#d8576b"
             ],
             [
              0.6666666666666666,
              "#ed7953"
             ],
             [
              0.7777777777777778,
              "#fb9f3a"
             ],
             [
              0.8888888888888888,
              "#fdca26"
             ],
             [
              1,
              "#f0f921"
             ]
            ],
            "type": "heatmapgl"
           }
          ],
          "histogram": [
           {
            "marker": {
             "pattern": {
              "fillmode": "overlay",
              "size": 10,
              "solidity": 0.2
             }
            },
            "type": "histogram"
           }
          ],
          "histogram2d": [
           {
            "colorbar": {
             "outlinewidth": 0,
             "ticks": ""
            },
            "colorscale": [
             [
              0,
              "#0d0887"
             ],
             [
              0.1111111111111111,
              "#46039f"
             ],
             [
              0.2222222222222222,
              "#7201a8"
             ],
             [
              0.3333333333333333,
              "#9c179e"
             ],
             [
              0.4444444444444444,
              "#bd3786"
             ],
             [
              0.5555555555555556,
              "#d8576b"
             ],
             [
              0.6666666666666666,
              "#ed7953"
             ],
             [
              0.7777777777777778,
              "#fb9f3a"
             ],
             [
              0.8888888888888888,
              "#fdca26"
             ],
             [
              1,
              "#f0f921"
             ]
            ],
            "type": "histogram2d"
           }
          ],
          "histogram2dcontour": [
           {
            "colorbar": {
             "outlinewidth": 0,
             "ticks": ""
            },
            "colorscale": [
             [
              0,
              "#0d0887"
             ],
             [
              0.1111111111111111,
              "#46039f"
             ],
             [
              0.2222222222222222,
              "#7201a8"
             ],
             [
              0.3333333333333333,
              "#9c179e"
             ],
             [
              0.4444444444444444,
              "#bd3786"
             ],
             [
              0.5555555555555556,
              "#d8576b"
             ],
             [
              0.6666666666666666,
              "#ed7953"
             ],
             [
              0.7777777777777778,
              "#fb9f3a"
             ],
             [
              0.8888888888888888,
              "#fdca26"
             ],
             [
              1,
              "#f0f921"
             ]
            ],
            "type": "histogram2dcontour"
           }
          ],
          "mesh3d": [
           {
            "colorbar": {
             "outlinewidth": 0,
             "ticks": ""
            },
            "type": "mesh3d"
           }
          ],
          "parcoords": [
           {
            "line": {
             "colorbar": {
              "outlinewidth": 0,
              "ticks": ""
             }
            },
            "type": "parcoords"
           }
          ],
          "pie": [
           {
            "automargin": true,
            "type": "pie"
           }
          ],
          "scatter": [
           {
            "marker": {
             "colorbar": {
              "outlinewidth": 0,
              "ticks": ""
             }
            },
            "type": "scatter"
           }
          ],
          "scatter3d": [
           {
            "line": {
             "colorbar": {
              "outlinewidth": 0,
              "ticks": ""
             }
            },
            "marker": {
             "colorbar": {
              "outlinewidth": 0,
              "ticks": ""
             }
            },
            "type": "scatter3d"
           }
          ],
          "scattercarpet": [
           {
            "marker": {
             "colorbar": {
              "outlinewidth": 0,
              "ticks": ""
             }
            },
            "type": "scattercarpet"
           }
          ],
          "scattergeo": [
           {
            "marker": {
             "colorbar": {
              "outlinewidth": 0,
              "ticks": ""
             }
            },
            "type": "scattergeo"
           }
          ],
          "scattergl": [
           {
            "marker": {
             "colorbar": {
              "outlinewidth": 0,
              "ticks": ""
             }
            },
            "type": "scattergl"
           }
          ],
          "scattermapbox": [
           {
            "marker": {
             "colorbar": {
              "outlinewidth": 0,
              "ticks": ""
             }
            },
            "type": "scattermapbox"
           }
          ],
          "scatterpolar": [
           {
            "marker": {
             "colorbar": {
              "outlinewidth": 0,
              "ticks": ""
             }
            },
            "type": "scatterpolar"
           }
          ],
          "scatterpolargl": [
           {
            "marker": {
             "colorbar": {
              "outlinewidth": 0,
              "ticks": ""
             }
            },
            "type": "scatterpolargl"
           }
          ],
          "scatterternary": [
           {
            "marker": {
             "colorbar": {
              "outlinewidth": 0,
              "ticks": ""
             }
            },
            "type": "scatterternary"
           }
          ],
          "surface": [
           {
            "colorbar": {
             "outlinewidth": 0,
             "ticks": ""
            },
            "colorscale": [
             [
              0,
              "#0d0887"
             ],
             [
              0.1111111111111111,
              "#46039f"
             ],
             [
              0.2222222222222222,
              "#7201a8"
             ],
             [
              0.3333333333333333,
              "#9c179e"
             ],
             [
              0.4444444444444444,
              "#bd3786"
             ],
             [
              0.5555555555555556,
              "#d8576b"
             ],
             [
              0.6666666666666666,
              "#ed7953"
             ],
             [
              0.7777777777777778,
              "#fb9f3a"
             ],
             [
              0.8888888888888888,
              "#fdca26"
             ],
             [
              1,
              "#f0f921"
             ]
            ],
            "type": "surface"
           }
          ],
          "table": [
           {
            "cells": {
             "fill": {
              "color": "#EBF0F8"
             },
             "line": {
              "color": "white"
             }
            },
            "header": {
             "fill": {
              "color": "#C8D4E3"
             },
             "line": {
              "color": "white"
             }
            },
            "type": "table"
           }
          ]
         },
         "layout": {
          "annotationdefaults": {
           "arrowcolor": "#2a3f5f",
           "arrowhead": 0,
           "arrowwidth": 1
          },
          "autotypenumbers": "strict",
          "coloraxis": {
           "colorbar": {
            "outlinewidth": 0,
            "ticks": ""
           }
          },
          "colorscale": {
           "diverging": [
            [
             0,
             "#8e0152"
            ],
            [
             0.1,
             "#c51b7d"
            ],
            [
             0.2,
             "#de77ae"
            ],
            [
             0.3,
             "#f1b6da"
            ],
            [
             0.4,
             "#fde0ef"
            ],
            [
             0.5,
             "#f7f7f7"
            ],
            [
             0.6,
             "#e6f5d0"
            ],
            [
             0.7,
             "#b8e186"
            ],
            [
             0.8,
             "#7fbc41"
            ],
            [
             0.9,
             "#4d9221"
            ],
            [
             1,
             "#276419"
            ]
           ],
           "sequential": [
            [
             0,
             "#0d0887"
            ],
            [
             0.1111111111111111,
             "#46039f"
            ],
            [
             0.2222222222222222,
             "#7201a8"
            ],
            [
             0.3333333333333333,
             "#9c179e"
            ],
            [
             0.4444444444444444,
             "#bd3786"
            ],
            [
             0.5555555555555556,
             "#d8576b"
            ],
            [
             0.6666666666666666,
             "#ed7953"
            ],
            [
             0.7777777777777778,
             "#fb9f3a"
            ],
            [
             0.8888888888888888,
             "#fdca26"
            ],
            [
             1,
             "#f0f921"
            ]
           ],
           "sequentialminus": [
            [
             0,
             "#0d0887"
            ],
            [
             0.1111111111111111,
             "#46039f"
            ],
            [
             0.2222222222222222,
             "#7201a8"
            ],
            [
             0.3333333333333333,
             "#9c179e"
            ],
            [
             0.4444444444444444,
             "#bd3786"
            ],
            [
             0.5555555555555556,
             "#d8576b"
            ],
            [
             0.6666666666666666,
             "#ed7953"
            ],
            [
             0.7777777777777778,
             "#fb9f3a"
            ],
            [
             0.8888888888888888,
             "#fdca26"
            ],
            [
             1,
             "#f0f921"
            ]
           ]
          },
          "colorway": [
           "#636efa",
           "#EF553B",
           "#00cc96",
           "#ab63fa",
           "#FFA15A",
           "#19d3f3",
           "#FF6692",
           "#B6E880",
           "#FF97FF",
           "#FECB52"
          ],
          "font": {
           "color": "#2a3f5f"
          },
          "geo": {
           "bgcolor": "white",
           "lakecolor": "white",
           "landcolor": "#E5ECF6",
           "showlakes": true,
           "showland": true,
           "subunitcolor": "white"
          },
          "hoverlabel": {
           "align": "left"
          },
          "hovermode": "closest",
          "mapbox": {
           "style": "light"
          },
          "paper_bgcolor": "white",
          "plot_bgcolor": "#E5ECF6",
          "polar": {
           "angularaxis": {
            "gridcolor": "white",
            "linecolor": "white",
            "ticks": ""
           },
           "bgcolor": "#E5ECF6",
           "radialaxis": {
            "gridcolor": "white",
            "linecolor": "white",
            "ticks": ""
           }
          },
          "scene": {
           "xaxis": {
            "backgroundcolor": "#E5ECF6",
            "gridcolor": "white",
            "gridwidth": 2,
            "linecolor": "white",
            "showbackground": true,
            "ticks": "",
            "zerolinecolor": "white"
           },
           "yaxis": {
            "backgroundcolor": "#E5ECF6",
            "gridcolor": "white",
            "gridwidth": 2,
            "linecolor": "white",
            "showbackground": true,
            "ticks": "",
            "zerolinecolor": "white"
           },
           "zaxis": {
            "backgroundcolor": "#E5ECF6",
            "gridcolor": "white",
            "gridwidth": 2,
            "linecolor": "white",
            "showbackground": true,
            "ticks": "",
            "zerolinecolor": "white"
           }
          },
          "shapedefaults": {
           "line": {
            "color": "#2a3f5f"
           }
          },
          "ternary": {
           "aaxis": {
            "gridcolor": "white",
            "linecolor": "white",
            "ticks": ""
           },
           "baxis": {
            "gridcolor": "white",
            "linecolor": "white",
            "ticks": ""
           },
           "bgcolor": "#E5ECF6",
           "caxis": {
            "gridcolor": "white",
            "linecolor": "white",
            "ticks": ""
           }
          },
          "title": {
           "x": 0.05
          },
          "xaxis": {
           "automargin": true,
           "gridcolor": "white",
           "linecolor": "white",
           "ticks": "",
           "title": {
            "standoff": 15
           },
           "zerolinecolor": "white",
           "zerolinewidth": 2
          },
          "yaxis": {
           "automargin": true,
           "gridcolor": "white",
           "linecolor": "white",
           "ticks": "",
           "title": {
            "standoff": 15
           },
           "zerolinecolor": "white",
           "zerolinewidth": 2
          }
         }
        },
        "title": {
         "text": "Top 10 goalscorers La Liga from 2006 to 2018"
        },
        "xaxis": {
         "anchor": "y",
         "categoryarray": [
          2006,
          2007,
          2008,
          2009,
          2010,
          2011,
          2012,
          2013,
          2014,
          2015,
          2016,
          2017,
          2018
         ],
         "categoryorder": "array",
         "domain": [
          0,
          1
         ],
         "title": {
          "text": "Year"
         }
        },
        "yaxis": {
         "anchor": "x",
         "domain": [
          0,
          1
         ],
         "title": {
          "text": "Number of Goals per season"
         }
        }
       }
      },
      "text/html": [
       "<div>                            <div id=\"142cf8a4-c1ab-47d6-9f50-e7f322fd3dd7\" class=\"plotly-graph-div\" style=\"height:525px; width:100%;\"></div>            <script type=\"text/javascript\">                require([\"plotly\"], function(Plotly) {                    window.PLOTLYENV=window.PLOTLYENV || {};                                    if (document.getElementById(\"142cf8a4-c1ab-47d6-9f50-e7f322fd3dd7\")) {                    Plotly.newPlot(                        \"142cf8a4-c1ab-47d6-9f50-e7f322fd3dd7\",                        [{\"hovertemplate\":\"<b>%{hovertext}</b><br><br>year=%{x}<br>goals scored=%{y}<extra></extra>\",\"hovertext\":[\"Ruud van Nistelrooy\",\"Diego Milito\",\"Ronaldinho\",\"Frederic Kanout\\u00e9\",\"Diego Forl\\u00e1n\",\"David Villa\",\"Fernando Baiano\",\"Ra\\u00fal Tamudo\",\"Fernando Torres\",\"Lionel Messi\"],\"legendgroup\":\"2006\",\"line\":{\"color\":\"#636efa\",\"dash\":\"solid\"},\"marker\":{\"symbol\":\"circle\"},\"mode\":\"lines+markers\",\"name\":\"2006\",\"orientation\":\"v\",\"showlegend\":true,\"x\":[2006,2006,2006,2006,2006,2006,2006,2006,2006,2006],\"xaxis\":\"x\",\"y\":[25,23,21,21,19,16,15,15,14,14],\"yaxis\":\"y\",\"type\":\"scatter\"},{\"hovertemplate\":\"<b>%{hovertext}</b><br><br>year=%{x}<br>goals scored=%{y}<extra></extra>\",\"hovertext\":[\"Daniel G\\u00fciza\",\"Luis Fabiano\",\"Sergio Ag\\u00fcero\",\"Ra\\u00fal\",\"Nihat Kahveci\",\"David Villa\",\"Ricardo Oliveira\",\"Diego Forl\\u00e1n\",\"Frederic Kanout\\u00e9\",\"Ruud van Nistelrooy\"],\"legendgroup\":\"2007\",\"line\":{\"color\":\"#EF553B\",\"dash\":\"solid\"},\"marker\":{\"symbol\":\"circle\"},\"mode\":\"lines+markers\",\"name\":\"2007\",\"orientation\":\"v\",\"showlegend\":true,\"x\":[2007,2007,2007,2007,2007,2007,2007,2007,2007,2007],\"xaxis\":\"x\",\"y\":[27,24,19,18,18,18,17,16,16,16],\"yaxis\":\"y\",\"type\":\"scatter\"},{\"hovertemplate\":\"<b>%{hovertext}</b><br><br>year=%{x}<br>goals scored=%{y}<extra></extra>\",\"hovertext\":[\"Diego Forl\\u00e1n\",\"Samuel Eto'o\",\"David Villa\",\"Lionel Messi\",\"Gonzalo Higua\\u00edn\",\"\\u00c1lvaro Negredo\",\"Thierry Henry\",\"Ra\\u00fal\",\"Frederic Kanout\\u00e9\",\"Sergio Ag\\u00fcero\"],\"legendgroup\":\"2008\",\"line\":{\"color\":\"#00cc96\",\"dash\":\"solid\"},\"marker\":{\"symbol\":\"circle\"},\"mode\":\"lines+markers\",\"name\":\"2008\",\"orientation\":\"v\",\"showlegend\":true,\"x\":[2008,2008,2008,2008,2008,2008,2008,2008,2008,2008],\"xaxis\":\"x\",\"y\":[32,30,28,23,22,19,19,18,18,17],\"yaxis\":\"y\",\"type\":\"scatter\"},{\"hovertemplate\":\"<b>%{hovertext}</b><br><br>year=%{x}<br>goals scored=%{y}<extra></extra>\",\"hovertext\":[\"Lionel Messi\",\"Gonzalo Higua\\u00edn\",\"Cristiano Ronaldo\",\"David Villa\",\"Diego Forl\\u00e1n\",\"Zlatan Ibrahimovic\",\"Roberto Soldado\",\"Luis Fabiano\",\"Nino\",\"Fernando Llorente\"],\"legendgroup\":\"2009\",\"line\":{\"color\":\"#ab63fa\",\"dash\":\"solid\"},\"marker\":{\"symbol\":\"circle\"},\"mode\":\"lines+markers\",\"name\":\"2009\",\"orientation\":\"v\",\"showlegend\":true,\"x\":[2009,2009,2009,2009,2009,2009,2009,2009,2009,2009],\"xaxis\":\"x\",\"y\":[34,27,26,21,18,16,16,15,14,14],\"yaxis\":\"y\",\"type\":\"scatter\"},{\"hovertemplate\":\"<b>%{hovertext}</b><br><br>year=%{x}<br>goals scored=%{y}<extra></extra>\",\"hovertext\":[\"Cristiano Ronaldo\",\"Lionel Messi\",\"\\u00c1lvaro Negredo\",\"Sergio Ag\\u00fcero\",\"Fernando Llorente\",\"Giuseppe Rossi\",\"David Villa\",\"Roberto Soldado\",\"Karim Benzema\",\"Salom\\u00f3n Rond\\u00f3n\"],\"legendgroup\":\"2010\",\"line\":{\"color\":\"#FFA15A\",\"dash\":\"solid\"},\"marker\":{\"symbol\":\"circle\"},\"mode\":\"lines+markers\",\"name\":\"2010\",\"orientation\":\"v\",\"showlegend\":true,\"x\":[2010,2010,2010,2010,2010,2010,2010,2010,2010,2010],\"xaxis\":\"x\",\"y\":[40,31,20,20,18,18,18,18,15,14],\"yaxis\":\"y\",\"type\":\"scatter\"},{\"hovertemplate\":\"<b>%{hovertext}</b><br><br>year=%{x}<br>goals scored=%{y}<extra></extra>\",\"hovertext\":[\"Lionel Messi\",\"Cristiano Ronaldo\",\"Radamel Falcao\",\"Gonzalo Higua\\u00edn\",\"Karim Benzema\",\"Roberto Soldado\",\"Fernando Llorente\",\"Rub\\u00e9n Castro\",\"Michu\",\"Arouna Kon\\u00e9\"],\"legendgroup\":\"2011\",\"line\":{\"color\":\"#19d3f3\",\"dash\":\"solid\"},\"marker\":{\"symbol\":\"circle\"},\"mode\":\"lines+markers\",\"name\":\"2011\",\"orientation\":\"v\",\"showlegend\":true,\"x\":[2011,2011,2011,2011,2011,2011,2011,2011,2011,2011],\"xaxis\":\"x\",\"y\":[50,46,24,22,21,17,17,16,15,15],\"yaxis\":\"y\",\"type\":\"scatter\"},{\"hovertemplate\":\"<b>%{hovertext}</b><br><br>year=%{x}<br>goals scored=%{y}<extra></extra>\",\"hovertext\":[\"Lionel Messi\",\"Cristiano Ronaldo\",\"Radamel Falcao\",\"\\u00c1lvaro Negredo\",\"Roberto Soldado\",\"Piti\",\"Rub\\u00e9n Castro\",\"Gonzalo Higua\\u00edn\",\"H\\u00e9lder Postiga\",\"Aritz Aduriz\"],\"legendgroup\":\"2012\",\"line\":{\"color\":\"#FF6692\",\"dash\":\"solid\"},\"marker\":{\"symbol\":\"circle\"},\"mode\":\"lines+markers\",\"name\":\"2012\",\"orientation\":\"v\",\"showlegend\":true,\"x\":[2012,2012,2012,2012,2012,2012,2012,2012,2012,2012],\"xaxis\":\"x\",\"y\":[46,34,28,25,24,18,18,16,14,14],\"yaxis\":\"y\",\"type\":\"scatter\"},{\"hovertemplate\":\"<b>%{hovertext}</b><br><br>year=%{x}<br>goals scored=%{y}<extra></extra>\",\"hovertext\":[\"Cristiano Ronaldo\",\"Lionel Messi\",\"Diego Costa\",\"Alexis S\\u00e1nchez\",\"Karim Benzema\",\"Carlos Vela\",\"Antoine Griezmann\",\"Aritz Aduriz\",\"Javi Guerra\",\"Pedro\"],\"legendgroup\":\"2013\",\"line\":{\"color\":\"#B6E880\",\"dash\":\"solid\"},\"marker\":{\"symbol\":\"circle\"},\"mode\":\"lines+markers\",\"name\":\"2013\",\"orientation\":\"v\",\"showlegend\":true,\"x\":[2013,2013,2013,2013,2013,2013,2013,2013,2013,2013],\"xaxis\":\"x\",\"y\":[31,28,27,19,17,16,16,16,15,15],\"yaxis\":\"y\",\"type\":\"scatter\"},{\"hovertemplate\":\"<b>%{hovertext}</b><br><br>year=%{x}<br>goals scored=%{y}<extra></extra>\",\"hovertext\":[\"Cristiano Ronaldo\",\"Lionel Messi\",\"Antoine Griezmann\",\"Neymar\",\"Carlos Bacca\",\"Aritz Aduriz\",\"Alberto Bueno\",\"Luis Su\\u00e1rez\",\"Karim Benzema\",\"Sergio Garc\\u00eda\"],\"legendgroup\":\"2014\",\"line\":{\"color\":\"#FF97FF\",\"dash\":\"solid\"},\"marker\":{\"symbol\":\"circle\"},\"mode\":\"lines+markers\",\"name\":\"2014\",\"orientation\":\"v\",\"showlegend\":true,\"x\":[2014,2014,2014,2014,2014,2014,2014,2014,2014,2014],\"xaxis\":\"x\",\"y\":[48,43,22,22,20,18,17,16,15,14],\"yaxis\":\"y\",\"type\":\"scatter\"},{\"hovertemplate\":\"<b>%{hovertext}</b><br><br>year=%{x}<br>goals scored=%{y}<extra></extra>\",\"hovertext\":[\"Luis Su\\u00e1rez\",\"Cristiano Ronaldo\",\"Lionel Messi\",\"Neymar\",\"Karim Benzema\",\"Antoine Griezmann\",\"Aritz Aduriz\",\"Rub\\u00e9n Castro\",\"Gareth Bale\",\"Borja Bast\\u00f3n\"],\"legendgroup\":\"2015\",\"line\":{\"color\":\"#FECB52\",\"dash\":\"solid\"},\"marker\":{\"symbol\":\"circle\"},\"mode\":\"lines+markers\",\"name\":\"2015\",\"orientation\":\"v\",\"showlegend\":true,\"x\":[2015,2015,2015,2015,2015,2015,2015,2015,2015,2015],\"xaxis\":\"x\",\"y\":[40,35,26,24,24,22,20,19,19,18],\"yaxis\":\"y\",\"type\":\"scatter\"},{\"hovertemplate\":\"<b>%{hovertext}</b><br><br>year=%{x}<br>goals scored=%{y}<extra></extra>\",\"hovertext\":[\"Lionel Messi\",\"Luis Su\\u00e1rez\",\"Cristiano Ronaldo\",\"Iago Aspas\",\"Antoine Griezmann\",\"Aritz Aduriz\",\"\\u00c1lvaro Morata\",\"Sandro Ram\\u00edrez\",\"Gerard Moreno\",\"Rub\\u00e9n Castro\"],\"legendgroup\":\"2016\",\"line\":{\"color\":\"#636efa\",\"dash\":\"solid\"},\"marker\":{\"symbol\":\"circle\"},\"mode\":\"lines+markers\",\"name\":\"2016\",\"orientation\":\"v\",\"showlegend\":true,\"x\":[2016,2016,2016,2016,2016,2016,2016,2016,2016,2016],\"xaxis\":\"x\",\"y\":[37,29,25,19,16,16,15,14,13,13],\"yaxis\":\"y\",\"type\":\"scatter\"},{\"hovertemplate\":\"<b>%{hovertext}</b><br><br>year=%{x}<br>goals scored=%{y}<extra></extra>\",\"hovertext\":[\"Lionel Messi\",\"Cristiano Ronaldo\",\"Luis Su\\u00e1rez\",\"Iago Aspas\",\"Cristhian Stuani\",\"Antoine Griezmann\",\"Maxi G\\u00f3mez\",\"Gerard Moreno\",\"Rodrigo\",\"Gareth Bale\"],\"legendgroup\":\"2017\",\"line\":{\"color\":\"#EF553B\",\"dash\":\"solid\"},\"marker\":{\"symbol\":\"circle\"},\"mode\":\"lines+markers\",\"name\":\"2017\",\"orientation\":\"v\",\"showlegend\":true,\"x\":[2017,2017,2017,2017,2017,2017,2017,2017,2017,2017],\"xaxis\":\"x\",\"y\":[34,26,25,22,21,19,17,16,16,16],\"yaxis\":\"y\",\"type\":\"scatter\"},{\"hovertemplate\":\"<b>%{hovertext}</b><br><br>year=%{x}<br>goals scored=%{y}<extra></extra>\",\"hovertext\":[\"Lionel Messi\",\"Karim Benzema\",\"Luis Su\\u00e1rez\",\"Iago Aspas\",\"Cristhian Stuani\",\"Wissam Ben Yedder\",\"Borja Iglesias\",\"Antoine Griezmann\",\"Jorge Molina\",\"Jaime Mata\"],\"legendgroup\":\"2018\",\"line\":{\"color\":\"#00cc96\",\"dash\":\"solid\"},\"marker\":{\"symbol\":\"circle\"},\"mode\":\"lines+markers\",\"name\":\"2018\",\"orientation\":\"v\",\"showlegend\":true,\"x\":[2018,2018,2018,2018,2018,2018,2018,2018,2018,2018],\"xaxis\":\"x\",\"y\":[36,21,21,20,19,18,17,15,14,14],\"yaxis\":\"y\",\"type\":\"scatter\"}],                        {\"template\":{\"data\":{\"bar\":[{\"error_x\":{\"color\":\"#2a3f5f\"},\"error_y\":{\"color\":\"#2a3f5f\"},\"marker\":{\"line\":{\"color\":\"#E5ECF6\",\"width\":0.5},\"pattern\":{\"fillmode\":\"overlay\",\"size\":10,\"solidity\":0.2}},\"type\":\"bar\"}],\"barpolar\":[{\"marker\":{\"line\":{\"color\":\"#E5ECF6\",\"width\":0.5},\"pattern\":{\"fillmode\":\"overlay\",\"size\":10,\"solidity\":0.2}},\"type\":\"barpolar\"}],\"carpet\":[{\"aaxis\":{\"endlinecolor\":\"#2a3f5f\",\"gridcolor\":\"white\",\"linecolor\":\"white\",\"minorgridcolor\":\"white\",\"startlinecolor\":\"#2a3f5f\"},\"baxis\":{\"endlinecolor\":\"#2a3f5f\",\"gridcolor\":\"white\",\"linecolor\":\"white\",\"minorgridcolor\":\"white\",\"startlinecolor\":\"#2a3f5f\"},\"type\":\"carpet\"}],\"choropleth\":[{\"colorbar\":{\"outlinewidth\":0,\"ticks\":\"\"},\"type\":\"choropleth\"}],\"contour\":[{\"colorbar\":{\"outlinewidth\":0,\"ticks\":\"\"},\"colorscale\":[[0.0,\"#0d0887\"],[0.1111111111111111,\"#46039f\"],[0.2222222222222222,\"#7201a8\"],[0.3333333333333333,\"#9c179e\"],[0.4444444444444444,\"#bd3786\"],[0.5555555555555556,\"#d8576b\"],[0.6666666666666666,\"#ed7953\"],[0.7777777777777778,\"#fb9f3a\"],[0.8888888888888888,\"#fdca26\"],[1.0,\"#f0f921\"]],\"type\":\"contour\"}],\"contourcarpet\":[{\"colorbar\":{\"outlinewidth\":0,\"ticks\":\"\"},\"type\":\"contourcarpet\"}],\"heatmap\":[{\"colorbar\":{\"outlinewidth\":0,\"ticks\":\"\"},\"colorscale\":[[0.0,\"#0d0887\"],[0.1111111111111111,\"#46039f\"],[0.2222222222222222,\"#7201a8\"],[0.3333333333333333,\"#9c179e\"],[0.4444444444444444,\"#bd3786\"],[0.5555555555555556,\"#d8576b\"],[0.6666666666666666,\"#ed7953\"],[0.7777777777777778,\"#fb9f3a\"],[0.8888888888888888,\"#fdca26\"],[1.0,\"#f0f921\"]],\"type\":\"heatmap\"}],\"heatmapgl\":[{\"colorbar\":{\"outlinewidth\":0,\"ticks\":\"\"},\"colorscale\":[[0.0,\"#0d0887\"],[0.1111111111111111,\"#46039f\"],[0.2222222222222222,\"#7201a8\"],[0.3333333333333333,\"#9c179e\"],[0.4444444444444444,\"#bd3786\"],[0.5555555555555556,\"#d8576b\"],[0.6666666666666666,\"#ed7953\"],[0.7777777777777778,\"#fb9f3a\"],[0.8888888888888888,\"#fdca26\"],[1.0,\"#f0f921\"]],\"type\":\"heatmapgl\"}],\"histogram\":[{\"marker\":{\"pattern\":{\"fillmode\":\"overlay\",\"size\":10,\"solidity\":0.2}},\"type\":\"histogram\"}],\"histogram2d\":[{\"colorbar\":{\"outlinewidth\":0,\"ticks\":\"\"},\"colorscale\":[[0.0,\"#0d0887\"],[0.1111111111111111,\"#46039f\"],[0.2222222222222222,\"#7201a8\"],[0.3333333333333333,\"#9c179e\"],[0.4444444444444444,\"#bd3786\"],[0.5555555555555556,\"#d8576b\"],[0.6666666666666666,\"#ed7953\"],[0.7777777777777778,\"#fb9f3a\"],[0.8888888888888888,\"#fdca26\"],[1.0,\"#f0f921\"]],\"type\":\"histogram2d\"}],\"histogram2dcontour\":[{\"colorbar\":{\"outlinewidth\":0,\"ticks\":\"\"},\"colorscale\":[[0.0,\"#0d0887\"],[0.1111111111111111,\"#46039f\"],[0.2222222222222222,\"#7201a8\"],[0.3333333333333333,\"#9c179e\"],[0.4444444444444444,\"#bd3786\"],[0.5555555555555556,\"#d8576b\"],[0.6666666666666666,\"#ed7953\"],[0.7777777777777778,\"#fb9f3a\"],[0.8888888888888888,\"#fdca26\"],[1.0,\"#f0f921\"]],\"type\":\"histogram2dcontour\"}],\"mesh3d\":[{\"colorbar\":{\"outlinewidth\":0,\"ticks\":\"\"},\"type\":\"mesh3d\"}],\"parcoords\":[{\"line\":{\"colorbar\":{\"outlinewidth\":0,\"ticks\":\"\"}},\"type\":\"parcoords\"}],\"pie\":[{\"automargin\":true,\"type\":\"pie\"}],\"scatter\":[{\"marker\":{\"colorbar\":{\"outlinewidth\":0,\"ticks\":\"\"}},\"type\":\"scatter\"}],\"scatter3d\":[{\"line\":{\"colorbar\":{\"outlinewidth\":0,\"ticks\":\"\"}},\"marker\":{\"colorbar\":{\"outlinewidth\":0,\"ticks\":\"\"}},\"type\":\"scatter3d\"}],\"scattercarpet\":[{\"marker\":{\"colorbar\":{\"outlinewidth\":0,\"ticks\":\"\"}},\"type\":\"scattercarpet\"}],\"scattergeo\":[{\"marker\":{\"colorbar\":{\"outlinewidth\":0,\"ticks\":\"\"}},\"type\":\"scattergeo\"}],\"scattergl\":[{\"marker\":{\"colorbar\":{\"outlinewidth\":0,\"ticks\":\"\"}},\"type\":\"scattergl\"}],\"scattermapbox\":[{\"marker\":{\"colorbar\":{\"outlinewidth\":0,\"ticks\":\"\"}},\"type\":\"scattermapbox\"}],\"scatterpolar\":[{\"marker\":{\"colorbar\":{\"outlinewidth\":0,\"ticks\":\"\"}},\"type\":\"scatterpolar\"}],\"scatterpolargl\":[{\"marker\":{\"colorbar\":{\"outlinewidth\":0,\"ticks\":\"\"}},\"type\":\"scatterpolargl\"}],\"scatterternary\":[{\"marker\":{\"colorbar\":{\"outlinewidth\":0,\"ticks\":\"\"}},\"type\":\"scatterternary\"}],\"surface\":[{\"colorbar\":{\"outlinewidth\":0,\"ticks\":\"\"},\"colorscale\":[[0.0,\"#0d0887\"],[0.1111111111111111,\"#46039f\"],[0.2222222222222222,\"#7201a8\"],[0.3333333333333333,\"#9c179e\"],[0.4444444444444444,\"#bd3786\"],[0.5555555555555556,\"#d8576b\"],[0.6666666666666666,\"#ed7953\"],[0.7777777777777778,\"#fb9f3a\"],[0.8888888888888888,\"#fdca26\"],[1.0,\"#f0f921\"]],\"type\":\"surface\"}],\"table\":[{\"cells\":{\"fill\":{\"color\":\"#EBF0F8\"},\"line\":{\"color\":\"white\"}},\"header\":{\"fill\":{\"color\":\"#C8D4E3\"},\"line\":{\"color\":\"white\"}},\"type\":\"table\"}]},\"layout\":{\"annotationdefaults\":{\"arrowcolor\":\"#2a3f5f\",\"arrowhead\":0,\"arrowwidth\":1},\"autotypenumbers\":\"strict\",\"coloraxis\":{\"colorbar\":{\"outlinewidth\":0,\"ticks\":\"\"}},\"colorscale\":{\"diverging\":[[0,\"#8e0152\"],[0.1,\"#c51b7d\"],[0.2,\"#de77ae\"],[0.3,\"#f1b6da\"],[0.4,\"#fde0ef\"],[0.5,\"#f7f7f7\"],[0.6,\"#e6f5d0\"],[0.7,\"#b8e186\"],[0.8,\"#7fbc41\"],[0.9,\"#4d9221\"],[1,\"#276419\"]],\"sequential\":[[0.0,\"#0d0887\"],[0.1111111111111111,\"#46039f\"],[0.2222222222222222,\"#7201a8\"],[0.3333333333333333,\"#9c179e\"],[0.4444444444444444,\"#bd3786\"],[0.5555555555555556,\"#d8576b\"],[0.6666666666666666,\"#ed7953\"],[0.7777777777777778,\"#fb9f3a\"],[0.8888888888888888,\"#fdca26\"],[1.0,\"#f0f921\"]],\"sequentialminus\":[[0.0,\"#0d0887\"],[0.1111111111111111,\"#46039f\"],[0.2222222222222222,\"#7201a8\"],[0.3333333333333333,\"#9c179e\"],[0.4444444444444444,\"#bd3786\"],[0.5555555555555556,\"#d8576b\"],[0.6666666666666666,\"#ed7953\"],[0.7777777777777778,\"#fb9f3a\"],[0.8888888888888888,\"#fdca26\"],[1.0,\"#f0f921\"]]},\"colorway\":[\"#636efa\",\"#EF553B\",\"#00cc96\",\"#ab63fa\",\"#FFA15A\",\"#19d3f3\",\"#FF6692\",\"#B6E880\",\"#FF97FF\",\"#FECB52\"],\"font\":{\"color\":\"#2a3f5f\"},\"geo\":{\"bgcolor\":\"white\",\"lakecolor\":\"white\",\"landcolor\":\"#E5ECF6\",\"showlakes\":true,\"showland\":true,\"subunitcolor\":\"white\"},\"hoverlabel\":{\"align\":\"left\"},\"hovermode\":\"closest\",\"mapbox\":{\"style\":\"light\"},\"paper_bgcolor\":\"white\",\"plot_bgcolor\":\"#E5ECF6\",\"polar\":{\"angularaxis\":{\"gridcolor\":\"white\",\"linecolor\":\"white\",\"ticks\":\"\"},\"bgcolor\":\"#E5ECF6\",\"radialaxis\":{\"gridcolor\":\"white\",\"linecolor\":\"white\",\"ticks\":\"\"}},\"scene\":{\"xaxis\":{\"backgroundcolor\":\"#E5ECF6\",\"gridcolor\":\"white\",\"gridwidth\":2,\"linecolor\":\"white\",\"showbackground\":true,\"ticks\":\"\",\"zerolinecolor\":\"white\"},\"yaxis\":{\"backgroundcolor\":\"#E5ECF6\",\"gridcolor\":\"white\",\"gridwidth\":2,\"linecolor\":\"white\",\"showbackground\":true,\"ticks\":\"\",\"zerolinecolor\":\"white\"},\"zaxis\":{\"backgroundcolor\":\"#E5ECF6\",\"gridcolor\":\"white\",\"gridwidth\":2,\"linecolor\":\"white\",\"showbackground\":true,\"ticks\":\"\",\"zerolinecolor\":\"white\"}},\"shapedefaults\":{\"line\":{\"color\":\"#2a3f5f\"}},\"ternary\":{\"aaxis\":{\"gridcolor\":\"white\",\"linecolor\":\"white\",\"ticks\":\"\"},\"baxis\":{\"gridcolor\":\"white\",\"linecolor\":\"white\",\"ticks\":\"\"},\"bgcolor\":\"#E5ECF6\",\"caxis\":{\"gridcolor\":\"white\",\"linecolor\":\"white\",\"ticks\":\"\"}},\"title\":{\"x\":0.05},\"xaxis\":{\"automargin\":true,\"gridcolor\":\"white\",\"linecolor\":\"white\",\"ticks\":\"\",\"title\":{\"standoff\":15},\"zerolinecolor\":\"white\",\"zerolinewidth\":2},\"yaxis\":{\"automargin\":true,\"gridcolor\":\"white\",\"linecolor\":\"white\",\"ticks\":\"\",\"title\":{\"standoff\":15},\"zerolinecolor\":\"white\",\"zerolinewidth\":2}}},\"xaxis\":{\"anchor\":\"y\",\"domain\":[0.0,1.0],\"title\":{\"text\":\"Year\"},\"categoryorder\":\"array\",\"categoryarray\":[2006,2007,2008,2009,2010,2011,2012,2013,2014,2015,2016,2017,2018]},\"yaxis\":{\"anchor\":\"x\",\"domain\":[0.0,1.0],\"title\":{\"text\":\"Number of Goals per season\"}},\"legend\":{\"title\":{\"text\":\"year\"},\"tracegroupgap\":0},\"title\":{\"text\":\"Top 10 goalscorers La Liga from 2006 to 2018\"}},                        {\"responsive\": true}                    ).then(function(){\n",
       "                            \n",
       "var gd = document.getElementById('142cf8a4-c1ab-47d6-9f50-e7f322fd3dd7');\n",
       "var x = new MutationObserver(function (mutations, observer) {{\n",
       "        var display = window.getComputedStyle(gd).display;\n",
       "        if (!display || display === 'none') {{\n",
       "            console.log([gd, 'removed!']);\n",
       "            Plotly.purge(gd);\n",
       "            observer.disconnect();\n",
       "        }}\n",
       "}});\n",
       "\n",
       "// Listen for the removal of the full notebook cells\n",
       "var notebookContainer = gd.closest('#notebook-container');\n",
       "if (notebookContainer) {{\n",
       "    x.observe(notebookContainer, {childList: true});\n",
       "}}\n",
       "\n",
       "// Listen for the clearing of the current output cell\n",
       "var outputEl = gd.closest('.output');\n",
       "if (outputEl) {{\n",
       "    x.observe(outputEl, {childList: true});\n",
       "}}\n",
       "\n",
       "                        })                };                });            </script>        </div>"
      ]
     },
     "metadata": {},
     "output_type": "display_data"
    }
   ],
   "source": [
    "l_chart = px.line(df,\n",
    "                  x='year', \n",
    "                  y='goals scored',\n",
    "                  color='year',\n",
    "                  hover_name='player',\n",
    "                  title=f'Top {top_n_players} goalscorers La Liga from {start_year} to {end_year}',\n",
    "                 markers = True\n",
    "                 )\n",
    "\n",
    "l_chart.update_layout(xaxis_title='Year',\n",
    "                      yaxis_title='Number of Goals per season')\n",
    "\n",
    "l_chart.show()"
   ]
  },
  {
   "cell_type": "code",
   "execution_count": 271,
   "id": "0acc3900",
   "metadata": {},
   "outputs": [
    {
     "data": {
      "text/plain": [
       "Real Zaragoza       3\n",
       "Real Betis          4\n",
       "Celta Vigo          5\n",
       "Espanyol            5\n",
       "Valencia            8\n",
       "Athletic Club       8\n",
       "Sevilla FC          9\n",
       "Atlético Madrid    15\n",
       "Barcelona          27\n",
       "Real Madrid        27\n",
       "Name: team, dtype: int64"
      ]
     },
     "execution_count": 271,
     "metadata": {},
     "output_type": "execute_result"
    }
   ],
   "source": [
    "top_teams = df.team.value_counts()[:10]\n",
    "top_teams.sort_values(ascending=True, inplace=True)\n",
    "top_teams"
   ]
  },
  {
   "cell_type": "code",
   "execution_count": 272,
   "id": "020d37f9",
   "metadata": {},
   "outputs": [
    {
     "data": {
      "application/vnd.plotly.v1+json": {
       "config": {
        "plotlyServerURL": "https://plot.ly"
       },
       "data": [
        {
         "alignmentgroup": "True",
         "hovertemplate": "x=%{x}<br>y=%{y}<br>color=%{marker.color}<extra></extra>",
         "legendgroup": "",
         "marker": {
          "color": [
           3,
           4,
           5,
           5,
           8,
           8,
           9,
           15,
           27,
           27
          ],
          "coloraxis": "coloraxis",
          "pattern": {
           "shape": ""
          }
         },
         "name": "",
         "offsetgroup": "",
         "orientation": "h",
         "showlegend": false,
         "textposition": "auto",
         "type": "bar",
         "x": [
          3,
          4,
          5,
          5,
          8,
          8,
          9,
          15,
          27,
          27
         ],
         "xaxis": "x",
         "y": [
          "Real Zaragoza",
          "Real Betis",
          "Celta Vigo",
          "Espanyol",
          "Valencia",
          "Athletic Club",
          "Sevilla FC",
          "Atlético Madrid",
          "Barcelona",
          "Real Madrid"
         ],
         "yaxis": "y"
        }
       ],
       "layout": {
        "barmode": "relative",
        "coloraxis": {
         "colorbar": {
          "title": {
           "text": "color"
          }
         },
         "colorscale": [
          [
           0,
           "rgb(41, 24, 107)"
          ],
          [
           0.09090909090909091,
           "rgb(42, 35, 160)"
          ],
          [
           0.18181818181818182,
           "rgb(15, 71, 153)"
          ],
          [
           0.2727272727272727,
           "rgb(18, 95, 142)"
          ],
          [
           0.36363636363636365,
           "rgb(38, 116, 137)"
          ],
          [
           0.45454545454545453,
           "rgb(53, 136, 136)"
          ],
          [
           0.5454545454545454,
           "rgb(65, 157, 133)"
          ],
          [
           0.6363636363636364,
           "rgb(81, 178, 124)"
          ],
          [
           0.7272727272727273,
           "rgb(111, 198, 107)"
          ],
          [
           0.8181818181818182,
           "rgb(160, 214, 91)"
          ],
          [
           0.9090909090909091,
           "rgb(212, 225, 112)"
          ],
          [
           1,
           "rgb(253, 238, 153)"
          ]
         ],
         "showscale": false
        },
        "legend": {
         "tracegroupgap": 0
        },
        "template": {
         "data": {
          "bar": [
           {
            "error_x": {
             "color": "#2a3f5f"
            },
            "error_y": {
             "color": "#2a3f5f"
            },
            "marker": {
             "line": {
              "color": "#E5ECF6",
              "width": 0.5
             },
             "pattern": {
              "fillmode": "overlay",
              "size": 10,
              "solidity": 0.2
             }
            },
            "type": "bar"
           }
          ],
          "barpolar": [
           {
            "marker": {
             "line": {
              "color": "#E5ECF6",
              "width": 0.5
             },
             "pattern": {
              "fillmode": "overlay",
              "size": 10,
              "solidity": 0.2
             }
            },
            "type": "barpolar"
           }
          ],
          "carpet": [
           {
            "aaxis": {
             "endlinecolor": "#2a3f5f",
             "gridcolor": "white",
             "linecolor": "white",
             "minorgridcolor": "white",
             "startlinecolor": "#2a3f5f"
            },
            "baxis": {
             "endlinecolor": "#2a3f5f",
             "gridcolor": "white",
             "linecolor": "white",
             "minorgridcolor": "white",
             "startlinecolor": "#2a3f5f"
            },
            "type": "carpet"
           }
          ],
          "choropleth": [
           {
            "colorbar": {
             "outlinewidth": 0,
             "ticks": ""
            },
            "type": "choropleth"
           }
          ],
          "contour": [
           {
            "colorbar": {
             "outlinewidth": 0,
             "ticks": ""
            },
            "colorscale": [
             [
              0,
              "#0d0887"
             ],
             [
              0.1111111111111111,
              "#46039f"
             ],
             [
              0.2222222222222222,
              "#7201a8"
             ],
             [
              0.3333333333333333,
              "#9c179e"
             ],
             [
              0.4444444444444444,
              "#bd3786"
             ],
             [
              0.5555555555555556,
              "#d8576b"
             ],
             [
              0.6666666666666666,
              "#ed7953"
             ],
             [
              0.7777777777777778,
              "#fb9f3a"
             ],
             [
              0.8888888888888888,
              "#fdca26"
             ],
             [
              1,
              "#f0f921"
             ]
            ],
            "type": "contour"
           }
          ],
          "contourcarpet": [
           {
            "colorbar": {
             "outlinewidth": 0,
             "ticks": ""
            },
            "type": "contourcarpet"
           }
          ],
          "heatmap": [
           {
            "colorbar": {
             "outlinewidth": 0,
             "ticks": ""
            },
            "colorscale": [
             [
              0,
              "#0d0887"
             ],
             [
              0.1111111111111111,
              "#46039f"
             ],
             [
              0.2222222222222222,
              "#7201a8"
             ],
             [
              0.3333333333333333,
              "#9c179e"
             ],
             [
              0.4444444444444444,
              "#bd3786"
             ],
             [
              0.5555555555555556,
              "#d8576b"
             ],
             [
              0.6666666666666666,
              "#ed7953"
             ],
             [
              0.7777777777777778,
              "#fb9f3a"
             ],
             [
              0.8888888888888888,
              "#fdca26"
             ],
             [
              1,
              "#f0f921"
             ]
            ],
            "type": "heatmap"
           }
          ],
          "heatmapgl": [
           {
            "colorbar": {
             "outlinewidth": 0,
             "ticks": ""
            },
            "colorscale": [
             [
              0,
              "#0d0887"
             ],
             [
              0.1111111111111111,
              "#46039f"
             ],
             [
              0.2222222222222222,
              "#7201a8"
             ],
             [
              0.3333333333333333,
              "#9c179e"
             ],
             [
              0.4444444444444444,
              "#bd3786"
             ],
             [
              0.5555555555555556,
              "#d8576b"
             ],
             [
              0.6666666666666666,
              "#ed7953"
             ],
             [
              0.7777777777777778,
              "#fb9f3a"
             ],
             [
              0.8888888888888888,
              "#fdca26"
             ],
             [
              1,
              "#f0f921"
             ]
            ],
            "type": "heatmapgl"
           }
          ],
          "histogram": [
           {
            "marker": {
             "pattern": {
              "fillmode": "overlay",
              "size": 10,
              "solidity": 0.2
             }
            },
            "type": "histogram"
           }
          ],
          "histogram2d": [
           {
            "colorbar": {
             "outlinewidth": 0,
             "ticks": ""
            },
            "colorscale": [
             [
              0,
              "#0d0887"
             ],
             [
              0.1111111111111111,
              "#46039f"
             ],
             [
              0.2222222222222222,
              "#7201a8"
             ],
             [
              0.3333333333333333,
              "#9c179e"
             ],
             [
              0.4444444444444444,
              "#bd3786"
             ],
             [
              0.5555555555555556,
              "#d8576b"
             ],
             [
              0.6666666666666666,
              "#ed7953"
             ],
             [
              0.7777777777777778,
              "#fb9f3a"
             ],
             [
              0.8888888888888888,
              "#fdca26"
             ],
             [
              1,
              "#f0f921"
             ]
            ],
            "type": "histogram2d"
           }
          ],
          "histogram2dcontour": [
           {
            "colorbar": {
             "outlinewidth": 0,
             "ticks": ""
            },
            "colorscale": [
             [
              0,
              "#0d0887"
             ],
             [
              0.1111111111111111,
              "#46039f"
             ],
             [
              0.2222222222222222,
              "#7201a8"
             ],
             [
              0.3333333333333333,
              "#9c179e"
             ],
             [
              0.4444444444444444,
              "#bd3786"
             ],
             [
              0.5555555555555556,
              "#d8576b"
             ],
             [
              0.6666666666666666,
              "#ed7953"
             ],
             [
              0.7777777777777778,
              "#fb9f3a"
             ],
             [
              0.8888888888888888,
              "#fdca26"
             ],
             [
              1,
              "#f0f921"
             ]
            ],
            "type": "histogram2dcontour"
           }
          ],
          "mesh3d": [
           {
            "colorbar": {
             "outlinewidth": 0,
             "ticks": ""
            },
            "type": "mesh3d"
           }
          ],
          "parcoords": [
           {
            "line": {
             "colorbar": {
              "outlinewidth": 0,
              "ticks": ""
             }
            },
            "type": "parcoords"
           }
          ],
          "pie": [
           {
            "automargin": true,
            "type": "pie"
           }
          ],
          "scatter": [
           {
            "marker": {
             "colorbar": {
              "outlinewidth": 0,
              "ticks": ""
             }
            },
            "type": "scatter"
           }
          ],
          "scatter3d": [
           {
            "line": {
             "colorbar": {
              "outlinewidth": 0,
              "ticks": ""
             }
            },
            "marker": {
             "colorbar": {
              "outlinewidth": 0,
              "ticks": ""
             }
            },
            "type": "scatter3d"
           }
          ],
          "scattercarpet": [
           {
            "marker": {
             "colorbar": {
              "outlinewidth": 0,
              "ticks": ""
             }
            },
            "type": "scattercarpet"
           }
          ],
          "scattergeo": [
           {
            "marker": {
             "colorbar": {
              "outlinewidth": 0,
              "ticks": ""
             }
            },
            "type": "scattergeo"
           }
          ],
          "scattergl": [
           {
            "marker": {
             "colorbar": {
              "outlinewidth": 0,
              "ticks": ""
             }
            },
            "type": "scattergl"
           }
          ],
          "scattermapbox": [
           {
            "marker": {
             "colorbar": {
              "outlinewidth": 0,
              "ticks": ""
             }
            },
            "type": "scattermapbox"
           }
          ],
          "scatterpolar": [
           {
            "marker": {
             "colorbar": {
              "outlinewidth": 0,
              "ticks": ""
             }
            },
            "type": "scatterpolar"
           }
          ],
          "scatterpolargl": [
           {
            "marker": {
             "colorbar": {
              "outlinewidth": 0,
              "ticks": ""
             }
            },
            "type": "scatterpolargl"
           }
          ],
          "scatterternary": [
           {
            "marker": {
             "colorbar": {
              "outlinewidth": 0,
              "ticks": ""
             }
            },
            "type": "scatterternary"
           }
          ],
          "surface": [
           {
            "colorbar": {
             "outlinewidth": 0,
             "ticks": ""
            },
            "colorscale": [
             [
              0,
              "#0d0887"
             ],
             [
              0.1111111111111111,
              "#46039f"
             ],
             [
              0.2222222222222222,
              "#7201a8"
             ],
             [
              0.3333333333333333,
              "#9c179e"
             ],
             [
              0.4444444444444444,
              "#bd3786"
             ],
             [
              0.5555555555555556,
              "#d8576b"
             ],
             [
              0.6666666666666666,
              "#ed7953"
             ],
             [
              0.7777777777777778,
              "#fb9f3a"
             ],
             [
              0.8888888888888888,
              "#fdca26"
             ],
             [
              1,
              "#f0f921"
             ]
            ],
            "type": "surface"
           }
          ],
          "table": [
           {
            "cells": {
             "fill": {
              "color": "#EBF0F8"
             },
             "line": {
              "color": "white"
             }
            },
            "header": {
             "fill": {
              "color": "#C8D4E3"
             },
             "line": {
              "color": "white"
             }
            },
            "type": "table"
           }
          ]
         },
         "layout": {
          "annotationdefaults": {
           "arrowcolor": "#2a3f5f",
           "arrowhead": 0,
           "arrowwidth": 1
          },
          "autotypenumbers": "strict",
          "coloraxis": {
           "colorbar": {
            "outlinewidth": 0,
            "ticks": ""
           }
          },
          "colorscale": {
           "diverging": [
            [
             0,
             "#8e0152"
            ],
            [
             0.1,
             "#c51b7d"
            ],
            [
             0.2,
             "#de77ae"
            ],
            [
             0.3,
             "#f1b6da"
            ],
            [
             0.4,
             "#fde0ef"
            ],
            [
             0.5,
             "#f7f7f7"
            ],
            [
             0.6,
             "#e6f5d0"
            ],
            [
             0.7,
             "#b8e186"
            ],
            [
             0.8,
             "#7fbc41"
            ],
            [
             0.9,
             "#4d9221"
            ],
            [
             1,
             "#276419"
            ]
           ],
           "sequential": [
            [
             0,
             "#0d0887"
            ],
            [
             0.1111111111111111,
             "#46039f"
            ],
            [
             0.2222222222222222,
             "#7201a8"
            ],
            [
             0.3333333333333333,
             "#9c179e"
            ],
            [
             0.4444444444444444,
             "#bd3786"
            ],
            [
             0.5555555555555556,
             "#d8576b"
            ],
            [
             0.6666666666666666,
             "#ed7953"
            ],
            [
             0.7777777777777778,
             "#fb9f3a"
            ],
            [
             0.8888888888888888,
             "#fdca26"
            ],
            [
             1,
             "#f0f921"
            ]
           ],
           "sequentialminus": [
            [
             0,
             "#0d0887"
            ],
            [
             0.1111111111111111,
             "#46039f"
            ],
            [
             0.2222222222222222,
             "#7201a8"
            ],
            [
             0.3333333333333333,
             "#9c179e"
            ],
            [
             0.4444444444444444,
             "#bd3786"
            ],
            [
             0.5555555555555556,
             "#d8576b"
            ],
            [
             0.6666666666666666,
             "#ed7953"
            ],
            [
             0.7777777777777778,
             "#fb9f3a"
            ],
            [
             0.8888888888888888,
             "#fdca26"
            ],
            [
             1,
             "#f0f921"
            ]
           ]
          },
          "colorway": [
           "#636efa",
           "#EF553B",
           "#00cc96",
           "#ab63fa",
           "#FFA15A",
           "#19d3f3",
           "#FF6692",
           "#B6E880",
           "#FF97FF",
           "#FECB52"
          ],
          "font": {
           "color": "#2a3f5f"
          },
          "geo": {
           "bgcolor": "white",
           "lakecolor": "white",
           "landcolor": "#E5ECF6",
           "showlakes": true,
           "showland": true,
           "subunitcolor": "white"
          },
          "hoverlabel": {
           "align": "left"
          },
          "hovermode": "closest",
          "mapbox": {
           "style": "light"
          },
          "paper_bgcolor": "white",
          "plot_bgcolor": "#E5ECF6",
          "polar": {
           "angularaxis": {
            "gridcolor": "white",
            "linecolor": "white",
            "ticks": ""
           },
           "bgcolor": "#E5ECF6",
           "radialaxis": {
            "gridcolor": "white",
            "linecolor": "white",
            "ticks": ""
           }
          },
          "scene": {
           "xaxis": {
            "backgroundcolor": "#E5ECF6",
            "gridcolor": "white",
            "gridwidth": 2,
            "linecolor": "white",
            "showbackground": true,
            "ticks": "",
            "zerolinecolor": "white"
           },
           "yaxis": {
            "backgroundcolor": "#E5ECF6",
            "gridcolor": "white",
            "gridwidth": 2,
            "linecolor": "white",
            "showbackground": true,
            "ticks": "",
            "zerolinecolor": "white"
           },
           "zaxis": {
            "backgroundcolor": "#E5ECF6",
            "gridcolor": "white",
            "gridwidth": 2,
            "linecolor": "white",
            "showbackground": true,
            "ticks": "",
            "zerolinecolor": "white"
           }
          },
          "shapedefaults": {
           "line": {
            "color": "#2a3f5f"
           }
          },
          "ternary": {
           "aaxis": {
            "gridcolor": "white",
            "linecolor": "white",
            "ticks": ""
           },
           "baxis": {
            "gridcolor": "white",
            "linecolor": "white",
            "ticks": ""
           },
           "bgcolor": "#E5ECF6",
           "caxis": {
            "gridcolor": "white",
            "linecolor": "white",
            "ticks": ""
           }
          },
          "title": {
           "x": 0.05
          },
          "xaxis": {
           "automargin": true,
           "gridcolor": "white",
           "linecolor": "white",
           "ticks": "",
           "title": {
            "standoff": 15
           },
           "zerolinecolor": "white",
           "zerolinewidth": 2
          },
          "yaxis": {
           "automargin": true,
           "gridcolor": "white",
           "linecolor": "white",
           "ticks": "",
           "title": {
            "standoff": 15
           },
           "zerolinecolor": "white",
           "zerolinewidth": 2
          }
         }
        },
        "title": {
         "text": "Amount of times a club's player appears in the top 10 <br>season goalscorers. <br> Top 10 Spanish clubs (2006-2018):"
        },
        "xaxis": {
         "anchor": "y",
         "domain": [
          0,
          1
         ],
         "title": {
          "text": "Number of Prizes"
         }
        },
        "yaxis": {
         "anchor": "x",
         "domain": [
          0,
          1
         ],
         "title": {
          "text": "Institution"
         }
        }
       }
      },
      "text/html": [
       "<div>                            <div id=\"0c804f63-d1c7-4d3d-b550-7bf15fabcbaa\" class=\"plotly-graph-div\" style=\"height:525px; width:100%;\"></div>            <script type=\"text/javascript\">                require([\"plotly\"], function(Plotly) {                    window.PLOTLYENV=window.PLOTLYENV || {};                                    if (document.getElementById(\"0c804f63-d1c7-4d3d-b550-7bf15fabcbaa\")) {                    Plotly.newPlot(                        \"0c804f63-d1c7-4d3d-b550-7bf15fabcbaa\",                        [{\"alignmentgroup\":\"True\",\"hovertemplate\":\"x=%{x}<br>y=%{y}<br>color=%{marker.color}<extra></extra>\",\"legendgroup\":\"\",\"marker\":{\"color\":[3,4,5,5,8,8,9,15,27,27],\"coloraxis\":\"coloraxis\",\"pattern\":{\"shape\":\"\"}},\"name\":\"\",\"offsetgroup\":\"\",\"orientation\":\"h\",\"showlegend\":false,\"textposition\":\"auto\",\"x\":[3,4,5,5,8,8,9,15,27,27],\"xaxis\":\"x\",\"y\":[\"Real Zaragoza\",\"Real Betis\",\"Celta Vigo\",\"Espanyol\",\"Valencia\",\"Athletic Club\",\"Sevilla FC\",\"Atl\\u00e9tico Madrid\",\"Barcelona\",\"Real Madrid\"],\"yaxis\":\"y\",\"type\":\"bar\"}],                        {\"template\":{\"data\":{\"bar\":[{\"error_x\":{\"color\":\"#2a3f5f\"},\"error_y\":{\"color\":\"#2a3f5f\"},\"marker\":{\"line\":{\"color\":\"#E5ECF6\",\"width\":0.5},\"pattern\":{\"fillmode\":\"overlay\",\"size\":10,\"solidity\":0.2}},\"type\":\"bar\"}],\"barpolar\":[{\"marker\":{\"line\":{\"color\":\"#E5ECF6\",\"width\":0.5},\"pattern\":{\"fillmode\":\"overlay\",\"size\":10,\"solidity\":0.2}},\"type\":\"barpolar\"}],\"carpet\":[{\"aaxis\":{\"endlinecolor\":\"#2a3f5f\",\"gridcolor\":\"white\",\"linecolor\":\"white\",\"minorgridcolor\":\"white\",\"startlinecolor\":\"#2a3f5f\"},\"baxis\":{\"endlinecolor\":\"#2a3f5f\",\"gridcolor\":\"white\",\"linecolor\":\"white\",\"minorgridcolor\":\"white\",\"startlinecolor\":\"#2a3f5f\"},\"type\":\"carpet\"}],\"choropleth\":[{\"colorbar\":{\"outlinewidth\":0,\"ticks\":\"\"},\"type\":\"choropleth\"}],\"contour\":[{\"colorbar\":{\"outlinewidth\":0,\"ticks\":\"\"},\"colorscale\":[[0.0,\"#0d0887\"],[0.1111111111111111,\"#46039f\"],[0.2222222222222222,\"#7201a8\"],[0.3333333333333333,\"#9c179e\"],[0.4444444444444444,\"#bd3786\"],[0.5555555555555556,\"#d8576b\"],[0.6666666666666666,\"#ed7953\"],[0.7777777777777778,\"#fb9f3a\"],[0.8888888888888888,\"#fdca26\"],[1.0,\"#f0f921\"]],\"type\":\"contour\"}],\"contourcarpet\":[{\"colorbar\":{\"outlinewidth\":0,\"ticks\":\"\"},\"type\":\"contourcarpet\"}],\"heatmap\":[{\"colorbar\":{\"outlinewidth\":0,\"ticks\":\"\"},\"colorscale\":[[0.0,\"#0d0887\"],[0.1111111111111111,\"#46039f\"],[0.2222222222222222,\"#7201a8\"],[0.3333333333333333,\"#9c179e\"],[0.4444444444444444,\"#bd3786\"],[0.5555555555555556,\"#d8576b\"],[0.6666666666666666,\"#ed7953\"],[0.7777777777777778,\"#fb9f3a\"],[0.8888888888888888,\"#fdca26\"],[1.0,\"#f0f921\"]],\"type\":\"heatmap\"}],\"heatmapgl\":[{\"colorbar\":{\"outlinewidth\":0,\"ticks\":\"\"},\"colorscale\":[[0.0,\"#0d0887\"],[0.1111111111111111,\"#46039f\"],[0.2222222222222222,\"#7201a8\"],[0.3333333333333333,\"#9c179e\"],[0.4444444444444444,\"#bd3786\"],[0.5555555555555556,\"#d8576b\"],[0.6666666666666666,\"#ed7953\"],[0.7777777777777778,\"#fb9f3a\"],[0.8888888888888888,\"#fdca26\"],[1.0,\"#f0f921\"]],\"type\":\"heatmapgl\"}],\"histogram\":[{\"marker\":{\"pattern\":{\"fillmode\":\"overlay\",\"size\":10,\"solidity\":0.2}},\"type\":\"histogram\"}],\"histogram2d\":[{\"colorbar\":{\"outlinewidth\":0,\"ticks\":\"\"},\"colorscale\":[[0.0,\"#0d0887\"],[0.1111111111111111,\"#46039f\"],[0.2222222222222222,\"#7201a8\"],[0.3333333333333333,\"#9c179e\"],[0.4444444444444444,\"#bd3786\"],[0.5555555555555556,\"#d8576b\"],[0.6666666666666666,\"#ed7953\"],[0.7777777777777778,\"#fb9f3a\"],[0.8888888888888888,\"#fdca26\"],[1.0,\"#f0f921\"]],\"type\":\"histogram2d\"}],\"histogram2dcontour\":[{\"colorbar\":{\"outlinewidth\":0,\"ticks\":\"\"},\"colorscale\":[[0.0,\"#0d0887\"],[0.1111111111111111,\"#46039f\"],[0.2222222222222222,\"#7201a8\"],[0.3333333333333333,\"#9c179e\"],[0.4444444444444444,\"#bd3786\"],[0.5555555555555556,\"#d8576b\"],[0.6666666666666666,\"#ed7953\"],[0.7777777777777778,\"#fb9f3a\"],[0.8888888888888888,\"#fdca26\"],[1.0,\"#f0f921\"]],\"type\":\"histogram2dcontour\"}],\"mesh3d\":[{\"colorbar\":{\"outlinewidth\":0,\"ticks\":\"\"},\"type\":\"mesh3d\"}],\"parcoords\":[{\"line\":{\"colorbar\":{\"outlinewidth\":0,\"ticks\":\"\"}},\"type\":\"parcoords\"}],\"pie\":[{\"automargin\":true,\"type\":\"pie\"}],\"scatter\":[{\"marker\":{\"colorbar\":{\"outlinewidth\":0,\"ticks\":\"\"}},\"type\":\"scatter\"}],\"scatter3d\":[{\"line\":{\"colorbar\":{\"outlinewidth\":0,\"ticks\":\"\"}},\"marker\":{\"colorbar\":{\"outlinewidth\":0,\"ticks\":\"\"}},\"type\":\"scatter3d\"}],\"scattercarpet\":[{\"marker\":{\"colorbar\":{\"outlinewidth\":0,\"ticks\":\"\"}},\"type\":\"scattercarpet\"}],\"scattergeo\":[{\"marker\":{\"colorbar\":{\"outlinewidth\":0,\"ticks\":\"\"}},\"type\":\"scattergeo\"}],\"scattergl\":[{\"marker\":{\"colorbar\":{\"outlinewidth\":0,\"ticks\":\"\"}},\"type\":\"scattergl\"}],\"scattermapbox\":[{\"marker\":{\"colorbar\":{\"outlinewidth\":0,\"ticks\":\"\"}},\"type\":\"scattermapbox\"}],\"scatterpolar\":[{\"marker\":{\"colorbar\":{\"outlinewidth\":0,\"ticks\":\"\"}},\"type\":\"scatterpolar\"}],\"scatterpolargl\":[{\"marker\":{\"colorbar\":{\"outlinewidth\":0,\"ticks\":\"\"}},\"type\":\"scatterpolargl\"}],\"scatterternary\":[{\"marker\":{\"colorbar\":{\"outlinewidth\":0,\"ticks\":\"\"}},\"type\":\"scatterternary\"}],\"surface\":[{\"colorbar\":{\"outlinewidth\":0,\"ticks\":\"\"},\"colorscale\":[[0.0,\"#0d0887\"],[0.1111111111111111,\"#46039f\"],[0.2222222222222222,\"#7201a8\"],[0.3333333333333333,\"#9c179e\"],[0.4444444444444444,\"#bd3786\"],[0.5555555555555556,\"#d8576b\"],[0.6666666666666666,\"#ed7953\"],[0.7777777777777778,\"#fb9f3a\"],[0.8888888888888888,\"#fdca26\"],[1.0,\"#f0f921\"]],\"type\":\"surface\"}],\"table\":[{\"cells\":{\"fill\":{\"color\":\"#EBF0F8\"},\"line\":{\"color\":\"white\"}},\"header\":{\"fill\":{\"color\":\"#C8D4E3\"},\"line\":{\"color\":\"white\"}},\"type\":\"table\"}]},\"layout\":{\"annotationdefaults\":{\"arrowcolor\":\"#2a3f5f\",\"arrowhead\":0,\"arrowwidth\":1},\"autotypenumbers\":\"strict\",\"coloraxis\":{\"colorbar\":{\"outlinewidth\":0,\"ticks\":\"\"}},\"colorscale\":{\"diverging\":[[0,\"#8e0152\"],[0.1,\"#c51b7d\"],[0.2,\"#de77ae\"],[0.3,\"#f1b6da\"],[0.4,\"#fde0ef\"],[0.5,\"#f7f7f7\"],[0.6,\"#e6f5d0\"],[0.7,\"#b8e186\"],[0.8,\"#7fbc41\"],[0.9,\"#4d9221\"],[1,\"#276419\"]],\"sequential\":[[0.0,\"#0d0887\"],[0.1111111111111111,\"#46039f\"],[0.2222222222222222,\"#7201a8\"],[0.3333333333333333,\"#9c179e\"],[0.4444444444444444,\"#bd3786\"],[0.5555555555555556,\"#d8576b\"],[0.6666666666666666,\"#ed7953\"],[0.7777777777777778,\"#fb9f3a\"],[0.8888888888888888,\"#fdca26\"],[1.0,\"#f0f921\"]],\"sequentialminus\":[[0.0,\"#0d0887\"],[0.1111111111111111,\"#46039f\"],[0.2222222222222222,\"#7201a8\"],[0.3333333333333333,\"#9c179e\"],[0.4444444444444444,\"#bd3786\"],[0.5555555555555556,\"#d8576b\"],[0.6666666666666666,\"#ed7953\"],[0.7777777777777778,\"#fb9f3a\"],[0.8888888888888888,\"#fdca26\"],[1.0,\"#f0f921\"]]},\"colorway\":[\"#636efa\",\"#EF553B\",\"#00cc96\",\"#ab63fa\",\"#FFA15A\",\"#19d3f3\",\"#FF6692\",\"#B6E880\",\"#FF97FF\",\"#FECB52\"],\"font\":{\"color\":\"#2a3f5f\"},\"geo\":{\"bgcolor\":\"white\",\"lakecolor\":\"white\",\"landcolor\":\"#E5ECF6\",\"showlakes\":true,\"showland\":true,\"subunitcolor\":\"white\"},\"hoverlabel\":{\"align\":\"left\"},\"hovermode\":\"closest\",\"mapbox\":{\"style\":\"light\"},\"paper_bgcolor\":\"white\",\"plot_bgcolor\":\"#E5ECF6\",\"polar\":{\"angularaxis\":{\"gridcolor\":\"white\",\"linecolor\":\"white\",\"ticks\":\"\"},\"bgcolor\":\"#E5ECF6\",\"radialaxis\":{\"gridcolor\":\"white\",\"linecolor\":\"white\",\"ticks\":\"\"}},\"scene\":{\"xaxis\":{\"backgroundcolor\":\"#E5ECF6\",\"gridcolor\":\"white\",\"gridwidth\":2,\"linecolor\":\"white\",\"showbackground\":true,\"ticks\":\"\",\"zerolinecolor\":\"white\"},\"yaxis\":{\"backgroundcolor\":\"#E5ECF6\",\"gridcolor\":\"white\",\"gridwidth\":2,\"linecolor\":\"white\",\"showbackground\":true,\"ticks\":\"\",\"zerolinecolor\":\"white\"},\"zaxis\":{\"backgroundcolor\":\"#E5ECF6\",\"gridcolor\":\"white\",\"gridwidth\":2,\"linecolor\":\"white\",\"showbackground\":true,\"ticks\":\"\",\"zerolinecolor\":\"white\"}},\"shapedefaults\":{\"line\":{\"color\":\"#2a3f5f\"}},\"ternary\":{\"aaxis\":{\"gridcolor\":\"white\",\"linecolor\":\"white\",\"ticks\":\"\"},\"baxis\":{\"gridcolor\":\"white\",\"linecolor\":\"white\",\"ticks\":\"\"},\"bgcolor\":\"#E5ECF6\",\"caxis\":{\"gridcolor\":\"white\",\"linecolor\":\"white\",\"ticks\":\"\"}},\"title\":{\"x\":0.05},\"xaxis\":{\"automargin\":true,\"gridcolor\":\"white\",\"linecolor\":\"white\",\"ticks\":\"\",\"title\":{\"standoff\":15},\"zerolinecolor\":\"white\",\"zerolinewidth\":2},\"yaxis\":{\"automargin\":true,\"gridcolor\":\"white\",\"linecolor\":\"white\",\"ticks\":\"\",\"title\":{\"standoff\":15},\"zerolinecolor\":\"white\",\"zerolinewidth\":2}}},\"xaxis\":{\"anchor\":\"y\",\"domain\":[0.0,1.0],\"title\":{\"text\":\"Number of Prizes\"}},\"yaxis\":{\"anchor\":\"x\",\"domain\":[0.0,1.0],\"title\":{\"text\":\"Institution\"}},\"coloraxis\":{\"colorbar\":{\"title\":{\"text\":\"color\"}},\"colorscale\":[[0.0,\"rgb(41, 24, 107)\"],[0.09090909090909091,\"rgb(42, 35, 160)\"],[0.18181818181818182,\"rgb(15, 71, 153)\"],[0.2727272727272727,\"rgb(18, 95, 142)\"],[0.36363636363636365,\"rgb(38, 116, 137)\"],[0.45454545454545453,\"rgb(53, 136, 136)\"],[0.5454545454545454,\"rgb(65, 157, 133)\"],[0.6363636363636364,\"rgb(81, 178, 124)\"],[0.7272727272727273,\"rgb(111, 198, 107)\"],[0.8181818181818182,\"rgb(160, 214, 91)\"],[0.9090909090909091,\"rgb(212, 225, 112)\"],[1.0,\"rgb(253, 238, 153)\"]],\"showscale\":false},\"legend\":{\"tracegroupgap\":0},\"title\":{\"text\":\"Amount of times a club's player appears in the top 10 <br>season goalscorers. <br> Top 10 Spanish clubs (2006-2018):\"},\"barmode\":\"relative\"},                        {\"responsive\": true}                    ).then(function(){\n",
       "                            \n",
       "var gd = document.getElementById('0c804f63-d1c7-4d3d-b550-7bf15fabcbaa');\n",
       "var x = new MutationObserver(function (mutations, observer) {{\n",
       "        var display = window.getComputedStyle(gd).display;\n",
       "        if (!display || display === 'none') {{\n",
       "            console.log([gd, 'removed!']);\n",
       "            Plotly.purge(gd);\n",
       "            observer.disconnect();\n",
       "        }}\n",
       "}});\n",
       "\n",
       "// Listen for the removal of the full notebook cells\n",
       "var notebookContainer = gd.closest('#notebook-container');\n",
       "if (notebookContainer) {{\n",
       "    x.observe(notebookContainer, {childList: true});\n",
       "}}\n",
       "\n",
       "// Listen for the clearing of the current output cell\n",
       "var outputEl = gd.closest('.output');\n",
       "if (outputEl) {{\n",
       "    x.observe(outputEl, {childList: true});\n",
       "}}\n",
       "\n",
       "                        })                };                });            </script>        </div>"
      ]
     },
     "metadata": {},
     "output_type": "display_data"
    }
   ],
   "source": [
    "org_bar = px.bar(x = top_teams.values,\n",
    "                 y = top_teams.index,\n",
    "                 orientation='h',\n",
    "                 color=top_teams.values,\n",
    "                 color_continuous_scale=px.colors.sequential.haline,\n",
    "                 title=f\"Amount of times a club's player appears in the top {top_n_players} <br>season goalscorers. <br> Top 10 Spanish clubs ({start_year}-{end_year}):\")\n",
    "\n",
    "org_bar.update_layout(xaxis_title='Number of Prizes', \n",
    "                      yaxis_title='Institution',\n",
    "                      coloraxis_showscale=False)\n",
    "org_bar.show()"
   ]
  },
  {
   "cell_type": "code",
   "execution_count": 273,
   "id": "c12f53eb",
   "metadata": {},
   "outputs": [
    {
     "data": {
      "application/vnd.plotly.v1+json": {
       "config": {
        "plotlyServerURL": "https://plot.ly"
       },
       "data": [
        {
         "alignmentgroup": "True",
         "hovertemplate": "year=%{x}<br>goals scored=%{y}<extra></extra>",
         "legendgroup": "",
         "marker": {
          "color": "#636efa"
         },
         "name": "",
         "notched": false,
         "offsetgroup": "",
         "orientation": "v",
         "showlegend": false,
         "type": "box",
         "x": [
          2006,
          2006,
          2006,
          2006,
          2006,
          2006,
          2006,
          2006,
          2006,
          2006,
          2007,
          2007,
          2007,
          2007,
          2007,
          2007,
          2007,
          2007,
          2007,
          2007,
          2008,
          2008,
          2008,
          2008,
          2008,
          2008,
          2008,
          2008,
          2008,
          2008,
          2009,
          2009,
          2009,
          2009,
          2009,
          2009,
          2009,
          2009,
          2009,
          2009,
          2010,
          2010,
          2010,
          2010,
          2010,
          2010,
          2010,
          2010,
          2010,
          2010,
          2011,
          2011,
          2011,
          2011,
          2011,
          2011,
          2011,
          2011,
          2011,
          2011,
          2012,
          2012,
          2012,
          2012,
          2012,
          2012,
          2012,
          2012,
          2012,
          2012,
          2013,
          2013,
          2013,
          2013,
          2013,
          2013,
          2013,
          2013,
          2013,
          2013,
          2014,
          2014,
          2014,
          2014,
          2014,
          2014,
          2014,
          2014,
          2014,
          2014,
          2015,
          2015,
          2015,
          2015,
          2015,
          2015,
          2015,
          2015,
          2015,
          2015,
          2016,
          2016,
          2016,
          2016,
          2016,
          2016,
          2016,
          2016,
          2016,
          2016,
          2017,
          2017,
          2017,
          2017,
          2017,
          2017,
          2017,
          2017,
          2017,
          2017,
          2018,
          2018,
          2018,
          2018,
          2018,
          2018,
          2018,
          2018,
          2018,
          2018
         ],
         "x0": " ",
         "xaxis": "x",
         "y": [
          25,
          23,
          21,
          21,
          19,
          16,
          15,
          15,
          14,
          14,
          27,
          24,
          19,
          18,
          18,
          18,
          17,
          16,
          16,
          16,
          32,
          30,
          28,
          23,
          22,
          19,
          19,
          18,
          18,
          17,
          34,
          27,
          26,
          21,
          18,
          16,
          16,
          15,
          14,
          14,
          40,
          31,
          20,
          20,
          18,
          18,
          18,
          18,
          15,
          14,
          50,
          46,
          24,
          22,
          21,
          17,
          17,
          16,
          15,
          15,
          46,
          34,
          28,
          25,
          24,
          18,
          18,
          16,
          14,
          14,
          31,
          28,
          27,
          19,
          17,
          16,
          16,
          16,
          15,
          15,
          48,
          43,
          22,
          22,
          20,
          18,
          17,
          16,
          15,
          14,
          40,
          35,
          26,
          24,
          24,
          22,
          20,
          19,
          19,
          18,
          37,
          29,
          25,
          19,
          16,
          16,
          15,
          14,
          13,
          13,
          34,
          26,
          25,
          22,
          21,
          19,
          17,
          16,
          16,
          16,
          36,
          21,
          21,
          20,
          19,
          18,
          17,
          15,
          14,
          14
         ],
         "y0": " ",
         "yaxis": "y"
        }
       ],
       "layout": {
        "boxmode": "group",
        "legend": {
         "tracegroupgap": 0
        },
        "template": {
         "data": {
          "bar": [
           {
            "error_x": {
             "color": "#2a3f5f"
            },
            "error_y": {
             "color": "#2a3f5f"
            },
            "marker": {
             "line": {
              "color": "#E5ECF6",
              "width": 0.5
             },
             "pattern": {
              "fillmode": "overlay",
              "size": 10,
              "solidity": 0.2
             }
            },
            "type": "bar"
           }
          ],
          "barpolar": [
           {
            "marker": {
             "line": {
              "color": "#E5ECF6",
              "width": 0.5
             },
             "pattern": {
              "fillmode": "overlay",
              "size": 10,
              "solidity": 0.2
             }
            },
            "type": "barpolar"
           }
          ],
          "carpet": [
           {
            "aaxis": {
             "endlinecolor": "#2a3f5f",
             "gridcolor": "white",
             "linecolor": "white",
             "minorgridcolor": "white",
             "startlinecolor": "#2a3f5f"
            },
            "baxis": {
             "endlinecolor": "#2a3f5f",
             "gridcolor": "white",
             "linecolor": "white",
             "minorgridcolor": "white",
             "startlinecolor": "#2a3f5f"
            },
            "type": "carpet"
           }
          ],
          "choropleth": [
           {
            "colorbar": {
             "outlinewidth": 0,
             "ticks": ""
            },
            "type": "choropleth"
           }
          ],
          "contour": [
           {
            "colorbar": {
             "outlinewidth": 0,
             "ticks": ""
            },
            "colorscale": [
             [
              0,
              "#0d0887"
             ],
             [
              0.1111111111111111,
              "#46039f"
             ],
             [
              0.2222222222222222,
              "#7201a8"
             ],
             [
              0.3333333333333333,
              "#9c179e"
             ],
             [
              0.4444444444444444,
              "#bd3786"
             ],
             [
              0.5555555555555556,
              "#d8576b"
             ],
             [
              0.6666666666666666,
              "#ed7953"
             ],
             [
              0.7777777777777778,
              "#fb9f3a"
             ],
             [
              0.8888888888888888,
              "#fdca26"
             ],
             [
              1,
              "#f0f921"
             ]
            ],
            "type": "contour"
           }
          ],
          "contourcarpet": [
           {
            "colorbar": {
             "outlinewidth": 0,
             "ticks": ""
            },
            "type": "contourcarpet"
           }
          ],
          "heatmap": [
           {
            "colorbar": {
             "outlinewidth": 0,
             "ticks": ""
            },
            "colorscale": [
             [
              0,
              "#0d0887"
             ],
             [
              0.1111111111111111,
              "#46039f"
             ],
             [
              0.2222222222222222,
              "#7201a8"
             ],
             [
              0.3333333333333333,
              "#9c179e"
             ],
             [
              0.4444444444444444,
              "#bd3786"
             ],
             [
              0.5555555555555556,
              "#d8576b"
             ],
             [
              0.6666666666666666,
              "#ed7953"
             ],
             [
              0.7777777777777778,
              "#fb9f3a"
             ],
             [
              0.8888888888888888,
              "#fdca26"
             ],
             [
              1,
              "#f0f921"
             ]
            ],
            "type": "heatmap"
           }
          ],
          "heatmapgl": [
           {
            "colorbar": {
             "outlinewidth": 0,
             "ticks": ""
            },
            "colorscale": [
             [
              0,
              "#0d0887"
             ],
             [
              0.1111111111111111,
              "#46039f"
             ],
             [
              0.2222222222222222,
              "#7201a8"
             ],
             [
              0.3333333333333333,
              "#9c179e"
             ],
             [
              0.4444444444444444,
              "#bd3786"
             ],
             [
              0.5555555555555556,
              "#d8576b"
             ],
             [
              0.6666666666666666,
              "#ed7953"
             ],
             [
              0.7777777777777778,
              "#fb9f3a"
             ],
             [
              0.8888888888888888,
              "#fdca26"
             ],
             [
              1,
              "#f0f921"
             ]
            ],
            "type": "heatmapgl"
           }
          ],
          "histogram": [
           {
            "marker": {
             "pattern": {
              "fillmode": "overlay",
              "size": 10,
              "solidity": 0.2
             }
            },
            "type": "histogram"
           }
          ],
          "histogram2d": [
           {
            "colorbar": {
             "outlinewidth": 0,
             "ticks": ""
            },
            "colorscale": [
             [
              0,
              "#0d0887"
             ],
             [
              0.1111111111111111,
              "#46039f"
             ],
             [
              0.2222222222222222,
              "#7201a8"
             ],
             [
              0.3333333333333333,
              "#9c179e"
             ],
             [
              0.4444444444444444,
              "#bd3786"
             ],
             [
              0.5555555555555556,
              "#d8576b"
             ],
             [
              0.6666666666666666,
              "#ed7953"
             ],
             [
              0.7777777777777778,
              "#fb9f3a"
             ],
             [
              0.8888888888888888,
              "#fdca26"
             ],
             [
              1,
              "#f0f921"
             ]
            ],
            "type": "histogram2d"
           }
          ],
          "histogram2dcontour": [
           {
            "colorbar": {
             "outlinewidth": 0,
             "ticks": ""
            },
            "colorscale": [
             [
              0,
              "#0d0887"
             ],
             [
              0.1111111111111111,
              "#46039f"
             ],
             [
              0.2222222222222222,
              "#7201a8"
             ],
             [
              0.3333333333333333,
              "#9c179e"
             ],
             [
              0.4444444444444444,
              "#bd3786"
             ],
             [
              0.5555555555555556,
              "#d8576b"
             ],
             [
              0.6666666666666666,
              "#ed7953"
             ],
             [
              0.7777777777777778,
              "#fb9f3a"
             ],
             [
              0.8888888888888888,
              "#fdca26"
             ],
             [
              1,
              "#f0f921"
             ]
            ],
            "type": "histogram2dcontour"
           }
          ],
          "mesh3d": [
           {
            "colorbar": {
             "outlinewidth": 0,
             "ticks": ""
            },
            "type": "mesh3d"
           }
          ],
          "parcoords": [
           {
            "line": {
             "colorbar": {
              "outlinewidth": 0,
              "ticks": ""
             }
            },
            "type": "parcoords"
           }
          ],
          "pie": [
           {
            "automargin": true,
            "type": "pie"
           }
          ],
          "scatter": [
           {
            "marker": {
             "colorbar": {
              "outlinewidth": 0,
              "ticks": ""
             }
            },
            "type": "scatter"
           }
          ],
          "scatter3d": [
           {
            "line": {
             "colorbar": {
              "outlinewidth": 0,
              "ticks": ""
             }
            },
            "marker": {
             "colorbar": {
              "outlinewidth": 0,
              "ticks": ""
             }
            },
            "type": "scatter3d"
           }
          ],
          "scattercarpet": [
           {
            "marker": {
             "colorbar": {
              "outlinewidth": 0,
              "ticks": ""
             }
            },
            "type": "scattercarpet"
           }
          ],
          "scattergeo": [
           {
            "marker": {
             "colorbar": {
              "outlinewidth": 0,
              "ticks": ""
             }
            },
            "type": "scattergeo"
           }
          ],
          "scattergl": [
           {
            "marker": {
             "colorbar": {
              "outlinewidth": 0,
              "ticks": ""
             }
            },
            "type": "scattergl"
           }
          ],
          "scattermapbox": [
           {
            "marker": {
             "colorbar": {
              "outlinewidth": 0,
              "ticks": ""
             }
            },
            "type": "scattermapbox"
           }
          ],
          "scatterpolar": [
           {
            "marker": {
             "colorbar": {
              "outlinewidth": 0,
              "ticks": ""
             }
            },
            "type": "scatterpolar"
           }
          ],
          "scatterpolargl": [
           {
            "marker": {
             "colorbar": {
              "outlinewidth": 0,
              "ticks": ""
             }
            },
            "type": "scatterpolargl"
           }
          ],
          "scatterternary": [
           {
            "marker": {
             "colorbar": {
              "outlinewidth": 0,
              "ticks": ""
             }
            },
            "type": "scatterternary"
           }
          ],
          "surface": [
           {
            "colorbar": {
             "outlinewidth": 0,
             "ticks": ""
            },
            "colorscale": [
             [
              0,
              "#0d0887"
             ],
             [
              0.1111111111111111,
              "#46039f"
             ],
             [
              0.2222222222222222,
              "#7201a8"
             ],
             [
              0.3333333333333333,
              "#9c179e"
             ],
             [
              0.4444444444444444,
              "#bd3786"
             ],
             [
              0.5555555555555556,
              "#d8576b"
             ],
             [
              0.6666666666666666,
              "#ed7953"
             ],
             [
              0.7777777777777778,
              "#fb9f3a"
             ],
             [
              0.8888888888888888,
              "#fdca26"
             ],
             [
              1,
              "#f0f921"
             ]
            ],
            "type": "surface"
           }
          ],
          "table": [
           {
            "cells": {
             "fill": {
              "color": "#EBF0F8"
             },
             "line": {
              "color": "white"
             }
            },
            "header": {
             "fill": {
              "color": "#C8D4E3"
             },
             "line": {
              "color": "white"
             }
            },
            "type": "table"
           }
          ]
         },
         "layout": {
          "annotationdefaults": {
           "arrowcolor": "#2a3f5f",
           "arrowhead": 0,
           "arrowwidth": 1
          },
          "autotypenumbers": "strict",
          "coloraxis": {
           "colorbar": {
            "outlinewidth": 0,
            "ticks": ""
           }
          },
          "colorscale": {
           "diverging": [
            [
             0,
             "#8e0152"
            ],
            [
             0.1,
             "#c51b7d"
            ],
            [
             0.2,
             "#de77ae"
            ],
            [
             0.3,
             "#f1b6da"
            ],
            [
             0.4,
             "#fde0ef"
            ],
            [
             0.5,
             "#f7f7f7"
            ],
            [
             0.6,
             "#e6f5d0"
            ],
            [
             0.7,
             "#b8e186"
            ],
            [
             0.8,
             "#7fbc41"
            ],
            [
             0.9,
             "#4d9221"
            ],
            [
             1,
             "#276419"
            ]
           ],
           "sequential": [
            [
             0,
             "#0d0887"
            ],
            [
             0.1111111111111111,
             "#46039f"
            ],
            [
             0.2222222222222222,
             "#7201a8"
            ],
            [
             0.3333333333333333,
             "#9c179e"
            ],
            [
             0.4444444444444444,
             "#bd3786"
            ],
            [
             0.5555555555555556,
             "#d8576b"
            ],
            [
             0.6666666666666666,
             "#ed7953"
            ],
            [
             0.7777777777777778,
             "#fb9f3a"
            ],
            [
             0.8888888888888888,
             "#fdca26"
            ],
            [
             1,
             "#f0f921"
            ]
           ],
           "sequentialminus": [
            [
             0,
             "#0d0887"
            ],
            [
             0.1111111111111111,
             "#46039f"
            ],
            [
             0.2222222222222222,
             "#7201a8"
            ],
            [
             0.3333333333333333,
             "#9c179e"
            ],
            [
             0.4444444444444444,
             "#bd3786"
            ],
            [
             0.5555555555555556,
             "#d8576b"
            ],
            [
             0.6666666666666666,
             "#ed7953"
            ],
            [
             0.7777777777777778,
             "#fb9f3a"
            ],
            [
             0.8888888888888888,
             "#fdca26"
            ],
            [
             1,
             "#f0f921"
            ]
           ]
          },
          "colorway": [
           "#636efa",
           "#EF553B",
           "#00cc96",
           "#ab63fa",
           "#FFA15A",
           "#19d3f3",
           "#FF6692",
           "#B6E880",
           "#FF97FF",
           "#FECB52"
          ],
          "font": {
           "color": "#2a3f5f"
          },
          "geo": {
           "bgcolor": "white",
           "lakecolor": "white",
           "landcolor": "#E5ECF6",
           "showlakes": true,
           "showland": true,
           "subunitcolor": "white"
          },
          "hoverlabel": {
           "align": "left"
          },
          "hovermode": "closest",
          "mapbox": {
           "style": "light"
          },
          "paper_bgcolor": "white",
          "plot_bgcolor": "#E5ECF6",
          "polar": {
           "angularaxis": {
            "gridcolor": "white",
            "linecolor": "white",
            "ticks": ""
           },
           "bgcolor": "#E5ECF6",
           "radialaxis": {
            "gridcolor": "white",
            "linecolor": "white",
            "ticks": ""
           }
          },
          "scene": {
           "xaxis": {
            "backgroundcolor": "#E5ECF6",
            "gridcolor": "white",
            "gridwidth": 2,
            "linecolor": "white",
            "showbackground": true,
            "ticks": "",
            "zerolinecolor": "white"
           },
           "yaxis": {
            "backgroundcolor": "#E5ECF6",
            "gridcolor": "white",
            "gridwidth": 2,
            "linecolor": "white",
            "showbackground": true,
            "ticks": "",
            "zerolinecolor": "white"
           },
           "zaxis": {
            "backgroundcolor": "#E5ECF6",
            "gridcolor": "white",
            "gridwidth": 2,
            "linecolor": "white",
            "showbackground": true,
            "ticks": "",
            "zerolinecolor": "white"
           }
          },
          "shapedefaults": {
           "line": {
            "color": "#2a3f5f"
           }
          },
          "ternary": {
           "aaxis": {
            "gridcolor": "white",
            "linecolor": "white",
            "ticks": ""
           },
           "baxis": {
            "gridcolor": "white",
            "linecolor": "white",
            "ticks": ""
           },
           "bgcolor": "#E5ECF6",
           "caxis": {
            "gridcolor": "white",
            "linecolor": "white",
            "ticks": ""
           }
          },
          "title": {
           "x": 0.05
          },
          "xaxis": {
           "automargin": true,
           "gridcolor": "white",
           "linecolor": "white",
           "ticks": "",
           "title": {
            "standoff": 15
           },
           "zerolinecolor": "white",
           "zerolinewidth": 2
          },
          "yaxis": {
           "automargin": true,
           "gridcolor": "white",
           "linecolor": "white",
           "ticks": "",
           "title": {
            "standoff": 15
           },
           "zerolinecolor": "white",
           "zerolinewidth": 2
          }
         }
        },
        "title": {
         "text": "How many goals did the top 10 score <br> (2006-2018)"
        },
        "xaxis": {
         "anchor": "y",
         "categoryorder": "mean ascending",
         "domain": [
          0,
          1
         ],
         "title": {
          "text": "Year"
         }
        },
        "yaxis": {
         "anchor": "x",
         "domain": [
          0,
          1
         ],
         "title": {
          "text": "Goals in a season"
         }
        }
       }
      },
      "text/html": [
       "<div>                            <div id=\"3e98fdd8-6485-467d-9d59-96b868bad929\" class=\"plotly-graph-div\" style=\"height:525px; width:100%;\"></div>            <script type=\"text/javascript\">                require([\"plotly\"], function(Plotly) {                    window.PLOTLYENV=window.PLOTLYENV || {};                                    if (document.getElementById(\"3e98fdd8-6485-467d-9d59-96b868bad929\")) {                    Plotly.newPlot(                        \"3e98fdd8-6485-467d-9d59-96b868bad929\",                        [{\"alignmentgroup\":\"True\",\"hovertemplate\":\"year=%{x}<br>goals scored=%{y}<extra></extra>\",\"legendgroup\":\"\",\"marker\":{\"color\":\"#636efa\"},\"name\":\"\",\"notched\":false,\"offsetgroup\":\"\",\"orientation\":\"v\",\"showlegend\":false,\"x\":[2006,2006,2006,2006,2006,2006,2006,2006,2006,2006,2007,2007,2007,2007,2007,2007,2007,2007,2007,2007,2008,2008,2008,2008,2008,2008,2008,2008,2008,2008,2009,2009,2009,2009,2009,2009,2009,2009,2009,2009,2010,2010,2010,2010,2010,2010,2010,2010,2010,2010,2011,2011,2011,2011,2011,2011,2011,2011,2011,2011,2012,2012,2012,2012,2012,2012,2012,2012,2012,2012,2013,2013,2013,2013,2013,2013,2013,2013,2013,2013,2014,2014,2014,2014,2014,2014,2014,2014,2014,2014,2015,2015,2015,2015,2015,2015,2015,2015,2015,2015,2016,2016,2016,2016,2016,2016,2016,2016,2016,2016,2017,2017,2017,2017,2017,2017,2017,2017,2017,2017,2018,2018,2018,2018,2018,2018,2018,2018,2018,2018],\"x0\":\" \",\"xaxis\":\"x\",\"y\":[25,23,21,21,19,16,15,15,14,14,27,24,19,18,18,18,17,16,16,16,32,30,28,23,22,19,19,18,18,17,34,27,26,21,18,16,16,15,14,14,40,31,20,20,18,18,18,18,15,14,50,46,24,22,21,17,17,16,15,15,46,34,28,25,24,18,18,16,14,14,31,28,27,19,17,16,16,16,15,15,48,43,22,22,20,18,17,16,15,14,40,35,26,24,24,22,20,19,19,18,37,29,25,19,16,16,15,14,13,13,34,26,25,22,21,19,17,16,16,16,36,21,21,20,19,18,17,15,14,14],\"y0\":\" \",\"yaxis\":\"y\",\"type\":\"box\"}],                        {\"template\":{\"data\":{\"bar\":[{\"error_x\":{\"color\":\"#2a3f5f\"},\"error_y\":{\"color\":\"#2a3f5f\"},\"marker\":{\"line\":{\"color\":\"#E5ECF6\",\"width\":0.5},\"pattern\":{\"fillmode\":\"overlay\",\"size\":10,\"solidity\":0.2}},\"type\":\"bar\"}],\"barpolar\":[{\"marker\":{\"line\":{\"color\":\"#E5ECF6\",\"width\":0.5},\"pattern\":{\"fillmode\":\"overlay\",\"size\":10,\"solidity\":0.2}},\"type\":\"barpolar\"}],\"carpet\":[{\"aaxis\":{\"endlinecolor\":\"#2a3f5f\",\"gridcolor\":\"white\",\"linecolor\":\"white\",\"minorgridcolor\":\"white\",\"startlinecolor\":\"#2a3f5f\"},\"baxis\":{\"endlinecolor\":\"#2a3f5f\",\"gridcolor\":\"white\",\"linecolor\":\"white\",\"minorgridcolor\":\"white\",\"startlinecolor\":\"#2a3f5f\"},\"type\":\"carpet\"}],\"choropleth\":[{\"colorbar\":{\"outlinewidth\":0,\"ticks\":\"\"},\"type\":\"choropleth\"}],\"contour\":[{\"colorbar\":{\"outlinewidth\":0,\"ticks\":\"\"},\"colorscale\":[[0.0,\"#0d0887\"],[0.1111111111111111,\"#46039f\"],[0.2222222222222222,\"#7201a8\"],[0.3333333333333333,\"#9c179e\"],[0.4444444444444444,\"#bd3786\"],[0.5555555555555556,\"#d8576b\"],[0.6666666666666666,\"#ed7953\"],[0.7777777777777778,\"#fb9f3a\"],[0.8888888888888888,\"#fdca26\"],[1.0,\"#f0f921\"]],\"type\":\"contour\"}],\"contourcarpet\":[{\"colorbar\":{\"outlinewidth\":0,\"ticks\":\"\"},\"type\":\"contourcarpet\"}],\"heatmap\":[{\"colorbar\":{\"outlinewidth\":0,\"ticks\":\"\"},\"colorscale\":[[0.0,\"#0d0887\"],[0.1111111111111111,\"#46039f\"],[0.2222222222222222,\"#7201a8\"],[0.3333333333333333,\"#9c179e\"],[0.4444444444444444,\"#bd3786\"],[0.5555555555555556,\"#d8576b\"],[0.6666666666666666,\"#ed7953\"],[0.7777777777777778,\"#fb9f3a\"],[0.8888888888888888,\"#fdca26\"],[1.0,\"#f0f921\"]],\"type\":\"heatmap\"}],\"heatmapgl\":[{\"colorbar\":{\"outlinewidth\":0,\"ticks\":\"\"},\"colorscale\":[[0.0,\"#0d0887\"],[0.1111111111111111,\"#46039f\"],[0.2222222222222222,\"#7201a8\"],[0.3333333333333333,\"#9c179e\"],[0.4444444444444444,\"#bd3786\"],[0.5555555555555556,\"#d8576b\"],[0.6666666666666666,\"#ed7953\"],[0.7777777777777778,\"#fb9f3a\"],[0.8888888888888888,\"#fdca26\"],[1.0,\"#f0f921\"]],\"type\":\"heatmapgl\"}],\"histogram\":[{\"marker\":{\"pattern\":{\"fillmode\":\"overlay\",\"size\":10,\"solidity\":0.2}},\"type\":\"histogram\"}],\"histogram2d\":[{\"colorbar\":{\"outlinewidth\":0,\"ticks\":\"\"},\"colorscale\":[[0.0,\"#0d0887\"],[0.1111111111111111,\"#46039f\"],[0.2222222222222222,\"#7201a8\"],[0.3333333333333333,\"#9c179e\"],[0.4444444444444444,\"#bd3786\"],[0.5555555555555556,\"#d8576b\"],[0.6666666666666666,\"#ed7953\"],[0.7777777777777778,\"#fb9f3a\"],[0.8888888888888888,\"#fdca26\"],[1.0,\"#f0f921\"]],\"type\":\"histogram2d\"}],\"histogram2dcontour\":[{\"colorbar\":{\"outlinewidth\":0,\"ticks\":\"\"},\"colorscale\":[[0.0,\"#0d0887\"],[0.1111111111111111,\"#46039f\"],[0.2222222222222222,\"#7201a8\"],[0.3333333333333333,\"#9c179e\"],[0.4444444444444444,\"#bd3786\"],[0.5555555555555556,\"#d8576b\"],[0.6666666666666666,\"#ed7953\"],[0.7777777777777778,\"#fb9f3a\"],[0.8888888888888888,\"#fdca26\"],[1.0,\"#f0f921\"]],\"type\":\"histogram2dcontour\"}],\"mesh3d\":[{\"colorbar\":{\"outlinewidth\":0,\"ticks\":\"\"},\"type\":\"mesh3d\"}],\"parcoords\":[{\"line\":{\"colorbar\":{\"outlinewidth\":0,\"ticks\":\"\"}},\"type\":\"parcoords\"}],\"pie\":[{\"automargin\":true,\"type\":\"pie\"}],\"scatter\":[{\"marker\":{\"colorbar\":{\"outlinewidth\":0,\"ticks\":\"\"}},\"type\":\"scatter\"}],\"scatter3d\":[{\"line\":{\"colorbar\":{\"outlinewidth\":0,\"ticks\":\"\"}},\"marker\":{\"colorbar\":{\"outlinewidth\":0,\"ticks\":\"\"}},\"type\":\"scatter3d\"}],\"scattercarpet\":[{\"marker\":{\"colorbar\":{\"outlinewidth\":0,\"ticks\":\"\"}},\"type\":\"scattercarpet\"}],\"scattergeo\":[{\"marker\":{\"colorbar\":{\"outlinewidth\":0,\"ticks\":\"\"}},\"type\":\"scattergeo\"}],\"scattergl\":[{\"marker\":{\"colorbar\":{\"outlinewidth\":0,\"ticks\":\"\"}},\"type\":\"scattergl\"}],\"scattermapbox\":[{\"marker\":{\"colorbar\":{\"outlinewidth\":0,\"ticks\":\"\"}},\"type\":\"scattermapbox\"}],\"scatterpolar\":[{\"marker\":{\"colorbar\":{\"outlinewidth\":0,\"ticks\":\"\"}},\"type\":\"scatterpolar\"}],\"scatterpolargl\":[{\"marker\":{\"colorbar\":{\"outlinewidth\":0,\"ticks\":\"\"}},\"type\":\"scatterpolargl\"}],\"scatterternary\":[{\"marker\":{\"colorbar\":{\"outlinewidth\":0,\"ticks\":\"\"}},\"type\":\"scatterternary\"}],\"surface\":[{\"colorbar\":{\"outlinewidth\":0,\"ticks\":\"\"},\"colorscale\":[[0.0,\"#0d0887\"],[0.1111111111111111,\"#46039f\"],[0.2222222222222222,\"#7201a8\"],[0.3333333333333333,\"#9c179e\"],[0.4444444444444444,\"#bd3786\"],[0.5555555555555556,\"#d8576b\"],[0.6666666666666666,\"#ed7953\"],[0.7777777777777778,\"#fb9f3a\"],[0.8888888888888888,\"#fdca26\"],[1.0,\"#f0f921\"]],\"type\":\"surface\"}],\"table\":[{\"cells\":{\"fill\":{\"color\":\"#EBF0F8\"},\"line\":{\"color\":\"white\"}},\"header\":{\"fill\":{\"color\":\"#C8D4E3\"},\"line\":{\"color\":\"white\"}},\"type\":\"table\"}]},\"layout\":{\"annotationdefaults\":{\"arrowcolor\":\"#2a3f5f\",\"arrowhead\":0,\"arrowwidth\":1},\"autotypenumbers\":\"strict\",\"coloraxis\":{\"colorbar\":{\"outlinewidth\":0,\"ticks\":\"\"}},\"colorscale\":{\"diverging\":[[0,\"#8e0152\"],[0.1,\"#c51b7d\"],[0.2,\"#de77ae\"],[0.3,\"#f1b6da\"],[0.4,\"#fde0ef\"],[0.5,\"#f7f7f7\"],[0.6,\"#e6f5d0\"],[0.7,\"#b8e186\"],[0.8,\"#7fbc41\"],[0.9,\"#4d9221\"],[1,\"#276419\"]],\"sequential\":[[0.0,\"#0d0887\"],[0.1111111111111111,\"#46039f\"],[0.2222222222222222,\"#7201a8\"],[0.3333333333333333,\"#9c179e\"],[0.4444444444444444,\"#bd3786\"],[0.5555555555555556,\"#d8576b\"],[0.6666666666666666,\"#ed7953\"],[0.7777777777777778,\"#fb9f3a\"],[0.8888888888888888,\"#fdca26\"],[1.0,\"#f0f921\"]],\"sequentialminus\":[[0.0,\"#0d0887\"],[0.1111111111111111,\"#46039f\"],[0.2222222222222222,\"#7201a8\"],[0.3333333333333333,\"#9c179e\"],[0.4444444444444444,\"#bd3786\"],[0.5555555555555556,\"#d8576b\"],[0.6666666666666666,\"#ed7953\"],[0.7777777777777778,\"#fb9f3a\"],[0.8888888888888888,\"#fdca26\"],[1.0,\"#f0f921\"]]},\"colorway\":[\"#636efa\",\"#EF553B\",\"#00cc96\",\"#ab63fa\",\"#FFA15A\",\"#19d3f3\",\"#FF6692\",\"#B6E880\",\"#FF97FF\",\"#FECB52\"],\"font\":{\"color\":\"#2a3f5f\"},\"geo\":{\"bgcolor\":\"white\",\"lakecolor\":\"white\",\"landcolor\":\"#E5ECF6\",\"showlakes\":true,\"showland\":true,\"subunitcolor\":\"white\"},\"hoverlabel\":{\"align\":\"left\"},\"hovermode\":\"closest\",\"mapbox\":{\"style\":\"light\"},\"paper_bgcolor\":\"white\",\"plot_bgcolor\":\"#E5ECF6\",\"polar\":{\"angularaxis\":{\"gridcolor\":\"white\",\"linecolor\":\"white\",\"ticks\":\"\"},\"bgcolor\":\"#E5ECF6\",\"radialaxis\":{\"gridcolor\":\"white\",\"linecolor\":\"white\",\"ticks\":\"\"}},\"scene\":{\"xaxis\":{\"backgroundcolor\":\"#E5ECF6\",\"gridcolor\":\"white\",\"gridwidth\":2,\"linecolor\":\"white\",\"showbackground\":true,\"ticks\":\"\",\"zerolinecolor\":\"white\"},\"yaxis\":{\"backgroundcolor\":\"#E5ECF6\",\"gridcolor\":\"white\",\"gridwidth\":2,\"linecolor\":\"white\",\"showbackground\":true,\"ticks\":\"\",\"zerolinecolor\":\"white\"},\"zaxis\":{\"backgroundcolor\":\"#E5ECF6\",\"gridcolor\":\"white\",\"gridwidth\":2,\"linecolor\":\"white\",\"showbackground\":true,\"ticks\":\"\",\"zerolinecolor\":\"white\"}},\"shapedefaults\":{\"line\":{\"color\":\"#2a3f5f\"}},\"ternary\":{\"aaxis\":{\"gridcolor\":\"white\",\"linecolor\":\"white\",\"ticks\":\"\"},\"baxis\":{\"gridcolor\":\"white\",\"linecolor\":\"white\",\"ticks\":\"\"},\"bgcolor\":\"#E5ECF6\",\"caxis\":{\"gridcolor\":\"white\",\"linecolor\":\"white\",\"ticks\":\"\"}},\"title\":{\"x\":0.05},\"xaxis\":{\"automargin\":true,\"gridcolor\":\"white\",\"linecolor\":\"white\",\"ticks\":\"\",\"title\":{\"standoff\":15},\"zerolinecolor\":\"white\",\"zerolinewidth\":2},\"yaxis\":{\"automargin\":true,\"gridcolor\":\"white\",\"linecolor\":\"white\",\"ticks\":\"\",\"title\":{\"standoff\":15},\"zerolinecolor\":\"white\",\"zerolinewidth\":2}}},\"xaxis\":{\"anchor\":\"y\",\"domain\":[0.0,1.0],\"title\":{\"text\":\"Year\"},\"categoryorder\":\"mean ascending\"},\"yaxis\":{\"anchor\":\"x\",\"domain\":[0.0,1.0],\"title\":{\"text\":\"Goals in a season\"}},\"legend\":{\"tracegroupgap\":0},\"title\":{\"text\":\"How many goals did the top 10 score <br> (2006-2018)\"},\"boxmode\":\"group\"},                        {\"responsive\": true}                    ).then(function(){\n",
       "                            \n",
       "var gd = document.getElementById('3e98fdd8-6485-467d-9d59-96b868bad929');\n",
       "var x = new MutationObserver(function (mutations, observer) {{\n",
       "        var display = window.getComputedStyle(gd).display;\n",
       "        if (!display || display === 'none') {{\n",
       "            console.log([gd, 'removed!']);\n",
       "            Plotly.purge(gd);\n",
       "            observer.disconnect();\n",
       "        }}\n",
       "}});\n",
       "\n",
       "// Listen for the removal of the full notebook cells\n",
       "var notebookContainer = gd.closest('#notebook-container');\n",
       "if (notebookContainer) {{\n",
       "    x.observe(notebookContainer, {childList: true});\n",
       "}}\n",
       "\n",
       "// Listen for the clearing of the current output cell\n",
       "var outputEl = gd.closest('.output');\n",
       "if (outputEl) {{\n",
       "    x.observe(outputEl, {childList: true});\n",
       "}}\n",
       "\n",
       "                        })                };                });            </script>        </div>"
      ]
     },
     "metadata": {},
     "output_type": "display_data"
    }
   ],
   "source": [
    "# Box plot using plotly instead\n",
    "box = px.box(df, \n",
    "             x='year', \n",
    "             y='goals scored',\n",
    "             title=f'How many goals did the top {top_n_players} score <br> ({start_year}-{end_year})')\n",
    "\n",
    "box.update_layout(xaxis_title='Year',\n",
    "                  yaxis_title='Goals in a season',\n",
    "                  xaxis={'categoryorder':'mean ascending'},)\n",
    "\n",
    "box.show()"
   ]
  },
  {
   "cell_type": "code",
   "execution_count": 274,
   "id": "6d842cc0",
   "metadata": {
    "scrolled": true
   },
   "outputs": [
    {
     "data": {
      "text/html": [
       "<div>\n",
       "<style scoped>\n",
       "    .dataframe tbody tr th:only-of-type {\n",
       "        vertical-align: middle;\n",
       "    }\n",
       "\n",
       "    .dataframe tbody tr th {\n",
       "        vertical-align: top;\n",
       "    }\n",
       "\n",
       "    .dataframe thead th {\n",
       "        text-align: right;\n",
       "    }\n",
       "</style>\n",
       "<table border=\"1\" class=\"dataframe\">\n",
       "  <thead>\n",
       "    <tr style=\"text-align: right;\">\n",
       "      <th></th>\n",
       "      <th>team</th>\n",
       "      <th>player</th>\n",
       "      <th>year</th>\n",
       "      <th>goals scored</th>\n",
       "    </tr>\n",
       "  </thead>\n",
       "  <tbody>\n",
       "    <tr>\n",
       "      <th>31</th>\n",
       "      <td>Barcelona</td>\n",
       "      <td>Lionel Messi</td>\n",
       "      <td>2011</td>\n",
       "      <td>50</td>\n",
       "    </tr>\n",
       "    <tr>\n",
       "      <th>81</th>\n",
       "      <td>Real Madrid</td>\n",
       "      <td>Cristiano Ronaldo</td>\n",
       "      <td>2014</td>\n",
       "      <td>48</td>\n",
       "    </tr>\n",
       "    <tr>\n",
       "      <th>32</th>\n",
       "      <td>Barcelona</td>\n",
       "      <td>Lionel Messi</td>\n",
       "      <td>2012</td>\n",
       "      <td>46</td>\n",
       "    </tr>\n",
       "    <tr>\n",
       "      <th>78</th>\n",
       "      <td>Real Madrid</td>\n",
       "      <td>Cristiano Ronaldo</td>\n",
       "      <td>2011</td>\n",
       "      <td>46</td>\n",
       "    </tr>\n",
       "    <tr>\n",
       "      <th>34</th>\n",
       "      <td>Barcelona</td>\n",
       "      <td>Lionel Messi</td>\n",
       "      <td>2014</td>\n",
       "      <td>43</td>\n",
       "    </tr>\n",
       "    <tr>\n",
       "      <th>...</th>\n",
       "      <td>...</td>\n",
       "      <td>...</td>\n",
       "      <td>...</td>\n",
       "      <td>...</td>\n",
       "    </tr>\n",
       "    <tr>\n",
       "      <th>1</th>\n",
       "      <td>Athletic Club</td>\n",
       "      <td>Aritz Aduriz</td>\n",
       "      <td>2012</td>\n",
       "      <td>14</td>\n",
       "    </tr>\n",
       "    <tr>\n",
       "      <th>68</th>\n",
       "      <td>Málaga</td>\n",
       "      <td>Salomón Rondón</td>\n",
       "      <td>2010</td>\n",
       "      <td>14</td>\n",
       "    </tr>\n",
       "    <tr>\n",
       "      <th>69</th>\n",
       "      <td>Málaga</td>\n",
       "      <td>Sandro Ramírez</td>\n",
       "      <td>2016</td>\n",
       "      <td>14</td>\n",
       "    </tr>\n",
       "    <tr>\n",
       "      <th>58</th>\n",
       "      <td>Espanyol</td>\n",
       "      <td>Gerard Moreno</td>\n",
       "      <td>2016</td>\n",
       "      <td>13</td>\n",
       "    </tr>\n",
       "    <tr>\n",
       "      <th>75</th>\n",
       "      <td>Real Betis</td>\n",
       "      <td>Rubén Castro</td>\n",
       "      <td>2016</td>\n",
       "      <td>13</td>\n",
       "    </tr>\n",
       "  </tbody>\n",
       "</table>\n",
       "<p>130 rows × 4 columns</p>\n",
       "</div>"
      ],
      "text/plain": [
       "             team             player  year  goals scored\n",
       "31      Barcelona       Lionel Messi  2011            50\n",
       "81    Real Madrid  Cristiano Ronaldo  2014            48\n",
       "32      Barcelona       Lionel Messi  2012            46\n",
       "78    Real Madrid  Cristiano Ronaldo  2011            46\n",
       "34      Barcelona       Lionel Messi  2014            43\n",
       "..            ...                ...   ...           ...\n",
       "1   Athletic Club       Aritz Aduriz  2012            14\n",
       "68         Málaga     Salomón Rondón  2010            14\n",
       "69         Málaga     Sandro Ramírez  2016            14\n",
       "58       Espanyol      Gerard Moreno  2016            13\n",
       "75     Real Betis       Rubén Castro  2016            13\n",
       "\n",
       "[130 rows x 4 columns]"
      ]
     },
     "execution_count": 274,
     "metadata": {},
     "output_type": "execute_result"
    }
   ],
   "source": [
    "team_player_goals = df.groupby(by=['team', 'player', 'year' \n",
    "                                       ], as_index=False).agg({'goals scored': pd.Series.sum})\n",
    "\n",
    "team_player_goals = team_player_goals.sort_values('goals scored', ascending=False)\n",
    "team_player_goals\n"
   ]
  },
  {
   "cell_type": "code",
   "execution_count": 275,
   "id": "9b070ced",
   "metadata": {},
   "outputs": [
    {
     "data": {
      "application/vnd.plotly.v1+json": {
       "config": {
        "plotlyServerURL": "https://plot.ly"
       },
       "data": [
        {
         "branchvalues": "total",
         "domain": {
          "x": [
           0,
           1
          ],
          "y": [
           0,
           1
          ]
         },
         "hovertemplate": "labels=%{label}<br>goals scored=%{value}<br>parent=%{parent}<br>id=%{id}<extra></extra>",
         "ids": [
          " - /Alberto Bueno",
          "Barcelona/Alexis Sánchez",
          "Atlético Madrid/Antoine Griezmann",
          "Real Sociedad/Antoine Griezmann",
          "Athletic Club/Aritz Aduriz",
          "Levante/Arouna Koné",
          "Eibar/Borja Bastón",
          "Espanyol/Borja Iglesias",
          "Sevilla FC/Carlos Bacca",
          "Real Sociedad/Carlos Vela",
          "Gerona/Cristhian Stuani",
          "Real Madrid/Cristiano Ronaldo",
          "Mallorca/Daniel Güiza",
          "Barcelona/David Villa",
          "Valencia/David Villa",
          "Atlético Madrid/Diego Costa",
          "Atlético Madrid/Diego Forlán",
          "Villarreal/Diego Forlán",
          "Real Zaragoza/Diego Milito",
          "Celta Vigo/Fernando Baiano",
          "Athletic Club/Fernando Llorente",
          "Atlético Madrid/Fernando Torres",
          "Sevilla FC/Frederic Kanouté",
          "Real Madrid/Gareth Bale",
          "Espanyol/Gerard Moreno",
          "Villarreal/Giuseppe Rossi",
          "Real Madrid/Gonzalo Higuaín",
          "Real Zaragoza/Hélder Postiga",
          "Celta Vigo/Iago Aspas",
          "Getafe/Jaime Mata",
          "Real Valladolid/Javi Guerra",
          "Getafe/Jorge Molina",
          "Real Madrid/Karim Benzema",
          "Barcelona/Lionel Messi",
          "Sevilla FC/Luis Fabiano",
          "Barcelona/Luis Suárez",
          "Celta Vigo/Maxi Gómez",
          "Rayo Vallecano/Michu",
          "Barcelona/Neymar",
          "Villarreal/Nihat Kahveci",
          "Tenerife/Nino",
          "Barcelona/Pedro",
          "Rayo Vallecano/Piti",
          "Atlético Madrid/Radamel Falcao",
          "Real Madrid/Raúl",
          "Espanyol/Raúl Tamudo",
          "Real Zaragoza/Ricardo Oliveira",
          "Valencia/Roberto Soldado",
          "Valencia/Rodrigo",
          "Barcelona/Ronaldinho",
          "Real Betis/Rubén Castro",
          "Real Madrid/Ruud van Nistelrooy",
          "Málaga/Salomón Rondón",
          "Barcelona/Samuel Eto'o",
          "Málaga/Sandro Ramírez",
          "Atlético Madrid/Sergio Agüero",
          "Espanyol/Sergio García",
          "Barcelona/Thierry Henry",
          "Sevilla FC/Wissam Ben Yedder",
          "Barcelona/Zlatan Ibrahimovic",
          "Real Madrid/Álvaro Morata",
          "Real Madrid/Álvaro Negredo",
          "Sevilla FC/Álvaro Negredo",
          " - ",
          "Athletic Club",
          "Atlético Madrid",
          "Barcelona",
          "Celta Vigo",
          "Eibar",
          "Espanyol",
          "Gerona",
          "Getafe",
          "Levante",
          "Mallorca",
          "Málaga",
          "Rayo Vallecano",
          "Real Betis",
          "Real Madrid",
          "Real Sociedad",
          "Real Valladolid",
          "Real Zaragoza",
          "Sevilla FC",
          "Tenerife",
          "Valencia",
          "Villarreal"
         ],
         "labels": [
          "Alberto Bueno",
          "Alexis Sánchez",
          "Antoine Griezmann",
          "Antoine Griezmann",
          "Aritz Aduriz",
          "Arouna Koné",
          "Borja Bastón",
          "Borja Iglesias",
          "Carlos Bacca",
          "Carlos Vela",
          "Cristhian Stuani",
          "Cristiano Ronaldo",
          "Daniel Güiza",
          "David Villa",
          "David Villa",
          "Diego Costa",
          "Diego Forlán",
          "Diego Forlán",
          "Diego Milito",
          "Fernando Baiano",
          "Fernando Llorente",
          "Fernando Torres",
          "Frederic Kanouté",
          "Gareth Bale",
          "Gerard Moreno",
          "Giuseppe Rossi",
          "Gonzalo Higuaín",
          "Hélder Postiga",
          "Iago Aspas",
          "Jaime Mata",
          "Javi Guerra",
          "Jorge Molina",
          "Karim Benzema",
          "Lionel Messi",
          "Luis Fabiano",
          "Luis Suárez",
          "Maxi Gómez",
          "Michu",
          "Neymar",
          "Nihat Kahveci",
          "Nino",
          "Pedro",
          "Piti",
          "Radamel Falcao",
          "Raúl",
          "Raúl Tamudo",
          "Ricardo Oliveira",
          "Roberto Soldado",
          "Rodrigo",
          "Ronaldinho",
          "Rubén Castro",
          "Ruud van Nistelrooy",
          "Salomón Rondón",
          "Samuel Eto'o",
          "Sandro Ramírez",
          "Sergio Agüero",
          "Sergio García",
          "Thierry Henry",
          "Wissam Ben Yedder",
          "Zlatan Ibrahimovic",
          "Álvaro Morata",
          "Álvaro Negredo",
          "Álvaro Negredo",
          " - ",
          "Athletic Club",
          "Atlético Madrid",
          "Barcelona",
          "Celta Vigo",
          "Eibar",
          "Espanyol",
          "Gerona",
          "Getafe",
          "Levante",
          "Mallorca",
          "Málaga",
          "Rayo Vallecano",
          "Real Betis",
          "Real Madrid",
          "Real Sociedad",
          "Real Valladolid",
          "Real Zaragoza",
          "Sevilla FC",
          "Tenerife",
          "Valencia",
          "Villarreal"
         ],
         "name": "",
         "parents": [
          " - ",
          "Barcelona",
          "Atlético Madrid",
          "Real Sociedad",
          "Athletic Club",
          "Levante",
          "Eibar",
          "Espanyol",
          "Sevilla FC",
          "Real Sociedad",
          "Gerona",
          "Real Madrid",
          "Mallorca",
          "Barcelona",
          "Valencia",
          "Atlético Madrid",
          "Atlético Madrid",
          "Villarreal",
          "Real Zaragoza",
          "Celta Vigo",
          "Athletic Club",
          "Atlético Madrid",
          "Sevilla FC",
          "Real Madrid",
          "Espanyol",
          "Villarreal",
          "Real Madrid",
          "Real Zaragoza",
          "Celta Vigo",
          "Getafe",
          "Real Valladolid",
          "Getafe",
          "Real Madrid",
          "Barcelona",
          "Sevilla FC",
          "Barcelona",
          "Celta Vigo",
          "Rayo Vallecano",
          "Barcelona",
          "Villarreal",
          "Tenerife",
          "Barcelona",
          "Rayo Vallecano",
          "Atlético Madrid",
          "Real Madrid",
          "Espanyol",
          "Real Zaragoza",
          "Valencia",
          "Valencia",
          "Barcelona",
          "Real Betis",
          "Real Madrid",
          "Málaga",
          "Barcelona",
          "Málaga",
          "Atlético Madrid",
          "Espanyol",
          "Barcelona",
          "Sevilla FC",
          "Barcelona",
          "Real Madrid",
          "Real Madrid",
          "Sevilla FC",
          "",
          "",
          "",
          "",
          "",
          "",
          "",
          "",
          "",
          "",
          "",
          "",
          "",
          "",
          "",
          "",
          "",
          "",
          "",
          "",
          "",
          ""
         ],
         "type": "sunburst",
         "values": [
          17,
          19,
          94,
          16,
          84,
          15,
          18,
          17,
          20,
          16,
          40,
          311,
          27,
          39,
          62,
          27,
          66,
          19,
          23,
          15,
          49,
          14,
          55,
          35,
          29,
          18,
          87,
          14,
          61,
          14,
          15,
          14,
          113,
          402,
          39,
          131,
          17,
          15,
          46,
          18,
          14,
          15,
          18,
          52,
          36,
          15,
          17,
          75,
          16,
          21,
          66,
          41,
          14,
          30,
          14,
          56,
          14,
          19,
          18,
          16,
          15,
          19,
          45,
          17,
          133,
          309,
          738,
          93,
          18,
          75,
          40,
          28,
          15,
          27,
          28,
          33,
          66,
          657,
          32,
          15,
          54,
          177,
          14,
          153,
          55
         ]
        }
       ],
       "layout": {
        "coloraxis": {
         "showscale": false
        },
        "height": 850,
        "legend": {
         "tracegroupgap": 0
        },
        "template": {
         "data": {
          "bar": [
           {
            "error_x": {
             "color": "#2a3f5f"
            },
            "error_y": {
             "color": "#2a3f5f"
            },
            "marker": {
             "line": {
              "color": "#E5ECF6",
              "width": 0.5
             },
             "pattern": {
              "fillmode": "overlay",
              "size": 10,
              "solidity": 0.2
             }
            },
            "type": "bar"
           }
          ],
          "barpolar": [
           {
            "marker": {
             "line": {
              "color": "#E5ECF6",
              "width": 0.5
             },
             "pattern": {
              "fillmode": "overlay",
              "size": 10,
              "solidity": 0.2
             }
            },
            "type": "barpolar"
           }
          ],
          "carpet": [
           {
            "aaxis": {
             "endlinecolor": "#2a3f5f",
             "gridcolor": "white",
             "linecolor": "white",
             "minorgridcolor": "white",
             "startlinecolor": "#2a3f5f"
            },
            "baxis": {
             "endlinecolor": "#2a3f5f",
             "gridcolor": "white",
             "linecolor": "white",
             "minorgridcolor": "white",
             "startlinecolor": "#2a3f5f"
            },
            "type": "carpet"
           }
          ],
          "choropleth": [
           {
            "colorbar": {
             "outlinewidth": 0,
             "ticks": ""
            },
            "type": "choropleth"
           }
          ],
          "contour": [
           {
            "colorbar": {
             "outlinewidth": 0,
             "ticks": ""
            },
            "colorscale": [
             [
              0,
              "#0d0887"
             ],
             [
              0.1111111111111111,
              "#46039f"
             ],
             [
              0.2222222222222222,
              "#7201a8"
             ],
             [
              0.3333333333333333,
              "#9c179e"
             ],
             [
              0.4444444444444444,
              "#bd3786"
             ],
             [
              0.5555555555555556,
              "#d8576b"
             ],
             [
              0.6666666666666666,
              "#ed7953"
             ],
             [
              0.7777777777777778,
              "#fb9f3a"
             ],
             [
              0.8888888888888888,
              "#fdca26"
             ],
             [
              1,
              "#f0f921"
             ]
            ],
            "type": "contour"
           }
          ],
          "contourcarpet": [
           {
            "colorbar": {
             "outlinewidth": 0,
             "ticks": ""
            },
            "type": "contourcarpet"
           }
          ],
          "heatmap": [
           {
            "colorbar": {
             "outlinewidth": 0,
             "ticks": ""
            },
            "colorscale": [
             [
              0,
              "#0d0887"
             ],
             [
              0.1111111111111111,
              "#46039f"
             ],
             [
              0.2222222222222222,
              "#7201a8"
             ],
             [
              0.3333333333333333,
              "#9c179e"
             ],
             [
              0.4444444444444444,
              "#bd3786"
             ],
             [
              0.5555555555555556,
              "#d8576b"
             ],
             [
              0.6666666666666666,
              "#ed7953"
             ],
             [
              0.7777777777777778,
              "#fb9f3a"
             ],
             [
              0.8888888888888888,
              "#fdca26"
             ],
             [
              1,
              "#f0f921"
             ]
            ],
            "type": "heatmap"
           }
          ],
          "heatmapgl": [
           {
            "colorbar": {
             "outlinewidth": 0,
             "ticks": ""
            },
            "colorscale": [
             [
              0,
              "#0d0887"
             ],
             [
              0.1111111111111111,
              "#46039f"
             ],
             [
              0.2222222222222222,
              "#7201a8"
             ],
             [
              0.3333333333333333,
              "#9c179e"
             ],
             [
              0.4444444444444444,
              "#bd3786"
             ],
             [
              0.5555555555555556,
              "#d8576b"
             ],
             [
              0.6666666666666666,
              "#ed7953"
             ],
             [
              0.7777777777777778,
              "#fb9f3a"
             ],
             [
              0.8888888888888888,
              "#fdca26"
             ],
             [
              1,
              "#f0f921"
             ]
            ],
            "type": "heatmapgl"
           }
          ],
          "histogram": [
           {
            "marker": {
             "pattern": {
              "fillmode": "overlay",
              "size": 10,
              "solidity": 0.2
             }
            },
            "type": "histogram"
           }
          ],
          "histogram2d": [
           {
            "colorbar": {
             "outlinewidth": 0,
             "ticks": ""
            },
            "colorscale": [
             [
              0,
              "#0d0887"
             ],
             [
              0.1111111111111111,
              "#46039f"
             ],
             [
              0.2222222222222222,
              "#7201a8"
             ],
             [
              0.3333333333333333,
              "#9c179e"
             ],
             [
              0.4444444444444444,
              "#bd3786"
             ],
             [
              0.5555555555555556,
              "#d8576b"
             ],
             [
              0.6666666666666666,
              "#ed7953"
             ],
             [
              0.7777777777777778,
              "#fb9f3a"
             ],
             [
              0.8888888888888888,
              "#fdca26"
             ],
             [
              1,
              "#f0f921"
             ]
            ],
            "type": "histogram2d"
           }
          ],
          "histogram2dcontour": [
           {
            "colorbar": {
             "outlinewidth": 0,
             "ticks": ""
            },
            "colorscale": [
             [
              0,
              "#0d0887"
             ],
             [
              0.1111111111111111,
              "#46039f"
             ],
             [
              0.2222222222222222,
              "#7201a8"
             ],
             [
              0.3333333333333333,
              "#9c179e"
             ],
             [
              0.4444444444444444,
              "#bd3786"
             ],
             [
              0.5555555555555556,
              "#d8576b"
             ],
             [
              0.6666666666666666,
              "#ed7953"
             ],
             [
              0.7777777777777778,
              "#fb9f3a"
             ],
             [
              0.8888888888888888,
              "#fdca26"
             ],
             [
              1,
              "#f0f921"
             ]
            ],
            "type": "histogram2dcontour"
           }
          ],
          "mesh3d": [
           {
            "colorbar": {
             "outlinewidth": 0,
             "ticks": ""
            },
            "type": "mesh3d"
           }
          ],
          "parcoords": [
           {
            "line": {
             "colorbar": {
              "outlinewidth": 0,
              "ticks": ""
             }
            },
            "type": "parcoords"
           }
          ],
          "pie": [
           {
            "automargin": true,
            "type": "pie"
           }
          ],
          "scatter": [
           {
            "marker": {
             "colorbar": {
              "outlinewidth": 0,
              "ticks": ""
             }
            },
            "type": "scatter"
           }
          ],
          "scatter3d": [
           {
            "line": {
             "colorbar": {
              "outlinewidth": 0,
              "ticks": ""
             }
            },
            "marker": {
             "colorbar": {
              "outlinewidth": 0,
              "ticks": ""
             }
            },
            "type": "scatter3d"
           }
          ],
          "scattercarpet": [
           {
            "marker": {
             "colorbar": {
              "outlinewidth": 0,
              "ticks": ""
             }
            },
            "type": "scattercarpet"
           }
          ],
          "scattergeo": [
           {
            "marker": {
             "colorbar": {
              "outlinewidth": 0,
              "ticks": ""
             }
            },
            "type": "scattergeo"
           }
          ],
          "scattergl": [
           {
            "marker": {
             "colorbar": {
              "outlinewidth": 0,
              "ticks": ""
             }
            },
            "type": "scattergl"
           }
          ],
          "scattermapbox": [
           {
            "marker": {
             "colorbar": {
              "outlinewidth": 0,
              "ticks": ""
             }
            },
            "type": "scattermapbox"
           }
          ],
          "scatterpolar": [
           {
            "marker": {
             "colorbar": {
              "outlinewidth": 0,
              "ticks": ""
             }
            },
            "type": "scatterpolar"
           }
          ],
          "scatterpolargl": [
           {
            "marker": {
             "colorbar": {
              "outlinewidth": 0,
              "ticks": ""
             }
            },
            "type": "scatterpolargl"
           }
          ],
          "scatterternary": [
           {
            "marker": {
             "colorbar": {
              "outlinewidth": 0,
              "ticks": ""
             }
            },
            "type": "scatterternary"
           }
          ],
          "surface": [
           {
            "colorbar": {
             "outlinewidth": 0,
             "ticks": ""
            },
            "colorscale": [
             [
              0,
              "#0d0887"
             ],
             [
              0.1111111111111111,
              "#46039f"
             ],
             [
              0.2222222222222222,
              "#7201a8"
             ],
             [
              0.3333333333333333,
              "#9c179e"
             ],
             [
              0.4444444444444444,
              "#bd3786"
             ],
             [
              0.5555555555555556,
              "#d8576b"
             ],
             [
              0.6666666666666666,
              "#ed7953"
             ],
             [
              0.7777777777777778,
              "#fb9f3a"
             ],
             [
              0.8888888888888888,
              "#fdca26"
             ],
             [
              1,
              "#f0f921"
             ]
            ],
            "type": "surface"
           }
          ],
          "table": [
           {
            "cells": {
             "fill": {
              "color": "#EBF0F8"
             },
             "line": {
              "color": "white"
             }
            },
            "header": {
             "fill": {
              "color": "#C8D4E3"
             },
             "line": {
              "color": "white"
             }
            },
            "type": "table"
           }
          ]
         },
         "layout": {
          "annotationdefaults": {
           "arrowcolor": "#2a3f5f",
           "arrowhead": 0,
           "arrowwidth": 1
          },
          "autotypenumbers": "strict",
          "coloraxis": {
           "colorbar": {
            "outlinewidth": 0,
            "ticks": ""
           }
          },
          "colorscale": {
           "diverging": [
            [
             0,
             "#8e0152"
            ],
            [
             0.1,
             "#c51b7d"
            ],
            [
             0.2,
             "#de77ae"
            ],
            [
             0.3,
             "#f1b6da"
            ],
            [
             0.4,
             "#fde0ef"
            ],
            [
             0.5,
             "#f7f7f7"
            ],
            [
             0.6,
             "#e6f5d0"
            ],
            [
             0.7,
             "#b8e186"
            ],
            [
             0.8,
             "#7fbc41"
            ],
            [
             0.9,
             "#4d9221"
            ],
            [
             1,
             "#276419"
            ]
           ],
           "sequential": [
            [
             0,
             "#0d0887"
            ],
            [
             0.1111111111111111,
             "#46039f"
            ],
            [
             0.2222222222222222,
             "#7201a8"
            ],
            [
             0.3333333333333333,
             "#9c179e"
            ],
            [
             0.4444444444444444,
             "#bd3786"
            ],
            [
             0.5555555555555556,
             "#d8576b"
            ],
            [
             0.6666666666666666,
             "#ed7953"
            ],
            [
             0.7777777777777778,
             "#fb9f3a"
            ],
            [
             0.8888888888888888,
             "#fdca26"
            ],
            [
             1,
             "#f0f921"
            ]
           ],
           "sequentialminus": [
            [
             0,
             "#0d0887"
            ],
            [
             0.1111111111111111,
             "#46039f"
            ],
            [
             0.2222222222222222,
             "#7201a8"
            ],
            [
             0.3333333333333333,
             "#9c179e"
            ],
            [
             0.4444444444444444,
             "#bd3786"
            ],
            [
             0.5555555555555556,
             "#d8576b"
            ],
            [
             0.6666666666666666,
             "#ed7953"
            ],
            [
             0.7777777777777778,
             "#fb9f3a"
            ],
            [
             0.8888888888888888,
             "#fdca26"
            ],
            [
             1,
             "#f0f921"
            ]
           ]
          },
          "colorway": [
           "#636efa",
           "#EF553B",
           "#00cc96",
           "#ab63fa",
           "#FFA15A",
           "#19d3f3",
           "#FF6692",
           "#B6E880",
           "#FF97FF",
           "#FECB52"
          ],
          "font": {
           "color": "#2a3f5f"
          },
          "geo": {
           "bgcolor": "white",
           "lakecolor": "white",
           "landcolor": "#E5ECF6",
           "showlakes": true,
           "showland": true,
           "subunitcolor": "white"
          },
          "hoverlabel": {
           "align": "left"
          },
          "hovermode": "closest",
          "mapbox": {
           "style": "light"
          },
          "paper_bgcolor": "white",
          "plot_bgcolor": "#E5ECF6",
          "polar": {
           "angularaxis": {
            "gridcolor": "white",
            "linecolor": "white",
            "ticks": ""
           },
           "bgcolor": "#E5ECF6",
           "radialaxis": {
            "gridcolor": "white",
            "linecolor": "white",
            "ticks": ""
           }
          },
          "scene": {
           "xaxis": {
            "backgroundcolor": "#E5ECF6",
            "gridcolor": "white",
            "gridwidth": 2,
            "linecolor": "white",
            "showbackground": true,
            "ticks": "",
            "zerolinecolor": "white"
           },
           "yaxis": {
            "backgroundcolor": "#E5ECF6",
            "gridcolor": "white",
            "gridwidth": 2,
            "linecolor": "white",
            "showbackground": true,
            "ticks": "",
            "zerolinecolor": "white"
           },
           "zaxis": {
            "backgroundcolor": "#E5ECF6",
            "gridcolor": "white",
            "gridwidth": 2,
            "linecolor": "white",
            "showbackground": true,
            "ticks": "",
            "zerolinecolor": "white"
           }
          },
          "shapedefaults": {
           "line": {
            "color": "#2a3f5f"
           }
          },
          "ternary": {
           "aaxis": {
            "gridcolor": "white",
            "linecolor": "white",
            "ticks": ""
           },
           "baxis": {
            "gridcolor": "white",
            "linecolor": "white",
            "ticks": ""
           },
           "bgcolor": "#E5ECF6",
           "caxis": {
            "gridcolor": "white",
            "linecolor": "white",
            "ticks": ""
           }
          },
          "title": {
           "x": 0.05
          },
          "xaxis": {
           "automargin": true,
           "gridcolor": "white",
           "linecolor": "white",
           "ticks": "",
           "title": {
            "standoff": 15
           },
           "zerolinecolor": "white",
           "zerolinewidth": 2
          },
          "yaxis": {
           "automargin": true,
           "gridcolor": "white",
           "linecolor": "white",
           "ticks": "",
           "title": {
            "standoff": 15
           },
           "zerolinecolor": "white",
           "zerolinewidth": 2
          }
         }
        },
        "title": {
         "text": "In what team are players in the top 10 goalscorers at? <br> Data from season 2006 to 2018"
        },
        "width": 850,
        "xaxis": {
         "title": {
          "text": "Goals Scored"
         }
        },
        "yaxis": {
         "title": {
          "text": "Team"
         }
        }
       }
      },
      "text/html": [
       "<div>                            <div id=\"ce0d8c18-ebe4-46c3-8e67-565f449ab558\" class=\"plotly-graph-div\" style=\"height:850px; width:850px;\"></div>            <script type=\"text/javascript\">                require([\"plotly\"], function(Plotly) {                    window.PLOTLYENV=window.PLOTLYENV || {};                                    if (document.getElementById(\"ce0d8c18-ebe4-46c3-8e67-565f449ab558\")) {                    Plotly.newPlot(                        \"ce0d8c18-ebe4-46c3-8e67-565f449ab558\",                        [{\"branchvalues\":\"total\",\"domain\":{\"x\":[0.0,1.0],\"y\":[0.0,1.0]},\"hovertemplate\":\"labels=%{label}<br>goals scored=%{value}<br>parent=%{parent}<br>id=%{id}<extra></extra>\",\"ids\":[\" - /Alberto Bueno\",\"Barcelona/Alexis S\\u00e1nchez\",\"Atl\\u00e9tico Madrid/Antoine Griezmann\",\"Real Sociedad/Antoine Griezmann\",\"Athletic Club/Aritz Aduriz\",\"Levante/Arouna Kon\\u00e9\",\"Eibar/Borja Bast\\u00f3n\",\"Espanyol/Borja Iglesias\",\"Sevilla FC/Carlos Bacca\",\"Real Sociedad/Carlos Vela\",\"Gerona/Cristhian Stuani\",\"Real Madrid/Cristiano Ronaldo\",\"Mallorca/Daniel G\\u00fciza\",\"Barcelona/David Villa\",\"Valencia/David Villa\",\"Atl\\u00e9tico Madrid/Diego Costa\",\"Atl\\u00e9tico Madrid/Diego Forl\\u00e1n\",\"Villarreal/Diego Forl\\u00e1n\",\"Real Zaragoza/Diego Milito\",\"Celta Vigo/Fernando Baiano\",\"Athletic Club/Fernando Llorente\",\"Atl\\u00e9tico Madrid/Fernando Torres\",\"Sevilla FC/Frederic Kanout\\u00e9\",\"Real Madrid/Gareth Bale\",\"Espanyol/Gerard Moreno\",\"Villarreal/Giuseppe Rossi\",\"Real Madrid/Gonzalo Higua\\u00edn\",\"Real Zaragoza/H\\u00e9lder Postiga\",\"Celta Vigo/Iago Aspas\",\"Getafe/Jaime Mata\",\"Real Valladolid/Javi Guerra\",\"Getafe/Jorge Molina\",\"Real Madrid/Karim Benzema\",\"Barcelona/Lionel Messi\",\"Sevilla FC/Luis Fabiano\",\"Barcelona/Luis Su\\u00e1rez\",\"Celta Vigo/Maxi G\\u00f3mez\",\"Rayo Vallecano/Michu\",\"Barcelona/Neymar\",\"Villarreal/Nihat Kahveci\",\"Tenerife/Nino\",\"Barcelona/Pedro\",\"Rayo Vallecano/Piti\",\"Atl\\u00e9tico Madrid/Radamel Falcao\",\"Real Madrid/Ra\\u00fal\",\"Espanyol/Ra\\u00fal Tamudo\",\"Real Zaragoza/Ricardo Oliveira\",\"Valencia/Roberto Soldado\",\"Valencia/Rodrigo\",\"Barcelona/Ronaldinho\",\"Real Betis/Rub\\u00e9n Castro\",\"Real Madrid/Ruud van Nistelrooy\",\"M\\u00e1laga/Salom\\u00f3n Rond\\u00f3n\",\"Barcelona/Samuel Eto'o\",\"M\\u00e1laga/Sandro Ram\\u00edrez\",\"Atl\\u00e9tico Madrid/Sergio Ag\\u00fcero\",\"Espanyol/Sergio Garc\\u00eda\",\"Barcelona/Thierry Henry\",\"Sevilla FC/Wissam Ben Yedder\",\"Barcelona/Zlatan Ibrahimovic\",\"Real Madrid/\\u00c1lvaro Morata\",\"Real Madrid/\\u00c1lvaro Negredo\",\"Sevilla FC/\\u00c1lvaro Negredo\",\" - \",\"Athletic Club\",\"Atl\\u00e9tico Madrid\",\"Barcelona\",\"Celta Vigo\",\"Eibar\",\"Espanyol\",\"Gerona\",\"Getafe\",\"Levante\",\"Mallorca\",\"M\\u00e1laga\",\"Rayo Vallecano\",\"Real Betis\",\"Real Madrid\",\"Real Sociedad\",\"Real Valladolid\",\"Real Zaragoza\",\"Sevilla FC\",\"Tenerife\",\"Valencia\",\"Villarreal\"],\"labels\":[\"Alberto Bueno\",\"Alexis S\\u00e1nchez\",\"Antoine Griezmann\",\"Antoine Griezmann\",\"Aritz Aduriz\",\"Arouna Kon\\u00e9\",\"Borja Bast\\u00f3n\",\"Borja Iglesias\",\"Carlos Bacca\",\"Carlos Vela\",\"Cristhian Stuani\",\"Cristiano Ronaldo\",\"Daniel G\\u00fciza\",\"David Villa\",\"David Villa\",\"Diego Costa\",\"Diego Forl\\u00e1n\",\"Diego Forl\\u00e1n\",\"Diego Milito\",\"Fernando Baiano\",\"Fernando Llorente\",\"Fernando Torres\",\"Frederic Kanout\\u00e9\",\"Gareth Bale\",\"Gerard Moreno\",\"Giuseppe Rossi\",\"Gonzalo Higua\\u00edn\",\"H\\u00e9lder Postiga\",\"Iago Aspas\",\"Jaime Mata\",\"Javi Guerra\",\"Jorge Molina\",\"Karim Benzema\",\"Lionel Messi\",\"Luis Fabiano\",\"Luis Su\\u00e1rez\",\"Maxi G\\u00f3mez\",\"Michu\",\"Neymar\",\"Nihat Kahveci\",\"Nino\",\"Pedro\",\"Piti\",\"Radamel Falcao\",\"Ra\\u00fal\",\"Ra\\u00fal Tamudo\",\"Ricardo Oliveira\",\"Roberto Soldado\",\"Rodrigo\",\"Ronaldinho\",\"Rub\\u00e9n Castro\",\"Ruud van Nistelrooy\",\"Salom\\u00f3n Rond\\u00f3n\",\"Samuel Eto'o\",\"Sandro Ram\\u00edrez\",\"Sergio Ag\\u00fcero\",\"Sergio Garc\\u00eda\",\"Thierry Henry\",\"Wissam Ben Yedder\",\"Zlatan Ibrahimovic\",\"\\u00c1lvaro Morata\",\"\\u00c1lvaro Negredo\",\"\\u00c1lvaro Negredo\",\" - \",\"Athletic Club\",\"Atl\\u00e9tico Madrid\",\"Barcelona\",\"Celta Vigo\",\"Eibar\",\"Espanyol\",\"Gerona\",\"Getafe\",\"Levante\",\"Mallorca\",\"M\\u00e1laga\",\"Rayo Vallecano\",\"Real Betis\",\"Real Madrid\",\"Real Sociedad\",\"Real Valladolid\",\"Real Zaragoza\",\"Sevilla FC\",\"Tenerife\",\"Valencia\",\"Villarreal\"],\"name\":\"\",\"parents\":[\" - \",\"Barcelona\",\"Atl\\u00e9tico Madrid\",\"Real Sociedad\",\"Athletic Club\",\"Levante\",\"Eibar\",\"Espanyol\",\"Sevilla FC\",\"Real Sociedad\",\"Gerona\",\"Real Madrid\",\"Mallorca\",\"Barcelona\",\"Valencia\",\"Atl\\u00e9tico Madrid\",\"Atl\\u00e9tico Madrid\",\"Villarreal\",\"Real Zaragoza\",\"Celta Vigo\",\"Athletic Club\",\"Atl\\u00e9tico Madrid\",\"Sevilla FC\",\"Real Madrid\",\"Espanyol\",\"Villarreal\",\"Real Madrid\",\"Real Zaragoza\",\"Celta Vigo\",\"Getafe\",\"Real Valladolid\",\"Getafe\",\"Real Madrid\",\"Barcelona\",\"Sevilla FC\",\"Barcelona\",\"Celta Vigo\",\"Rayo Vallecano\",\"Barcelona\",\"Villarreal\",\"Tenerife\",\"Barcelona\",\"Rayo Vallecano\",\"Atl\\u00e9tico Madrid\",\"Real Madrid\",\"Espanyol\",\"Real Zaragoza\",\"Valencia\",\"Valencia\",\"Barcelona\",\"Real Betis\",\"Real Madrid\",\"M\\u00e1laga\",\"Barcelona\",\"M\\u00e1laga\",\"Atl\\u00e9tico Madrid\",\"Espanyol\",\"Barcelona\",\"Sevilla FC\",\"Barcelona\",\"Real Madrid\",\"Real Madrid\",\"Sevilla FC\",\"\",\"\",\"\",\"\",\"\",\"\",\"\",\"\",\"\",\"\",\"\",\"\",\"\",\"\",\"\",\"\",\"\",\"\",\"\",\"\",\"\",\"\"],\"values\":[17,19,94,16,84,15,18,17,20,16,40,311,27,39,62,27,66,19,23,15,49,14,55,35,29,18,87,14,61,14,15,14,113,402,39,131,17,15,46,18,14,15,18,52,36,15,17,75,16,21,66,41,14,30,14,56,14,19,18,16,15,19,45,17,133,309,738,93,18,75,40,28,15,27,28,33,66,657,32,15,54,177,14,153,55],\"type\":\"sunburst\"}],                        {\"template\":{\"data\":{\"bar\":[{\"error_x\":{\"color\":\"#2a3f5f\"},\"error_y\":{\"color\":\"#2a3f5f\"},\"marker\":{\"line\":{\"color\":\"#E5ECF6\",\"width\":0.5},\"pattern\":{\"fillmode\":\"overlay\",\"size\":10,\"solidity\":0.2}},\"type\":\"bar\"}],\"barpolar\":[{\"marker\":{\"line\":{\"color\":\"#E5ECF6\",\"width\":0.5},\"pattern\":{\"fillmode\":\"overlay\",\"size\":10,\"solidity\":0.2}},\"type\":\"barpolar\"}],\"carpet\":[{\"aaxis\":{\"endlinecolor\":\"#2a3f5f\",\"gridcolor\":\"white\",\"linecolor\":\"white\",\"minorgridcolor\":\"white\",\"startlinecolor\":\"#2a3f5f\"},\"baxis\":{\"endlinecolor\":\"#2a3f5f\",\"gridcolor\":\"white\",\"linecolor\":\"white\",\"minorgridcolor\":\"white\",\"startlinecolor\":\"#2a3f5f\"},\"type\":\"carpet\"}],\"choropleth\":[{\"colorbar\":{\"outlinewidth\":0,\"ticks\":\"\"},\"type\":\"choropleth\"}],\"contour\":[{\"colorbar\":{\"outlinewidth\":0,\"ticks\":\"\"},\"colorscale\":[[0.0,\"#0d0887\"],[0.1111111111111111,\"#46039f\"],[0.2222222222222222,\"#7201a8\"],[0.3333333333333333,\"#9c179e\"],[0.4444444444444444,\"#bd3786\"],[0.5555555555555556,\"#d8576b\"],[0.6666666666666666,\"#ed7953\"],[0.7777777777777778,\"#fb9f3a\"],[0.8888888888888888,\"#fdca26\"],[1.0,\"#f0f921\"]],\"type\":\"contour\"}],\"contourcarpet\":[{\"colorbar\":{\"outlinewidth\":0,\"ticks\":\"\"},\"type\":\"contourcarpet\"}],\"heatmap\":[{\"colorbar\":{\"outlinewidth\":0,\"ticks\":\"\"},\"colorscale\":[[0.0,\"#0d0887\"],[0.1111111111111111,\"#46039f\"],[0.2222222222222222,\"#7201a8\"],[0.3333333333333333,\"#9c179e\"],[0.4444444444444444,\"#bd3786\"],[0.5555555555555556,\"#d8576b\"],[0.6666666666666666,\"#ed7953\"],[0.7777777777777778,\"#fb9f3a\"],[0.8888888888888888,\"#fdca26\"],[1.0,\"#f0f921\"]],\"type\":\"heatmap\"}],\"heatmapgl\":[{\"colorbar\":{\"outlinewidth\":0,\"ticks\":\"\"},\"colorscale\":[[0.0,\"#0d0887\"],[0.1111111111111111,\"#46039f\"],[0.2222222222222222,\"#7201a8\"],[0.3333333333333333,\"#9c179e\"],[0.4444444444444444,\"#bd3786\"],[0.5555555555555556,\"#d8576b\"],[0.6666666666666666,\"#ed7953\"],[0.7777777777777778,\"#fb9f3a\"],[0.8888888888888888,\"#fdca26\"],[1.0,\"#f0f921\"]],\"type\":\"heatmapgl\"}],\"histogram\":[{\"marker\":{\"pattern\":{\"fillmode\":\"overlay\",\"size\":10,\"solidity\":0.2}},\"type\":\"histogram\"}],\"histogram2d\":[{\"colorbar\":{\"outlinewidth\":0,\"ticks\":\"\"},\"colorscale\":[[0.0,\"#0d0887\"],[0.1111111111111111,\"#46039f\"],[0.2222222222222222,\"#7201a8\"],[0.3333333333333333,\"#9c179e\"],[0.4444444444444444,\"#bd3786\"],[0.5555555555555556,\"#d8576b\"],[0.6666666666666666,\"#ed7953\"],[0.7777777777777778,\"#fb9f3a\"],[0.8888888888888888,\"#fdca26\"],[1.0,\"#f0f921\"]],\"type\":\"histogram2d\"}],\"histogram2dcontour\":[{\"colorbar\":{\"outlinewidth\":0,\"ticks\":\"\"},\"colorscale\":[[0.0,\"#0d0887\"],[0.1111111111111111,\"#46039f\"],[0.2222222222222222,\"#7201a8\"],[0.3333333333333333,\"#9c179e\"],[0.4444444444444444,\"#bd3786\"],[0.5555555555555556,\"#d8576b\"],[0.6666666666666666,\"#ed7953\"],[0.7777777777777778,\"#fb9f3a\"],[0.8888888888888888,\"#fdca26\"],[1.0,\"#f0f921\"]],\"type\":\"histogram2dcontour\"}],\"mesh3d\":[{\"colorbar\":{\"outlinewidth\":0,\"ticks\":\"\"},\"type\":\"mesh3d\"}],\"parcoords\":[{\"line\":{\"colorbar\":{\"outlinewidth\":0,\"ticks\":\"\"}},\"type\":\"parcoords\"}],\"pie\":[{\"automargin\":true,\"type\":\"pie\"}],\"scatter\":[{\"marker\":{\"colorbar\":{\"outlinewidth\":0,\"ticks\":\"\"}},\"type\":\"scatter\"}],\"scatter3d\":[{\"line\":{\"colorbar\":{\"outlinewidth\":0,\"ticks\":\"\"}},\"marker\":{\"colorbar\":{\"outlinewidth\":0,\"ticks\":\"\"}},\"type\":\"scatter3d\"}],\"scattercarpet\":[{\"marker\":{\"colorbar\":{\"outlinewidth\":0,\"ticks\":\"\"}},\"type\":\"scattercarpet\"}],\"scattergeo\":[{\"marker\":{\"colorbar\":{\"outlinewidth\":0,\"ticks\":\"\"}},\"type\":\"scattergeo\"}],\"scattergl\":[{\"marker\":{\"colorbar\":{\"outlinewidth\":0,\"ticks\":\"\"}},\"type\":\"scattergl\"}],\"scattermapbox\":[{\"marker\":{\"colorbar\":{\"outlinewidth\":0,\"ticks\":\"\"}},\"type\":\"scattermapbox\"}],\"scatterpolar\":[{\"marker\":{\"colorbar\":{\"outlinewidth\":0,\"ticks\":\"\"}},\"type\":\"scatterpolar\"}],\"scatterpolargl\":[{\"marker\":{\"colorbar\":{\"outlinewidth\":0,\"ticks\":\"\"}},\"type\":\"scatterpolargl\"}],\"scatterternary\":[{\"marker\":{\"colorbar\":{\"outlinewidth\":0,\"ticks\":\"\"}},\"type\":\"scatterternary\"}],\"surface\":[{\"colorbar\":{\"outlinewidth\":0,\"ticks\":\"\"},\"colorscale\":[[0.0,\"#0d0887\"],[0.1111111111111111,\"#46039f\"],[0.2222222222222222,\"#7201a8\"],[0.3333333333333333,\"#9c179e\"],[0.4444444444444444,\"#bd3786\"],[0.5555555555555556,\"#d8576b\"],[0.6666666666666666,\"#ed7953\"],[0.7777777777777778,\"#fb9f3a\"],[0.8888888888888888,\"#fdca26\"],[1.0,\"#f0f921\"]],\"type\":\"surface\"}],\"table\":[{\"cells\":{\"fill\":{\"color\":\"#EBF0F8\"},\"line\":{\"color\":\"white\"}},\"header\":{\"fill\":{\"color\":\"#C8D4E3\"},\"line\":{\"color\":\"white\"}},\"type\":\"table\"}]},\"layout\":{\"annotationdefaults\":{\"arrowcolor\":\"#2a3f5f\",\"arrowhead\":0,\"arrowwidth\":1},\"autotypenumbers\":\"strict\",\"coloraxis\":{\"colorbar\":{\"outlinewidth\":0,\"ticks\":\"\"}},\"colorscale\":{\"diverging\":[[0,\"#8e0152\"],[0.1,\"#c51b7d\"],[0.2,\"#de77ae\"],[0.3,\"#f1b6da\"],[0.4,\"#fde0ef\"],[0.5,\"#f7f7f7\"],[0.6,\"#e6f5d0\"],[0.7,\"#b8e186\"],[0.8,\"#7fbc41\"],[0.9,\"#4d9221\"],[1,\"#276419\"]],\"sequential\":[[0.0,\"#0d0887\"],[0.1111111111111111,\"#46039f\"],[0.2222222222222222,\"#7201a8\"],[0.3333333333333333,\"#9c179e\"],[0.4444444444444444,\"#bd3786\"],[0.5555555555555556,\"#d8576b\"],[0.6666666666666666,\"#ed7953\"],[0.7777777777777778,\"#fb9f3a\"],[0.8888888888888888,\"#fdca26\"],[1.0,\"#f0f921\"]],\"sequentialminus\":[[0.0,\"#0d0887\"],[0.1111111111111111,\"#46039f\"],[0.2222222222222222,\"#7201a8\"],[0.3333333333333333,\"#9c179e\"],[0.4444444444444444,\"#bd3786\"],[0.5555555555555556,\"#d8576b\"],[0.6666666666666666,\"#ed7953\"],[0.7777777777777778,\"#fb9f3a\"],[0.8888888888888888,\"#fdca26\"],[1.0,\"#f0f921\"]]},\"colorway\":[\"#636efa\",\"#EF553B\",\"#00cc96\",\"#ab63fa\",\"#FFA15A\",\"#19d3f3\",\"#FF6692\",\"#B6E880\",\"#FF97FF\",\"#FECB52\"],\"font\":{\"color\":\"#2a3f5f\"},\"geo\":{\"bgcolor\":\"white\",\"lakecolor\":\"white\",\"landcolor\":\"#E5ECF6\",\"showlakes\":true,\"showland\":true,\"subunitcolor\":\"white\"},\"hoverlabel\":{\"align\":\"left\"},\"hovermode\":\"closest\",\"mapbox\":{\"style\":\"light\"},\"paper_bgcolor\":\"white\",\"plot_bgcolor\":\"#E5ECF6\",\"polar\":{\"angularaxis\":{\"gridcolor\":\"white\",\"linecolor\":\"white\",\"ticks\":\"\"},\"bgcolor\":\"#E5ECF6\",\"radialaxis\":{\"gridcolor\":\"white\",\"linecolor\":\"white\",\"ticks\":\"\"}},\"scene\":{\"xaxis\":{\"backgroundcolor\":\"#E5ECF6\",\"gridcolor\":\"white\",\"gridwidth\":2,\"linecolor\":\"white\",\"showbackground\":true,\"ticks\":\"\",\"zerolinecolor\":\"white\"},\"yaxis\":{\"backgroundcolor\":\"#E5ECF6\",\"gridcolor\":\"white\",\"gridwidth\":2,\"linecolor\":\"white\",\"showbackground\":true,\"ticks\":\"\",\"zerolinecolor\":\"white\"},\"zaxis\":{\"backgroundcolor\":\"#E5ECF6\",\"gridcolor\":\"white\",\"gridwidth\":2,\"linecolor\":\"white\",\"showbackground\":true,\"ticks\":\"\",\"zerolinecolor\":\"white\"}},\"shapedefaults\":{\"line\":{\"color\":\"#2a3f5f\"}},\"ternary\":{\"aaxis\":{\"gridcolor\":\"white\",\"linecolor\":\"white\",\"ticks\":\"\"},\"baxis\":{\"gridcolor\":\"white\",\"linecolor\":\"white\",\"ticks\":\"\"},\"bgcolor\":\"#E5ECF6\",\"caxis\":{\"gridcolor\":\"white\",\"linecolor\":\"white\",\"ticks\":\"\"}},\"title\":{\"x\":0.05},\"xaxis\":{\"automargin\":true,\"gridcolor\":\"white\",\"linecolor\":\"white\",\"ticks\":\"\",\"title\":{\"standoff\":15},\"zerolinecolor\":\"white\",\"zerolinewidth\":2},\"yaxis\":{\"automargin\":true,\"gridcolor\":\"white\",\"linecolor\":\"white\",\"ticks\":\"\",\"title\":{\"standoff\":15},\"zerolinecolor\":\"white\",\"zerolinewidth\":2}}},\"legend\":{\"tracegroupgap\":0},\"title\":{\"text\":\"In what team are players in the top 10 goalscorers at? <br> Data from season 2006 to 2018\"},\"height\":850,\"width\":850,\"coloraxis\":{\"showscale\":false},\"xaxis\":{\"title\":{\"text\":\"Goals Scored\"}},\"yaxis\":{\"title\":{\"text\":\"Team\"}}},                        {\"responsive\": true}                    ).then(function(){\n",
       "                            \n",
       "var gd = document.getElementById('ce0d8c18-ebe4-46c3-8e67-565f449ab558');\n",
       "var x = new MutationObserver(function (mutations, observer) {{\n",
       "        var display = window.getComputedStyle(gd).display;\n",
       "        if (!display || display === 'none') {{\n",
       "            console.log([gd, 'removed!']);\n",
       "            Plotly.purge(gd);\n",
       "            observer.disconnect();\n",
       "        }}\n",
       "}});\n",
       "\n",
       "// Listen for the removal of the full notebook cells\n",
       "var notebookContainer = gd.closest('#notebook-container');\n",
       "if (notebookContainer) {{\n",
       "    x.observe(notebookContainer, {childList: true});\n",
       "}}\n",
       "\n",
       "// Listen for the clearing of the current output cell\n",
       "var outputEl = gd.closest('.output');\n",
       "if (outputEl) {{\n",
       "    x.observe(outputEl, {childList: true});\n",
       "}}\n",
       "\n",
       "                        })                };                });            </script>        </div>"
      ]
     },
     "metadata": {},
     "output_type": "display_data"
    }
   ],
   "source": [
    "burst = px.sunburst(team_player_goals, \n",
    "                    path=['team', 'player'], \n",
    "                    values='goals scored',\n",
    "                    title=f'In what team are players in the top {top_n_players} goalscorers at? <br> Data from season {start_year} to {end_year}',\n",
    "                    width=850,\n",
    "                    height=850\n",
    "                   )\n",
    "\n",
    "burst.update_layout(xaxis_title='Goals Scored', \n",
    "                    yaxis_title='Team',\n",
    "                    coloraxis_showscale=False)\n",
    "\n",
    "burst.show()"
   ]
  },
  {
   "cell_type": "code",
   "execution_count": 276,
   "id": "8c7806fa",
   "metadata": {
    "scrolled": false
   },
   "outputs": [
    {
     "data": {
      "application/vnd.plotly.v1+json": {
       "config": {
        "plotlyServerURL": "https://plot.ly"
       },
       "data": [
        {
         "branchvalues": "total",
         "domain": {
          "x": [
           0,
           1
          ],
          "y": [
           0,
           1
          ]
         },
         "hovertemplate": "labels=%{label}<br>goals scored=%{value}<br>parent=%{parent}<br>id=%{id}<extra></extra>",
         "ids": [
          " - /2014/Alberto Bueno",
          "Barcelona/2013/Alexis Sánchez",
          "Real Sociedad/2013/Antoine Griezmann",
          "Atlético Madrid/2014/Antoine Griezmann",
          "Atlético Madrid/2015/Antoine Griezmann",
          "Atlético Madrid/2016/Antoine Griezmann",
          "Atlético Madrid/2017/Antoine Griezmann",
          "Atlético Madrid/2018/Antoine Griezmann",
          "Athletic Club/2012/Aritz Aduriz",
          "Athletic Club/2013/Aritz Aduriz",
          "Athletic Club/2014/Aritz Aduriz",
          "Athletic Club/2015/Aritz Aduriz",
          "Athletic Club/2016/Aritz Aduriz",
          "Levante/2011/Arouna Koné",
          "Eibar/2015/Borja Bastón",
          "Espanyol/2018/Borja Iglesias",
          "Sevilla FC/2014/Carlos Bacca",
          "Real Sociedad/2013/Carlos Vela",
          "Gerona/2017/Cristhian Stuani",
          "Gerona/2018/Cristhian Stuani",
          "Real Madrid/2009/Cristiano Ronaldo",
          "Real Madrid/2010/Cristiano Ronaldo",
          "Real Madrid/2011/Cristiano Ronaldo",
          "Real Madrid/2012/Cristiano Ronaldo",
          "Real Madrid/2013/Cristiano Ronaldo",
          "Real Madrid/2014/Cristiano Ronaldo",
          "Real Madrid/2015/Cristiano Ronaldo",
          "Real Madrid/2016/Cristiano Ronaldo",
          "Real Madrid/2017/Cristiano Ronaldo",
          "Mallorca/2007/Daniel Güiza",
          "Valencia/2006/David Villa",
          "Valencia/2007/David Villa",
          "Valencia/2008/David Villa",
          "Barcelona/2009/David Villa",
          "Barcelona/2010/David Villa",
          "Atlético Madrid/2013/Diego Costa",
          "Villarreal/2006/Diego Forlán",
          "Atlético Madrid/2007/Diego Forlán",
          "Atlético Madrid/2008/Diego Forlán",
          "Atlético Madrid/2009/Diego Forlán",
          "Real Zaragoza/2006/Diego Milito",
          "Celta Vigo/2006/Fernando Baiano",
          "Athletic Club/2009/Fernando Llorente",
          "Athletic Club/2010/Fernando Llorente",
          "Athletic Club/2011/Fernando Llorente",
          "Atlético Madrid/2006/Fernando Torres",
          "Sevilla FC/2006/Frederic Kanouté",
          "Sevilla FC/2007/Frederic Kanouté",
          "Sevilla FC/2008/Frederic Kanouté",
          "Real Madrid/2015/Gareth Bale",
          "Real Madrid/2017/Gareth Bale",
          "Espanyol/2016/Gerard Moreno",
          "Espanyol/2017/Gerard Moreno",
          "Villarreal/2010/Giuseppe Rossi",
          "Real Madrid/2008/Gonzalo Higuaín",
          "Real Madrid/2009/Gonzalo Higuaín",
          "Real Madrid/2011/Gonzalo Higuaín",
          "Real Madrid/2012/Gonzalo Higuaín",
          "Real Zaragoza/2012/Hélder Postiga",
          "Celta Vigo/2016/Iago Aspas",
          "Celta Vigo/2017/Iago Aspas",
          "Celta Vigo/2018/Iago Aspas",
          "Getafe/2018/Jaime Mata",
          "Real Valladolid/2013/Javi Guerra",
          "Getafe/2018/Jorge Molina",
          "Real Madrid/2010/Karim Benzema",
          "Real Madrid/2011/Karim Benzema",
          "Real Madrid/2013/Karim Benzema",
          "Real Madrid/2014/Karim Benzema",
          "Real Madrid/2015/Karim Benzema",
          "Real Madrid/2018/Karim Benzema",
          "Barcelona/2006/Lionel Messi",
          "Barcelona/2008/Lionel Messi",
          "Barcelona/2009/Lionel Messi",
          "Barcelona/2010/Lionel Messi",
          "Barcelona/2011/Lionel Messi",
          "Barcelona/2012/Lionel Messi",
          "Barcelona/2013/Lionel Messi",
          "Barcelona/2014/Lionel Messi",
          "Barcelona/2015/Lionel Messi",
          "Barcelona/2016/Lionel Messi",
          "Barcelona/2017/Lionel Messi",
          "Barcelona/2018/Lionel Messi",
          "Sevilla FC/2007/Luis Fabiano",
          "Sevilla FC/2009/Luis Fabiano",
          "Barcelona/2014/Luis Suárez",
          "Barcelona/2015/Luis Suárez",
          "Barcelona/2016/Luis Suárez",
          "Barcelona/2017/Luis Suárez",
          "Barcelona/2018/Luis Suárez",
          "Celta Vigo/2017/Maxi Gómez",
          "Rayo Vallecano/2011/Michu",
          "Barcelona/2014/Neymar",
          "Barcelona/2015/Neymar",
          "Villarreal/2007/Nihat Kahveci",
          "Tenerife/2009/Nino",
          "Barcelona/2013/Pedro",
          "Rayo Vallecano/2012/Piti",
          "Atlético Madrid/2011/Radamel Falcao",
          "Atlético Madrid/2012/Radamel Falcao",
          "Real Madrid/2007/Raúl",
          "Real Madrid/2008/Raúl",
          "Espanyol/2006/Raúl Tamudo",
          "Real Zaragoza/2007/Ricardo Oliveira",
          "Valencia/2009/Roberto Soldado",
          "Valencia/2010/Roberto Soldado",
          "Valencia/2011/Roberto Soldado",
          "Valencia/2012/Roberto Soldado",
          "Valencia/2017/Rodrigo",
          "Barcelona/2006/Ronaldinho",
          "Real Betis/2011/Rubén Castro",
          "Real Betis/2012/Rubén Castro",
          "Real Betis/2015/Rubén Castro",
          "Real Betis/2016/Rubén Castro",
          "Real Madrid/2006/Ruud van Nistelrooy",
          "Real Madrid/2007/Ruud van Nistelrooy",
          "Málaga/2010/Salomón Rondón",
          "Barcelona/2008/Samuel Eto'o",
          "Málaga/2016/Sandro Ramírez",
          "Atlético Madrid/2007/Sergio Agüero",
          "Atlético Madrid/2008/Sergio Agüero",
          "Atlético Madrid/2010/Sergio Agüero",
          "Espanyol/2014/Sergio García",
          "Barcelona/2008/Thierry Henry",
          "Sevilla FC/2018/Wissam Ben Yedder",
          "Barcelona/2009/Zlatan Ibrahimovic",
          "Real Madrid/2016/Álvaro Morata",
          "Real Madrid/2008/Álvaro Negredo",
          "Sevilla FC/2010/Álvaro Negredo",
          "Sevilla FC/2012/Álvaro Negredo",
          "Atlético Madrid/2006",
          "Barcelona/2006",
          "Celta Vigo/2006",
          "Espanyol/2006",
          "Real Madrid/2006",
          "Real Zaragoza/2006",
          "Sevilla FC/2006",
          "Valencia/2006",
          "Villarreal/2006",
          "Atlético Madrid/2007",
          "Mallorca/2007",
          "Real Madrid/2007",
          "Real Zaragoza/2007",
          "Sevilla FC/2007",
          "Valencia/2007",
          "Villarreal/2007",
          "Atlético Madrid/2008",
          "Barcelona/2008",
          "Real Madrid/2008",
          "Sevilla FC/2008",
          "Valencia/2008",
          "Athletic Club/2009",
          "Atlético Madrid/2009",
          "Barcelona/2009",
          "Real Madrid/2009",
          "Sevilla FC/2009",
          "Tenerife/2009",
          "Valencia/2009",
          "Athletic Club/2010",
          "Atlético Madrid/2010",
          "Barcelona/2010",
          "Málaga/2010",
          "Real Madrid/2010",
          "Sevilla FC/2010",
          "Valencia/2010",
          "Villarreal/2010",
          "Athletic Club/2011",
          "Atlético Madrid/2011",
          "Barcelona/2011",
          "Levante/2011",
          "Rayo Vallecano/2011",
          "Real Betis/2011",
          "Real Madrid/2011",
          "Valencia/2011",
          "Athletic Club/2012",
          "Atlético Madrid/2012",
          "Barcelona/2012",
          "Rayo Vallecano/2012",
          "Real Betis/2012",
          "Real Madrid/2012",
          "Real Zaragoza/2012",
          "Sevilla FC/2012",
          "Valencia/2012",
          "Athletic Club/2013",
          "Atlético Madrid/2013",
          "Barcelona/2013",
          "Real Madrid/2013",
          "Real Sociedad/2013",
          "Real Valladolid/2013",
          " - /2014",
          "Athletic Club/2014",
          "Atlético Madrid/2014",
          "Barcelona/2014",
          "Espanyol/2014",
          "Real Madrid/2014",
          "Sevilla FC/2014",
          "Athletic Club/2015",
          "Atlético Madrid/2015",
          "Barcelona/2015",
          "Eibar/2015",
          "Real Betis/2015",
          "Real Madrid/2015",
          "Athletic Club/2016",
          "Atlético Madrid/2016",
          "Barcelona/2016",
          "Celta Vigo/2016",
          "Espanyol/2016",
          "Málaga/2016",
          "Real Betis/2016",
          "Real Madrid/2016",
          "Atlético Madrid/2017",
          "Barcelona/2017",
          "Celta Vigo/2017",
          "Espanyol/2017",
          "Gerona/2017",
          "Real Madrid/2017",
          "Valencia/2017",
          "Atlético Madrid/2018",
          "Barcelona/2018",
          "Celta Vigo/2018",
          "Espanyol/2018",
          "Gerona/2018",
          "Getafe/2018",
          "Real Madrid/2018",
          "Sevilla FC/2018",
          " - ",
          "Athletic Club",
          "Atlético Madrid",
          "Barcelona",
          "Celta Vigo",
          "Eibar",
          "Espanyol",
          "Gerona",
          "Getafe",
          "Levante",
          "Mallorca",
          "Málaga",
          "Rayo Vallecano",
          "Real Betis",
          "Real Madrid",
          "Real Sociedad",
          "Real Valladolid",
          "Real Zaragoza",
          "Sevilla FC",
          "Tenerife",
          "Valencia",
          "Villarreal"
         ],
         "labels": [
          "Alberto Bueno",
          "Alexis Sánchez",
          "Antoine Griezmann",
          "Antoine Griezmann",
          "Antoine Griezmann",
          "Antoine Griezmann",
          "Antoine Griezmann",
          "Antoine Griezmann",
          "Aritz Aduriz",
          "Aritz Aduriz",
          "Aritz Aduriz",
          "Aritz Aduriz",
          "Aritz Aduriz",
          "Arouna Koné",
          "Borja Bastón",
          "Borja Iglesias",
          "Carlos Bacca",
          "Carlos Vela",
          "Cristhian Stuani",
          "Cristhian Stuani",
          "Cristiano Ronaldo",
          "Cristiano Ronaldo",
          "Cristiano Ronaldo",
          "Cristiano Ronaldo",
          "Cristiano Ronaldo",
          "Cristiano Ronaldo",
          "Cristiano Ronaldo",
          "Cristiano Ronaldo",
          "Cristiano Ronaldo",
          "Daniel Güiza",
          "David Villa",
          "David Villa",
          "David Villa",
          "David Villa",
          "David Villa",
          "Diego Costa",
          "Diego Forlán",
          "Diego Forlán",
          "Diego Forlán",
          "Diego Forlán",
          "Diego Milito",
          "Fernando Baiano",
          "Fernando Llorente",
          "Fernando Llorente",
          "Fernando Llorente",
          "Fernando Torres",
          "Frederic Kanouté",
          "Frederic Kanouté",
          "Frederic Kanouté",
          "Gareth Bale",
          "Gareth Bale",
          "Gerard Moreno",
          "Gerard Moreno",
          "Giuseppe Rossi",
          "Gonzalo Higuaín",
          "Gonzalo Higuaín",
          "Gonzalo Higuaín",
          "Gonzalo Higuaín",
          "Hélder Postiga",
          "Iago Aspas",
          "Iago Aspas",
          "Iago Aspas",
          "Jaime Mata",
          "Javi Guerra",
          "Jorge Molina",
          "Karim Benzema",
          "Karim Benzema",
          "Karim Benzema",
          "Karim Benzema",
          "Karim Benzema",
          "Karim Benzema",
          "Lionel Messi",
          "Lionel Messi",
          "Lionel Messi",
          "Lionel Messi",
          "Lionel Messi",
          "Lionel Messi",
          "Lionel Messi",
          "Lionel Messi",
          "Lionel Messi",
          "Lionel Messi",
          "Lionel Messi",
          "Lionel Messi",
          "Luis Fabiano",
          "Luis Fabiano",
          "Luis Suárez",
          "Luis Suárez",
          "Luis Suárez",
          "Luis Suárez",
          "Luis Suárez",
          "Maxi Gómez",
          "Michu",
          "Neymar",
          "Neymar",
          "Nihat Kahveci",
          "Nino",
          "Pedro",
          "Piti",
          "Radamel Falcao",
          "Radamel Falcao",
          "Raúl",
          "Raúl",
          "Raúl Tamudo",
          "Ricardo Oliveira",
          "Roberto Soldado",
          "Roberto Soldado",
          "Roberto Soldado",
          "Roberto Soldado",
          "Rodrigo",
          "Ronaldinho",
          "Rubén Castro",
          "Rubén Castro",
          "Rubén Castro",
          "Rubén Castro",
          "Ruud van Nistelrooy",
          "Ruud van Nistelrooy",
          "Salomón Rondón",
          "Samuel Eto'o",
          "Sandro Ramírez",
          "Sergio Agüero",
          "Sergio Agüero",
          "Sergio Agüero",
          "Sergio García",
          "Thierry Henry",
          "Wissam Ben Yedder",
          "Zlatan Ibrahimovic",
          "Álvaro Morata",
          "Álvaro Negredo",
          "Álvaro Negredo",
          "Álvaro Negredo",
          "2006",
          "2006",
          "2006",
          "2006",
          "2006",
          "2006",
          "2006",
          "2006",
          "2006",
          "2007",
          "2007",
          "2007",
          "2007",
          "2007",
          "2007",
          "2007",
          "2008",
          "2008",
          "2008",
          "2008",
          "2008",
          "2009",
          "2009",
          "2009",
          "2009",
          "2009",
          "2009",
          "2009",
          "2010",
          "2010",
          "2010",
          "2010",
          "2010",
          "2010",
          "2010",
          "2010",
          "2011",
          "2011",
          "2011",
          "2011",
          "2011",
          "2011",
          "2011",
          "2011",
          "2012",
          "2012",
          "2012",
          "2012",
          "2012",
          "2012",
          "2012",
          "2012",
          "2012",
          "2013",
          "2013",
          "2013",
          "2013",
          "2013",
          "2013",
          "2014",
          "2014",
          "2014",
          "2014",
          "2014",
          "2014",
          "2014",
          "2015",
          "2015",
          "2015",
          "2015",
          "2015",
          "2015",
          "2016",
          "2016",
          "2016",
          "2016",
          "2016",
          "2016",
          "2016",
          "2016",
          "2017",
          "2017",
          "2017",
          "2017",
          "2017",
          "2017",
          "2017",
          "2018",
          "2018",
          "2018",
          "2018",
          "2018",
          "2018",
          "2018",
          "2018",
          " - ",
          "Athletic Club",
          "Atlético Madrid",
          "Barcelona",
          "Celta Vigo",
          "Eibar",
          "Espanyol",
          "Gerona",
          "Getafe",
          "Levante",
          "Mallorca",
          "Málaga",
          "Rayo Vallecano",
          "Real Betis",
          "Real Madrid",
          "Real Sociedad",
          "Real Valladolid",
          "Real Zaragoza",
          "Sevilla FC",
          "Tenerife",
          "Valencia",
          "Villarreal"
         ],
         "name": "",
         "parents": [
          " - /2014",
          "Barcelona/2013",
          "Real Sociedad/2013",
          "Atlético Madrid/2014",
          "Atlético Madrid/2015",
          "Atlético Madrid/2016",
          "Atlético Madrid/2017",
          "Atlético Madrid/2018",
          "Athletic Club/2012",
          "Athletic Club/2013",
          "Athletic Club/2014",
          "Athletic Club/2015",
          "Athletic Club/2016",
          "Levante/2011",
          "Eibar/2015",
          "Espanyol/2018",
          "Sevilla FC/2014",
          "Real Sociedad/2013",
          "Gerona/2017",
          "Gerona/2018",
          "Real Madrid/2009",
          "Real Madrid/2010",
          "Real Madrid/2011",
          "Real Madrid/2012",
          "Real Madrid/2013",
          "Real Madrid/2014",
          "Real Madrid/2015",
          "Real Madrid/2016",
          "Real Madrid/2017",
          "Mallorca/2007",
          "Valencia/2006",
          "Valencia/2007",
          "Valencia/2008",
          "Barcelona/2009",
          "Barcelona/2010",
          "Atlético Madrid/2013",
          "Villarreal/2006",
          "Atlético Madrid/2007",
          "Atlético Madrid/2008",
          "Atlético Madrid/2009",
          "Real Zaragoza/2006",
          "Celta Vigo/2006",
          "Athletic Club/2009",
          "Athletic Club/2010",
          "Athletic Club/2011",
          "Atlético Madrid/2006",
          "Sevilla FC/2006",
          "Sevilla FC/2007",
          "Sevilla FC/2008",
          "Real Madrid/2015",
          "Real Madrid/2017",
          "Espanyol/2016",
          "Espanyol/2017",
          "Villarreal/2010",
          "Real Madrid/2008",
          "Real Madrid/2009",
          "Real Madrid/2011",
          "Real Madrid/2012",
          "Real Zaragoza/2012",
          "Celta Vigo/2016",
          "Celta Vigo/2017",
          "Celta Vigo/2018",
          "Getafe/2018",
          "Real Valladolid/2013",
          "Getafe/2018",
          "Real Madrid/2010",
          "Real Madrid/2011",
          "Real Madrid/2013",
          "Real Madrid/2014",
          "Real Madrid/2015",
          "Real Madrid/2018",
          "Barcelona/2006",
          "Barcelona/2008",
          "Barcelona/2009",
          "Barcelona/2010",
          "Barcelona/2011",
          "Barcelona/2012",
          "Barcelona/2013",
          "Barcelona/2014",
          "Barcelona/2015",
          "Barcelona/2016",
          "Barcelona/2017",
          "Barcelona/2018",
          "Sevilla FC/2007",
          "Sevilla FC/2009",
          "Barcelona/2014",
          "Barcelona/2015",
          "Barcelona/2016",
          "Barcelona/2017",
          "Barcelona/2018",
          "Celta Vigo/2017",
          "Rayo Vallecano/2011",
          "Barcelona/2014",
          "Barcelona/2015",
          "Villarreal/2007",
          "Tenerife/2009",
          "Barcelona/2013",
          "Rayo Vallecano/2012",
          "Atlético Madrid/2011",
          "Atlético Madrid/2012",
          "Real Madrid/2007",
          "Real Madrid/2008",
          "Espanyol/2006",
          "Real Zaragoza/2007",
          "Valencia/2009",
          "Valencia/2010",
          "Valencia/2011",
          "Valencia/2012",
          "Valencia/2017",
          "Barcelona/2006",
          "Real Betis/2011",
          "Real Betis/2012",
          "Real Betis/2015",
          "Real Betis/2016",
          "Real Madrid/2006",
          "Real Madrid/2007",
          "Málaga/2010",
          "Barcelona/2008",
          "Málaga/2016",
          "Atlético Madrid/2007",
          "Atlético Madrid/2008",
          "Atlético Madrid/2010",
          "Espanyol/2014",
          "Barcelona/2008",
          "Sevilla FC/2018",
          "Barcelona/2009",
          "Real Madrid/2016",
          "Real Madrid/2008",
          "Sevilla FC/2010",
          "Sevilla FC/2012",
          "Atlético Madrid",
          "Barcelona",
          "Celta Vigo",
          "Espanyol",
          "Real Madrid",
          "Real Zaragoza",
          "Sevilla FC",
          "Valencia",
          "Villarreal",
          "Atlético Madrid",
          "Mallorca",
          "Real Madrid",
          "Real Zaragoza",
          "Sevilla FC",
          "Valencia",
          "Villarreal",
          "Atlético Madrid",
          "Barcelona",
          "Real Madrid",
          "Sevilla FC",
          "Valencia",
          "Athletic Club",
          "Atlético Madrid",
          "Barcelona",
          "Real Madrid",
          "Sevilla FC",
          "Tenerife",
          "Valencia",
          "Athletic Club",
          "Atlético Madrid",
          "Barcelona",
          "Málaga",
          "Real Madrid",
          "Sevilla FC",
          "Valencia",
          "Villarreal",
          "Athletic Club",
          "Atlético Madrid",
          "Barcelona",
          "Levante",
          "Rayo Vallecano",
          "Real Betis",
          "Real Madrid",
          "Valencia",
          "Athletic Club",
          "Atlético Madrid",
          "Barcelona",
          "Rayo Vallecano",
          "Real Betis",
          "Real Madrid",
          "Real Zaragoza",
          "Sevilla FC",
          "Valencia",
          "Athletic Club",
          "Atlético Madrid",
          "Barcelona",
          "Real Madrid",
          "Real Sociedad",
          "Real Valladolid",
          " - ",
          "Athletic Club",
          "Atlético Madrid",
          "Barcelona",
          "Espanyol",
          "Real Madrid",
          "Sevilla FC",
          "Athletic Club",
          "Atlético Madrid",
          "Barcelona",
          "Eibar",
          "Real Betis",
          "Real Madrid",
          "Athletic Club",
          "Atlético Madrid",
          "Barcelona",
          "Celta Vigo",
          "Espanyol",
          "Málaga",
          "Real Betis",
          "Real Madrid",
          "Atlético Madrid",
          "Barcelona",
          "Celta Vigo",
          "Espanyol",
          "Gerona",
          "Real Madrid",
          "Valencia",
          "Atlético Madrid",
          "Barcelona",
          "Celta Vigo",
          "Espanyol",
          "Gerona",
          "Getafe",
          "Real Madrid",
          "Sevilla FC",
          "",
          "",
          "",
          "",
          "",
          "",
          "",
          "",
          "",
          "",
          "",
          "",
          "",
          "",
          "",
          "",
          "",
          "",
          "",
          "",
          "",
          ""
         ],
         "type": "sunburst",
         "values": [
          17,
          19,
          16,
          22,
          22,
          16,
          19,
          15,
          14,
          16,
          18,
          20,
          16,
          15,
          18,
          17,
          20,
          16,
          21,
          19,
          26,
          40,
          46,
          34,
          31,
          48,
          35,
          25,
          26,
          27,
          16,
          18,
          28,
          21,
          18,
          27,
          19,
          16,
          32,
          18,
          23,
          15,
          14,
          18,
          17,
          14,
          21,
          16,
          18,
          19,
          16,
          13,
          16,
          18,
          22,
          27,
          22,
          16,
          14,
          19,
          22,
          20,
          14,
          15,
          14,
          15,
          21,
          17,
          15,
          24,
          21,
          14,
          23,
          34,
          31,
          50,
          46,
          28,
          43,
          26,
          37,
          34,
          36,
          24,
          15,
          16,
          40,
          29,
          25,
          21,
          17,
          15,
          22,
          24,
          18,
          14,
          15,
          18,
          24,
          28,
          18,
          18,
          15,
          17,
          16,
          18,
          17,
          24,
          16,
          21,
          16,
          18,
          19,
          13,
          25,
          16,
          14,
          30,
          14,
          19,
          17,
          20,
          14,
          19,
          18,
          16,
          15,
          19,
          20,
          25,
          14,
          35,
          15,
          15,
          25,
          23,
          21,
          16,
          19,
          35,
          27,
          34,
          17,
          40,
          18,
          18,
          49,
          72,
          59,
          18,
          28,
          14,
          18,
          71,
          53,
          15,
          14,
          16,
          18,
          20,
          49,
          14,
          55,
          20,
          18,
          18,
          17,
          24,
          50,
          15,
          15,
          16,
          89,
          17,
          14,
          28,
          46,
          18,
          18,
          50,
          14,
          25,
          24,
          16,
          27,
          62,
          48,
          32,
          15,
          17,
          18,
          22,
          81,
          14,
          63,
          20,
          20,
          22,
          90,
          18,
          19,
          78,
          16,
          16,
          66,
          19,
          13,
          14,
          13,
          40,
          19,
          59,
          39,
          16,
          21,
          42,
          16,
          15,
          57,
          20,
          17,
          19,
          28,
          21,
          18,
          17,
          133,
          309,
          738,
          93,
          18,
          75,
          40,
          28,
          15,
          27,
          28,
          33,
          66,
          657,
          32,
          15,
          54,
          177,
          14,
          153,
          55
         ]
        }
       ],
       "layout": {
        "coloraxis": {
         "showscale": false
        },
        "height": 1500,
        "legend": {
         "tracegroupgap": 0
        },
        "template": {
         "data": {
          "bar": [
           {
            "error_x": {
             "color": "#2a3f5f"
            },
            "error_y": {
             "color": "#2a3f5f"
            },
            "marker": {
             "line": {
              "color": "#E5ECF6",
              "width": 0.5
             },
             "pattern": {
              "fillmode": "overlay",
              "size": 10,
              "solidity": 0.2
             }
            },
            "type": "bar"
           }
          ],
          "barpolar": [
           {
            "marker": {
             "line": {
              "color": "#E5ECF6",
              "width": 0.5
             },
             "pattern": {
              "fillmode": "overlay",
              "size": 10,
              "solidity": 0.2
             }
            },
            "type": "barpolar"
           }
          ],
          "carpet": [
           {
            "aaxis": {
             "endlinecolor": "#2a3f5f",
             "gridcolor": "white",
             "linecolor": "white",
             "minorgridcolor": "white",
             "startlinecolor": "#2a3f5f"
            },
            "baxis": {
             "endlinecolor": "#2a3f5f",
             "gridcolor": "white",
             "linecolor": "white",
             "minorgridcolor": "white",
             "startlinecolor": "#2a3f5f"
            },
            "type": "carpet"
           }
          ],
          "choropleth": [
           {
            "colorbar": {
             "outlinewidth": 0,
             "ticks": ""
            },
            "type": "choropleth"
           }
          ],
          "contour": [
           {
            "colorbar": {
             "outlinewidth": 0,
             "ticks": ""
            },
            "colorscale": [
             [
              0,
              "#0d0887"
             ],
             [
              0.1111111111111111,
              "#46039f"
             ],
             [
              0.2222222222222222,
              "#7201a8"
             ],
             [
              0.3333333333333333,
              "#9c179e"
             ],
             [
              0.4444444444444444,
              "#bd3786"
             ],
             [
              0.5555555555555556,
              "#d8576b"
             ],
             [
              0.6666666666666666,
              "#ed7953"
             ],
             [
              0.7777777777777778,
              "#fb9f3a"
             ],
             [
              0.8888888888888888,
              "#fdca26"
             ],
             [
              1,
              "#f0f921"
             ]
            ],
            "type": "contour"
           }
          ],
          "contourcarpet": [
           {
            "colorbar": {
             "outlinewidth": 0,
             "ticks": ""
            },
            "type": "contourcarpet"
           }
          ],
          "heatmap": [
           {
            "colorbar": {
             "outlinewidth": 0,
             "ticks": ""
            },
            "colorscale": [
             [
              0,
              "#0d0887"
             ],
             [
              0.1111111111111111,
              "#46039f"
             ],
             [
              0.2222222222222222,
              "#7201a8"
             ],
             [
              0.3333333333333333,
              "#9c179e"
             ],
             [
              0.4444444444444444,
              "#bd3786"
             ],
             [
              0.5555555555555556,
              "#d8576b"
             ],
             [
              0.6666666666666666,
              "#ed7953"
             ],
             [
              0.7777777777777778,
              "#fb9f3a"
             ],
             [
              0.8888888888888888,
              "#fdca26"
             ],
             [
              1,
              "#f0f921"
             ]
            ],
            "type": "heatmap"
           }
          ],
          "heatmapgl": [
           {
            "colorbar": {
             "outlinewidth": 0,
             "ticks": ""
            },
            "colorscale": [
             [
              0,
              "#0d0887"
             ],
             [
              0.1111111111111111,
              "#46039f"
             ],
             [
              0.2222222222222222,
              "#7201a8"
             ],
             [
              0.3333333333333333,
              "#9c179e"
             ],
             [
              0.4444444444444444,
              "#bd3786"
             ],
             [
              0.5555555555555556,
              "#d8576b"
             ],
             [
              0.6666666666666666,
              "#ed7953"
             ],
             [
              0.7777777777777778,
              "#fb9f3a"
             ],
             [
              0.8888888888888888,
              "#fdca26"
             ],
             [
              1,
              "#f0f921"
             ]
            ],
            "type": "heatmapgl"
           }
          ],
          "histogram": [
           {
            "marker": {
             "pattern": {
              "fillmode": "overlay",
              "size": 10,
              "solidity": 0.2
             }
            },
            "type": "histogram"
           }
          ],
          "histogram2d": [
           {
            "colorbar": {
             "outlinewidth": 0,
             "ticks": ""
            },
            "colorscale": [
             [
              0,
              "#0d0887"
             ],
             [
              0.1111111111111111,
              "#46039f"
             ],
             [
              0.2222222222222222,
              "#7201a8"
             ],
             [
              0.3333333333333333,
              "#9c179e"
             ],
             [
              0.4444444444444444,
              "#bd3786"
             ],
             [
              0.5555555555555556,
              "#d8576b"
             ],
             [
              0.6666666666666666,
              "#ed7953"
             ],
             [
              0.7777777777777778,
              "#fb9f3a"
             ],
             [
              0.8888888888888888,
              "#fdca26"
             ],
             [
              1,
              "#f0f921"
             ]
            ],
            "type": "histogram2d"
           }
          ],
          "histogram2dcontour": [
           {
            "colorbar": {
             "outlinewidth": 0,
             "ticks": ""
            },
            "colorscale": [
             [
              0,
              "#0d0887"
             ],
             [
              0.1111111111111111,
              "#46039f"
             ],
             [
              0.2222222222222222,
              "#7201a8"
             ],
             [
              0.3333333333333333,
              "#9c179e"
             ],
             [
              0.4444444444444444,
              "#bd3786"
             ],
             [
              0.5555555555555556,
              "#d8576b"
             ],
             [
              0.6666666666666666,
              "#ed7953"
             ],
             [
              0.7777777777777778,
              "#fb9f3a"
             ],
             [
              0.8888888888888888,
              "#fdca26"
             ],
             [
              1,
              "#f0f921"
             ]
            ],
            "type": "histogram2dcontour"
           }
          ],
          "mesh3d": [
           {
            "colorbar": {
             "outlinewidth": 0,
             "ticks": ""
            },
            "type": "mesh3d"
           }
          ],
          "parcoords": [
           {
            "line": {
             "colorbar": {
              "outlinewidth": 0,
              "ticks": ""
             }
            },
            "type": "parcoords"
           }
          ],
          "pie": [
           {
            "automargin": true,
            "type": "pie"
           }
          ],
          "scatter": [
           {
            "marker": {
             "colorbar": {
              "outlinewidth": 0,
              "ticks": ""
             }
            },
            "type": "scatter"
           }
          ],
          "scatter3d": [
           {
            "line": {
             "colorbar": {
              "outlinewidth": 0,
              "ticks": ""
             }
            },
            "marker": {
             "colorbar": {
              "outlinewidth": 0,
              "ticks": ""
             }
            },
            "type": "scatter3d"
           }
          ],
          "scattercarpet": [
           {
            "marker": {
             "colorbar": {
              "outlinewidth": 0,
              "ticks": ""
             }
            },
            "type": "scattercarpet"
           }
          ],
          "scattergeo": [
           {
            "marker": {
             "colorbar": {
              "outlinewidth": 0,
              "ticks": ""
             }
            },
            "type": "scattergeo"
           }
          ],
          "scattergl": [
           {
            "marker": {
             "colorbar": {
              "outlinewidth": 0,
              "ticks": ""
             }
            },
            "type": "scattergl"
           }
          ],
          "scattermapbox": [
           {
            "marker": {
             "colorbar": {
              "outlinewidth": 0,
              "ticks": ""
             }
            },
            "type": "scattermapbox"
           }
          ],
          "scatterpolar": [
           {
            "marker": {
             "colorbar": {
              "outlinewidth": 0,
              "ticks": ""
             }
            },
            "type": "scatterpolar"
           }
          ],
          "scatterpolargl": [
           {
            "marker": {
             "colorbar": {
              "outlinewidth": 0,
              "ticks": ""
             }
            },
            "type": "scatterpolargl"
           }
          ],
          "scatterternary": [
           {
            "marker": {
             "colorbar": {
              "outlinewidth": 0,
              "ticks": ""
             }
            },
            "type": "scatterternary"
           }
          ],
          "surface": [
           {
            "colorbar": {
             "outlinewidth": 0,
             "ticks": ""
            },
            "colorscale": [
             [
              0,
              "#0d0887"
             ],
             [
              0.1111111111111111,
              "#46039f"
             ],
             [
              0.2222222222222222,
              "#7201a8"
             ],
             [
              0.3333333333333333,
              "#9c179e"
             ],
             [
              0.4444444444444444,
              "#bd3786"
             ],
             [
              0.5555555555555556,
              "#d8576b"
             ],
             [
              0.6666666666666666,
              "#ed7953"
             ],
             [
              0.7777777777777778,
              "#fb9f3a"
             ],
             [
              0.8888888888888888,
              "#fdca26"
             ],
             [
              1,
              "#f0f921"
             ]
            ],
            "type": "surface"
           }
          ],
          "table": [
           {
            "cells": {
             "fill": {
              "color": "#EBF0F8"
             },
             "line": {
              "color": "white"
             }
            },
            "header": {
             "fill": {
              "color": "#C8D4E3"
             },
             "line": {
              "color": "white"
             }
            },
            "type": "table"
           }
          ]
         },
         "layout": {
          "annotationdefaults": {
           "arrowcolor": "#2a3f5f",
           "arrowhead": 0,
           "arrowwidth": 1
          },
          "autotypenumbers": "strict",
          "coloraxis": {
           "colorbar": {
            "outlinewidth": 0,
            "ticks": ""
           }
          },
          "colorscale": {
           "diverging": [
            [
             0,
             "#8e0152"
            ],
            [
             0.1,
             "#c51b7d"
            ],
            [
             0.2,
             "#de77ae"
            ],
            [
             0.3,
             "#f1b6da"
            ],
            [
             0.4,
             "#fde0ef"
            ],
            [
             0.5,
             "#f7f7f7"
            ],
            [
             0.6,
             "#e6f5d0"
            ],
            [
             0.7,
             "#b8e186"
            ],
            [
             0.8,
             "#7fbc41"
            ],
            [
             0.9,
             "#4d9221"
            ],
            [
             1,
             "#276419"
            ]
           ],
           "sequential": [
            [
             0,
             "#0d0887"
            ],
            [
             0.1111111111111111,
             "#46039f"
            ],
            [
             0.2222222222222222,
             "#7201a8"
            ],
            [
             0.3333333333333333,
             "#9c179e"
            ],
            [
             0.4444444444444444,
             "#bd3786"
            ],
            [
             0.5555555555555556,
             "#d8576b"
            ],
            [
             0.6666666666666666,
             "#ed7953"
            ],
            [
             0.7777777777777778,
             "#fb9f3a"
            ],
            [
             0.8888888888888888,
             "#fdca26"
            ],
            [
             1,
             "#f0f921"
            ]
           ],
           "sequentialminus": [
            [
             0,
             "#0d0887"
            ],
            [
             0.1111111111111111,
             "#46039f"
            ],
            [
             0.2222222222222222,
             "#7201a8"
            ],
            [
             0.3333333333333333,
             "#9c179e"
            ],
            [
             0.4444444444444444,
             "#bd3786"
            ],
            [
             0.5555555555555556,
             "#d8576b"
            ],
            [
             0.6666666666666666,
             "#ed7953"
            ],
            [
             0.7777777777777778,
             "#fb9f3a"
            ],
            [
             0.8888888888888888,
             "#fdca26"
            ],
            [
             1,
             "#f0f921"
            ]
           ]
          },
          "colorway": [
           "#636efa",
           "#EF553B",
           "#00cc96",
           "#ab63fa",
           "#FFA15A",
           "#19d3f3",
           "#FF6692",
           "#B6E880",
           "#FF97FF",
           "#FECB52"
          ],
          "font": {
           "color": "#2a3f5f"
          },
          "geo": {
           "bgcolor": "white",
           "lakecolor": "white",
           "landcolor": "#E5ECF6",
           "showlakes": true,
           "showland": true,
           "subunitcolor": "white"
          },
          "hoverlabel": {
           "align": "left"
          },
          "hovermode": "closest",
          "mapbox": {
           "style": "light"
          },
          "paper_bgcolor": "white",
          "plot_bgcolor": "#E5ECF6",
          "polar": {
           "angularaxis": {
            "gridcolor": "white",
            "linecolor": "white",
            "ticks": ""
           },
           "bgcolor": "#E5ECF6",
           "radialaxis": {
            "gridcolor": "white",
            "linecolor": "white",
            "ticks": ""
           }
          },
          "scene": {
           "xaxis": {
            "backgroundcolor": "#E5ECF6",
            "gridcolor": "white",
            "gridwidth": 2,
            "linecolor": "white",
            "showbackground": true,
            "ticks": "",
            "zerolinecolor": "white"
           },
           "yaxis": {
            "backgroundcolor": "#E5ECF6",
            "gridcolor": "white",
            "gridwidth": 2,
            "linecolor": "white",
            "showbackground": true,
            "ticks": "",
            "zerolinecolor": "white"
           },
           "zaxis": {
            "backgroundcolor": "#E5ECF6",
            "gridcolor": "white",
            "gridwidth": 2,
            "linecolor": "white",
            "showbackground": true,
            "ticks": "",
            "zerolinecolor": "white"
           }
          },
          "shapedefaults": {
           "line": {
            "color": "#2a3f5f"
           }
          },
          "ternary": {
           "aaxis": {
            "gridcolor": "white",
            "linecolor": "white",
            "ticks": ""
           },
           "baxis": {
            "gridcolor": "white",
            "linecolor": "white",
            "ticks": ""
           },
           "bgcolor": "#E5ECF6",
           "caxis": {
            "gridcolor": "white",
            "linecolor": "white",
            "ticks": ""
           }
          },
          "title": {
           "x": 0.05
          },
          "xaxis": {
           "automargin": true,
           "gridcolor": "white",
           "linecolor": "white",
           "ticks": "",
           "title": {
            "standoff": 15
           },
           "zerolinecolor": "white",
           "zerolinewidth": 2
          },
          "yaxis": {
           "automargin": true,
           "gridcolor": "white",
           "linecolor": "white",
           "ticks": "",
           "title": {
            "standoff": 15
           },
           "zerolinecolor": "white",
           "zerolinewidth": 2
          }
         }
        },
        "title": {
         "text": "In what team are players in the top 10 goalscorers at? <br> Data from season 2006 to 2018"
        },
        "width": 1500,
        "xaxis": {
         "title": {
          "text": "Goals Scored"
         }
        },
        "yaxis": {
         "title": {
          "text": "Team"
         }
        }
       }
      },
      "text/html": [
       "<div>                            <div id=\"3135ab4d-1ab4-4b80-ac65-9f74f3d0fddc\" class=\"plotly-graph-div\" style=\"height:1500px; width:1500px;\"></div>            <script type=\"text/javascript\">                require([\"plotly\"], function(Plotly) {                    window.PLOTLYENV=window.PLOTLYENV || {};                                    if (document.getElementById(\"3135ab4d-1ab4-4b80-ac65-9f74f3d0fddc\")) {                    Plotly.newPlot(                        \"3135ab4d-1ab4-4b80-ac65-9f74f3d0fddc\",                        [{\"branchvalues\":\"total\",\"domain\":{\"x\":[0.0,1.0],\"y\":[0.0,1.0]},\"hovertemplate\":\"labels=%{label}<br>goals scored=%{value}<br>parent=%{parent}<br>id=%{id}<extra></extra>\",\"ids\":[\" - /2014/Alberto Bueno\",\"Barcelona/2013/Alexis S\\u00e1nchez\",\"Real Sociedad/2013/Antoine Griezmann\",\"Atl\\u00e9tico Madrid/2014/Antoine Griezmann\",\"Atl\\u00e9tico Madrid/2015/Antoine Griezmann\",\"Atl\\u00e9tico Madrid/2016/Antoine Griezmann\",\"Atl\\u00e9tico Madrid/2017/Antoine Griezmann\",\"Atl\\u00e9tico Madrid/2018/Antoine Griezmann\",\"Athletic Club/2012/Aritz Aduriz\",\"Athletic Club/2013/Aritz Aduriz\",\"Athletic Club/2014/Aritz Aduriz\",\"Athletic Club/2015/Aritz Aduriz\",\"Athletic Club/2016/Aritz Aduriz\",\"Levante/2011/Arouna Kon\\u00e9\",\"Eibar/2015/Borja Bast\\u00f3n\",\"Espanyol/2018/Borja Iglesias\",\"Sevilla FC/2014/Carlos Bacca\",\"Real Sociedad/2013/Carlos Vela\",\"Gerona/2017/Cristhian Stuani\",\"Gerona/2018/Cristhian Stuani\",\"Real Madrid/2009/Cristiano Ronaldo\",\"Real Madrid/2010/Cristiano Ronaldo\",\"Real Madrid/2011/Cristiano Ronaldo\",\"Real Madrid/2012/Cristiano Ronaldo\",\"Real Madrid/2013/Cristiano Ronaldo\",\"Real Madrid/2014/Cristiano Ronaldo\",\"Real Madrid/2015/Cristiano Ronaldo\",\"Real Madrid/2016/Cristiano Ronaldo\",\"Real Madrid/2017/Cristiano Ronaldo\",\"Mallorca/2007/Daniel G\\u00fciza\",\"Valencia/2006/David Villa\",\"Valencia/2007/David Villa\",\"Valencia/2008/David Villa\",\"Barcelona/2009/David Villa\",\"Barcelona/2010/David Villa\",\"Atl\\u00e9tico Madrid/2013/Diego Costa\",\"Villarreal/2006/Diego Forl\\u00e1n\",\"Atl\\u00e9tico Madrid/2007/Diego Forl\\u00e1n\",\"Atl\\u00e9tico Madrid/2008/Diego Forl\\u00e1n\",\"Atl\\u00e9tico Madrid/2009/Diego Forl\\u00e1n\",\"Real Zaragoza/2006/Diego Milito\",\"Celta Vigo/2006/Fernando Baiano\",\"Athletic Club/2009/Fernando Llorente\",\"Athletic Club/2010/Fernando Llorente\",\"Athletic Club/2011/Fernando Llorente\",\"Atl\\u00e9tico Madrid/2006/Fernando Torres\",\"Sevilla FC/2006/Frederic Kanout\\u00e9\",\"Sevilla FC/2007/Frederic Kanout\\u00e9\",\"Sevilla FC/2008/Frederic Kanout\\u00e9\",\"Real Madrid/2015/Gareth Bale\",\"Real Madrid/2017/Gareth Bale\",\"Espanyol/2016/Gerard Moreno\",\"Espanyol/2017/Gerard Moreno\",\"Villarreal/2010/Giuseppe Rossi\",\"Real Madrid/2008/Gonzalo Higua\\u00edn\",\"Real Madrid/2009/Gonzalo Higua\\u00edn\",\"Real Madrid/2011/Gonzalo Higua\\u00edn\",\"Real Madrid/2012/Gonzalo Higua\\u00edn\",\"Real Zaragoza/2012/H\\u00e9lder Postiga\",\"Celta Vigo/2016/Iago Aspas\",\"Celta Vigo/2017/Iago Aspas\",\"Celta Vigo/2018/Iago Aspas\",\"Getafe/2018/Jaime Mata\",\"Real Valladolid/2013/Javi Guerra\",\"Getafe/2018/Jorge Molina\",\"Real Madrid/2010/Karim Benzema\",\"Real Madrid/2011/Karim Benzema\",\"Real Madrid/2013/Karim Benzema\",\"Real Madrid/2014/Karim Benzema\",\"Real Madrid/2015/Karim Benzema\",\"Real Madrid/2018/Karim Benzema\",\"Barcelona/2006/Lionel Messi\",\"Barcelona/2008/Lionel Messi\",\"Barcelona/2009/Lionel Messi\",\"Barcelona/2010/Lionel Messi\",\"Barcelona/2011/Lionel Messi\",\"Barcelona/2012/Lionel Messi\",\"Barcelona/2013/Lionel Messi\",\"Barcelona/2014/Lionel Messi\",\"Barcelona/2015/Lionel Messi\",\"Barcelona/2016/Lionel Messi\",\"Barcelona/2017/Lionel Messi\",\"Barcelona/2018/Lionel Messi\",\"Sevilla FC/2007/Luis Fabiano\",\"Sevilla FC/2009/Luis Fabiano\",\"Barcelona/2014/Luis Su\\u00e1rez\",\"Barcelona/2015/Luis Su\\u00e1rez\",\"Barcelona/2016/Luis Su\\u00e1rez\",\"Barcelona/2017/Luis Su\\u00e1rez\",\"Barcelona/2018/Luis Su\\u00e1rez\",\"Celta Vigo/2017/Maxi G\\u00f3mez\",\"Rayo Vallecano/2011/Michu\",\"Barcelona/2014/Neymar\",\"Barcelona/2015/Neymar\",\"Villarreal/2007/Nihat Kahveci\",\"Tenerife/2009/Nino\",\"Barcelona/2013/Pedro\",\"Rayo Vallecano/2012/Piti\",\"Atl\\u00e9tico Madrid/2011/Radamel Falcao\",\"Atl\\u00e9tico Madrid/2012/Radamel Falcao\",\"Real Madrid/2007/Ra\\u00fal\",\"Real Madrid/2008/Ra\\u00fal\",\"Espanyol/2006/Ra\\u00fal Tamudo\",\"Real Zaragoza/2007/Ricardo Oliveira\",\"Valencia/2009/Roberto Soldado\",\"Valencia/2010/Roberto Soldado\",\"Valencia/2011/Roberto Soldado\",\"Valencia/2012/Roberto Soldado\",\"Valencia/2017/Rodrigo\",\"Barcelona/2006/Ronaldinho\",\"Real Betis/2011/Rub\\u00e9n Castro\",\"Real Betis/2012/Rub\\u00e9n Castro\",\"Real Betis/2015/Rub\\u00e9n Castro\",\"Real Betis/2016/Rub\\u00e9n Castro\",\"Real Madrid/2006/Ruud van Nistelrooy\",\"Real Madrid/2007/Ruud van Nistelrooy\",\"M\\u00e1laga/2010/Salom\\u00f3n Rond\\u00f3n\",\"Barcelona/2008/Samuel Eto'o\",\"M\\u00e1laga/2016/Sandro Ram\\u00edrez\",\"Atl\\u00e9tico Madrid/2007/Sergio Ag\\u00fcero\",\"Atl\\u00e9tico Madrid/2008/Sergio Ag\\u00fcero\",\"Atl\\u00e9tico Madrid/2010/Sergio Ag\\u00fcero\",\"Espanyol/2014/Sergio Garc\\u00eda\",\"Barcelona/2008/Thierry Henry\",\"Sevilla FC/2018/Wissam Ben Yedder\",\"Barcelona/2009/Zlatan Ibrahimovic\",\"Real Madrid/2016/\\u00c1lvaro Morata\",\"Real Madrid/2008/\\u00c1lvaro Negredo\",\"Sevilla FC/2010/\\u00c1lvaro Negredo\",\"Sevilla FC/2012/\\u00c1lvaro Negredo\",\"Atl\\u00e9tico Madrid/2006\",\"Barcelona/2006\",\"Celta Vigo/2006\",\"Espanyol/2006\",\"Real Madrid/2006\",\"Real Zaragoza/2006\",\"Sevilla FC/2006\",\"Valencia/2006\",\"Villarreal/2006\",\"Atl\\u00e9tico Madrid/2007\",\"Mallorca/2007\",\"Real Madrid/2007\",\"Real Zaragoza/2007\",\"Sevilla FC/2007\",\"Valencia/2007\",\"Villarreal/2007\",\"Atl\\u00e9tico Madrid/2008\",\"Barcelona/2008\",\"Real Madrid/2008\",\"Sevilla FC/2008\",\"Valencia/2008\",\"Athletic Club/2009\",\"Atl\\u00e9tico Madrid/2009\",\"Barcelona/2009\",\"Real Madrid/2009\",\"Sevilla FC/2009\",\"Tenerife/2009\",\"Valencia/2009\",\"Athletic Club/2010\",\"Atl\\u00e9tico Madrid/2010\",\"Barcelona/2010\",\"M\\u00e1laga/2010\",\"Real Madrid/2010\",\"Sevilla FC/2010\",\"Valencia/2010\",\"Villarreal/2010\",\"Athletic Club/2011\",\"Atl\\u00e9tico Madrid/2011\",\"Barcelona/2011\",\"Levante/2011\",\"Rayo Vallecano/2011\",\"Real Betis/2011\",\"Real Madrid/2011\",\"Valencia/2011\",\"Athletic Club/2012\",\"Atl\\u00e9tico Madrid/2012\",\"Barcelona/2012\",\"Rayo Vallecano/2012\",\"Real Betis/2012\",\"Real Madrid/2012\",\"Real Zaragoza/2012\",\"Sevilla FC/2012\",\"Valencia/2012\",\"Athletic Club/2013\",\"Atl\\u00e9tico Madrid/2013\",\"Barcelona/2013\",\"Real Madrid/2013\",\"Real Sociedad/2013\",\"Real Valladolid/2013\",\" - /2014\",\"Athletic Club/2014\",\"Atl\\u00e9tico Madrid/2014\",\"Barcelona/2014\",\"Espanyol/2014\",\"Real Madrid/2014\",\"Sevilla FC/2014\",\"Athletic Club/2015\",\"Atl\\u00e9tico Madrid/2015\",\"Barcelona/2015\",\"Eibar/2015\",\"Real Betis/2015\",\"Real Madrid/2015\",\"Athletic Club/2016\",\"Atl\\u00e9tico Madrid/2016\",\"Barcelona/2016\",\"Celta Vigo/2016\",\"Espanyol/2016\",\"M\\u00e1laga/2016\",\"Real Betis/2016\",\"Real Madrid/2016\",\"Atl\\u00e9tico Madrid/2017\",\"Barcelona/2017\",\"Celta Vigo/2017\",\"Espanyol/2017\",\"Gerona/2017\",\"Real Madrid/2017\",\"Valencia/2017\",\"Atl\\u00e9tico Madrid/2018\",\"Barcelona/2018\",\"Celta Vigo/2018\",\"Espanyol/2018\",\"Gerona/2018\",\"Getafe/2018\",\"Real Madrid/2018\",\"Sevilla FC/2018\",\" - \",\"Athletic Club\",\"Atl\\u00e9tico Madrid\",\"Barcelona\",\"Celta Vigo\",\"Eibar\",\"Espanyol\",\"Gerona\",\"Getafe\",\"Levante\",\"Mallorca\",\"M\\u00e1laga\",\"Rayo Vallecano\",\"Real Betis\",\"Real Madrid\",\"Real Sociedad\",\"Real Valladolid\",\"Real Zaragoza\",\"Sevilla FC\",\"Tenerife\",\"Valencia\",\"Villarreal\"],\"labels\":[\"Alberto Bueno\",\"Alexis S\\u00e1nchez\",\"Antoine Griezmann\",\"Antoine Griezmann\",\"Antoine Griezmann\",\"Antoine Griezmann\",\"Antoine Griezmann\",\"Antoine Griezmann\",\"Aritz Aduriz\",\"Aritz Aduriz\",\"Aritz Aduriz\",\"Aritz Aduriz\",\"Aritz Aduriz\",\"Arouna Kon\\u00e9\",\"Borja Bast\\u00f3n\",\"Borja Iglesias\",\"Carlos Bacca\",\"Carlos Vela\",\"Cristhian Stuani\",\"Cristhian Stuani\",\"Cristiano Ronaldo\",\"Cristiano Ronaldo\",\"Cristiano Ronaldo\",\"Cristiano Ronaldo\",\"Cristiano Ronaldo\",\"Cristiano Ronaldo\",\"Cristiano Ronaldo\",\"Cristiano Ronaldo\",\"Cristiano Ronaldo\",\"Daniel G\\u00fciza\",\"David Villa\",\"David Villa\",\"David Villa\",\"David Villa\",\"David Villa\",\"Diego Costa\",\"Diego Forl\\u00e1n\",\"Diego Forl\\u00e1n\",\"Diego Forl\\u00e1n\",\"Diego Forl\\u00e1n\",\"Diego Milito\",\"Fernando Baiano\",\"Fernando Llorente\",\"Fernando Llorente\",\"Fernando Llorente\",\"Fernando Torres\",\"Frederic Kanout\\u00e9\",\"Frederic Kanout\\u00e9\",\"Frederic Kanout\\u00e9\",\"Gareth Bale\",\"Gareth Bale\",\"Gerard Moreno\",\"Gerard Moreno\",\"Giuseppe Rossi\",\"Gonzalo Higua\\u00edn\",\"Gonzalo Higua\\u00edn\",\"Gonzalo Higua\\u00edn\",\"Gonzalo Higua\\u00edn\",\"H\\u00e9lder Postiga\",\"Iago Aspas\",\"Iago Aspas\",\"Iago Aspas\",\"Jaime Mata\",\"Javi Guerra\",\"Jorge Molina\",\"Karim Benzema\",\"Karim Benzema\",\"Karim Benzema\",\"Karim Benzema\",\"Karim Benzema\",\"Karim Benzema\",\"Lionel Messi\",\"Lionel Messi\",\"Lionel Messi\",\"Lionel Messi\",\"Lionel Messi\",\"Lionel Messi\",\"Lionel Messi\",\"Lionel Messi\",\"Lionel Messi\",\"Lionel Messi\",\"Lionel Messi\",\"Lionel Messi\",\"Luis Fabiano\",\"Luis Fabiano\",\"Luis Su\\u00e1rez\",\"Luis Su\\u00e1rez\",\"Luis Su\\u00e1rez\",\"Luis Su\\u00e1rez\",\"Luis Su\\u00e1rez\",\"Maxi G\\u00f3mez\",\"Michu\",\"Neymar\",\"Neymar\",\"Nihat Kahveci\",\"Nino\",\"Pedro\",\"Piti\",\"Radamel Falcao\",\"Radamel Falcao\",\"Ra\\u00fal\",\"Ra\\u00fal\",\"Ra\\u00fal Tamudo\",\"Ricardo Oliveira\",\"Roberto Soldado\",\"Roberto Soldado\",\"Roberto Soldado\",\"Roberto Soldado\",\"Rodrigo\",\"Ronaldinho\",\"Rub\\u00e9n Castro\",\"Rub\\u00e9n Castro\",\"Rub\\u00e9n Castro\",\"Rub\\u00e9n Castro\",\"Ruud van Nistelrooy\",\"Ruud van Nistelrooy\",\"Salom\\u00f3n Rond\\u00f3n\",\"Samuel Eto'o\",\"Sandro Ram\\u00edrez\",\"Sergio Ag\\u00fcero\",\"Sergio Ag\\u00fcero\",\"Sergio Ag\\u00fcero\",\"Sergio Garc\\u00eda\",\"Thierry Henry\",\"Wissam Ben Yedder\",\"Zlatan Ibrahimovic\",\"\\u00c1lvaro Morata\",\"\\u00c1lvaro Negredo\",\"\\u00c1lvaro Negredo\",\"\\u00c1lvaro Negredo\",\"2006\",\"2006\",\"2006\",\"2006\",\"2006\",\"2006\",\"2006\",\"2006\",\"2006\",\"2007\",\"2007\",\"2007\",\"2007\",\"2007\",\"2007\",\"2007\",\"2008\",\"2008\",\"2008\",\"2008\",\"2008\",\"2009\",\"2009\",\"2009\",\"2009\",\"2009\",\"2009\",\"2009\",\"2010\",\"2010\",\"2010\",\"2010\",\"2010\",\"2010\",\"2010\",\"2010\",\"2011\",\"2011\",\"2011\",\"2011\",\"2011\",\"2011\",\"2011\",\"2011\",\"2012\",\"2012\",\"2012\",\"2012\",\"2012\",\"2012\",\"2012\",\"2012\",\"2012\",\"2013\",\"2013\",\"2013\",\"2013\",\"2013\",\"2013\",\"2014\",\"2014\",\"2014\",\"2014\",\"2014\",\"2014\",\"2014\",\"2015\",\"2015\",\"2015\",\"2015\",\"2015\",\"2015\",\"2016\",\"2016\",\"2016\",\"2016\",\"2016\",\"2016\",\"2016\",\"2016\",\"2017\",\"2017\",\"2017\",\"2017\",\"2017\",\"2017\",\"2017\",\"2018\",\"2018\",\"2018\",\"2018\",\"2018\",\"2018\",\"2018\",\"2018\",\" - \",\"Athletic Club\",\"Atl\\u00e9tico Madrid\",\"Barcelona\",\"Celta Vigo\",\"Eibar\",\"Espanyol\",\"Gerona\",\"Getafe\",\"Levante\",\"Mallorca\",\"M\\u00e1laga\",\"Rayo Vallecano\",\"Real Betis\",\"Real Madrid\",\"Real Sociedad\",\"Real Valladolid\",\"Real Zaragoza\",\"Sevilla FC\",\"Tenerife\",\"Valencia\",\"Villarreal\"],\"name\":\"\",\"parents\":[\" - /2014\",\"Barcelona/2013\",\"Real Sociedad/2013\",\"Atl\\u00e9tico Madrid/2014\",\"Atl\\u00e9tico Madrid/2015\",\"Atl\\u00e9tico Madrid/2016\",\"Atl\\u00e9tico Madrid/2017\",\"Atl\\u00e9tico Madrid/2018\",\"Athletic Club/2012\",\"Athletic Club/2013\",\"Athletic Club/2014\",\"Athletic Club/2015\",\"Athletic Club/2016\",\"Levante/2011\",\"Eibar/2015\",\"Espanyol/2018\",\"Sevilla FC/2014\",\"Real Sociedad/2013\",\"Gerona/2017\",\"Gerona/2018\",\"Real Madrid/2009\",\"Real Madrid/2010\",\"Real Madrid/2011\",\"Real Madrid/2012\",\"Real Madrid/2013\",\"Real Madrid/2014\",\"Real Madrid/2015\",\"Real Madrid/2016\",\"Real Madrid/2017\",\"Mallorca/2007\",\"Valencia/2006\",\"Valencia/2007\",\"Valencia/2008\",\"Barcelona/2009\",\"Barcelona/2010\",\"Atl\\u00e9tico Madrid/2013\",\"Villarreal/2006\",\"Atl\\u00e9tico Madrid/2007\",\"Atl\\u00e9tico Madrid/2008\",\"Atl\\u00e9tico Madrid/2009\",\"Real Zaragoza/2006\",\"Celta Vigo/2006\",\"Athletic Club/2009\",\"Athletic Club/2010\",\"Athletic Club/2011\",\"Atl\\u00e9tico Madrid/2006\",\"Sevilla FC/2006\",\"Sevilla FC/2007\",\"Sevilla FC/2008\",\"Real Madrid/2015\",\"Real Madrid/2017\",\"Espanyol/2016\",\"Espanyol/2017\",\"Villarreal/2010\",\"Real Madrid/2008\",\"Real Madrid/2009\",\"Real Madrid/2011\",\"Real Madrid/2012\",\"Real Zaragoza/2012\",\"Celta Vigo/2016\",\"Celta Vigo/2017\",\"Celta Vigo/2018\",\"Getafe/2018\",\"Real Valladolid/2013\",\"Getafe/2018\",\"Real Madrid/2010\",\"Real Madrid/2011\",\"Real Madrid/2013\",\"Real Madrid/2014\",\"Real Madrid/2015\",\"Real Madrid/2018\",\"Barcelona/2006\",\"Barcelona/2008\",\"Barcelona/2009\",\"Barcelona/2010\",\"Barcelona/2011\",\"Barcelona/2012\",\"Barcelona/2013\",\"Barcelona/2014\",\"Barcelona/2015\",\"Barcelona/2016\",\"Barcelona/2017\",\"Barcelona/2018\",\"Sevilla FC/2007\",\"Sevilla FC/2009\",\"Barcelona/2014\",\"Barcelona/2015\",\"Barcelona/2016\",\"Barcelona/2017\",\"Barcelona/2018\",\"Celta Vigo/2017\",\"Rayo Vallecano/2011\",\"Barcelona/2014\",\"Barcelona/2015\",\"Villarreal/2007\",\"Tenerife/2009\",\"Barcelona/2013\",\"Rayo Vallecano/2012\",\"Atl\\u00e9tico Madrid/2011\",\"Atl\\u00e9tico Madrid/2012\",\"Real Madrid/2007\",\"Real Madrid/2008\",\"Espanyol/2006\",\"Real Zaragoza/2007\",\"Valencia/2009\",\"Valencia/2010\",\"Valencia/2011\",\"Valencia/2012\",\"Valencia/2017\",\"Barcelona/2006\",\"Real Betis/2011\",\"Real Betis/2012\",\"Real Betis/2015\",\"Real Betis/2016\",\"Real Madrid/2006\",\"Real Madrid/2007\",\"M\\u00e1laga/2010\",\"Barcelona/2008\",\"M\\u00e1laga/2016\",\"Atl\\u00e9tico Madrid/2007\",\"Atl\\u00e9tico Madrid/2008\",\"Atl\\u00e9tico Madrid/2010\",\"Espanyol/2014\",\"Barcelona/2008\",\"Sevilla FC/2018\",\"Barcelona/2009\",\"Real Madrid/2016\",\"Real Madrid/2008\",\"Sevilla FC/2010\",\"Sevilla FC/2012\",\"Atl\\u00e9tico Madrid\",\"Barcelona\",\"Celta Vigo\",\"Espanyol\",\"Real Madrid\",\"Real Zaragoza\",\"Sevilla FC\",\"Valencia\",\"Villarreal\",\"Atl\\u00e9tico Madrid\",\"Mallorca\",\"Real Madrid\",\"Real Zaragoza\",\"Sevilla FC\",\"Valencia\",\"Villarreal\",\"Atl\\u00e9tico Madrid\",\"Barcelona\",\"Real Madrid\",\"Sevilla FC\",\"Valencia\",\"Athletic Club\",\"Atl\\u00e9tico Madrid\",\"Barcelona\",\"Real Madrid\",\"Sevilla FC\",\"Tenerife\",\"Valencia\",\"Athletic Club\",\"Atl\\u00e9tico Madrid\",\"Barcelona\",\"M\\u00e1laga\",\"Real Madrid\",\"Sevilla FC\",\"Valencia\",\"Villarreal\",\"Athletic Club\",\"Atl\\u00e9tico Madrid\",\"Barcelona\",\"Levante\",\"Rayo Vallecano\",\"Real Betis\",\"Real Madrid\",\"Valencia\",\"Athletic Club\",\"Atl\\u00e9tico Madrid\",\"Barcelona\",\"Rayo Vallecano\",\"Real Betis\",\"Real Madrid\",\"Real Zaragoza\",\"Sevilla FC\",\"Valencia\",\"Athletic Club\",\"Atl\\u00e9tico Madrid\",\"Barcelona\",\"Real Madrid\",\"Real Sociedad\",\"Real Valladolid\",\" - \",\"Athletic Club\",\"Atl\\u00e9tico Madrid\",\"Barcelona\",\"Espanyol\",\"Real Madrid\",\"Sevilla FC\",\"Athletic Club\",\"Atl\\u00e9tico Madrid\",\"Barcelona\",\"Eibar\",\"Real Betis\",\"Real Madrid\",\"Athletic Club\",\"Atl\\u00e9tico Madrid\",\"Barcelona\",\"Celta Vigo\",\"Espanyol\",\"M\\u00e1laga\",\"Real Betis\",\"Real Madrid\",\"Atl\\u00e9tico Madrid\",\"Barcelona\",\"Celta Vigo\",\"Espanyol\",\"Gerona\",\"Real Madrid\",\"Valencia\",\"Atl\\u00e9tico Madrid\",\"Barcelona\",\"Celta Vigo\",\"Espanyol\",\"Gerona\",\"Getafe\",\"Real Madrid\",\"Sevilla FC\",\"\",\"\",\"\",\"\",\"\",\"\",\"\",\"\",\"\",\"\",\"\",\"\",\"\",\"\",\"\",\"\",\"\",\"\",\"\",\"\",\"\",\"\"],\"values\":[17,19,16,22,22,16,19,15,14,16,18,20,16,15,18,17,20,16,21,19,26,40,46,34,31,48,35,25,26,27,16,18,28,21,18,27,19,16,32,18,23,15,14,18,17,14,21,16,18,19,16,13,16,18,22,27,22,16,14,19,22,20,14,15,14,15,21,17,15,24,21,14,23,34,31,50,46,28,43,26,37,34,36,24,15,16,40,29,25,21,17,15,22,24,18,14,15,18,24,28,18,18,15,17,16,18,17,24,16,21,16,18,19,13,25,16,14,30,14,19,17,20,14,19,18,16,15,19,20,25,14,35,15,15,25,23,21,16,19,35,27,34,17,40,18,18,49,72,59,18,28,14,18,71,53,15,14,16,18,20,49,14,55,20,18,18,17,24,50,15,15,16,89,17,14,28,46,18,18,50,14,25,24,16,27,62,48,32,15,17,18,22,81,14,63,20,20,22,90,18,19,78,16,16,66,19,13,14,13,40,19,59,39,16,21,42,16,15,57,20,17,19,28,21,18,17,133,309,738,93,18,75,40,28,15,27,28,33,66,657,32,15,54,177,14,153,55],\"type\":\"sunburst\"}],                        {\"template\":{\"data\":{\"bar\":[{\"error_x\":{\"color\":\"#2a3f5f\"},\"error_y\":{\"color\":\"#2a3f5f\"},\"marker\":{\"line\":{\"color\":\"#E5ECF6\",\"width\":0.5},\"pattern\":{\"fillmode\":\"overlay\",\"size\":10,\"solidity\":0.2}},\"type\":\"bar\"}],\"barpolar\":[{\"marker\":{\"line\":{\"color\":\"#E5ECF6\",\"width\":0.5},\"pattern\":{\"fillmode\":\"overlay\",\"size\":10,\"solidity\":0.2}},\"type\":\"barpolar\"}],\"carpet\":[{\"aaxis\":{\"endlinecolor\":\"#2a3f5f\",\"gridcolor\":\"white\",\"linecolor\":\"white\",\"minorgridcolor\":\"white\",\"startlinecolor\":\"#2a3f5f\"},\"baxis\":{\"endlinecolor\":\"#2a3f5f\",\"gridcolor\":\"white\",\"linecolor\":\"white\",\"minorgridcolor\":\"white\",\"startlinecolor\":\"#2a3f5f\"},\"type\":\"carpet\"}],\"choropleth\":[{\"colorbar\":{\"outlinewidth\":0,\"ticks\":\"\"},\"type\":\"choropleth\"}],\"contour\":[{\"colorbar\":{\"outlinewidth\":0,\"ticks\":\"\"},\"colorscale\":[[0.0,\"#0d0887\"],[0.1111111111111111,\"#46039f\"],[0.2222222222222222,\"#7201a8\"],[0.3333333333333333,\"#9c179e\"],[0.4444444444444444,\"#bd3786\"],[0.5555555555555556,\"#d8576b\"],[0.6666666666666666,\"#ed7953\"],[0.7777777777777778,\"#fb9f3a\"],[0.8888888888888888,\"#fdca26\"],[1.0,\"#f0f921\"]],\"type\":\"contour\"}],\"contourcarpet\":[{\"colorbar\":{\"outlinewidth\":0,\"ticks\":\"\"},\"type\":\"contourcarpet\"}],\"heatmap\":[{\"colorbar\":{\"outlinewidth\":0,\"ticks\":\"\"},\"colorscale\":[[0.0,\"#0d0887\"],[0.1111111111111111,\"#46039f\"],[0.2222222222222222,\"#7201a8\"],[0.3333333333333333,\"#9c179e\"],[0.4444444444444444,\"#bd3786\"],[0.5555555555555556,\"#d8576b\"],[0.6666666666666666,\"#ed7953\"],[0.7777777777777778,\"#fb9f3a\"],[0.8888888888888888,\"#fdca26\"],[1.0,\"#f0f921\"]],\"type\":\"heatmap\"}],\"heatmapgl\":[{\"colorbar\":{\"outlinewidth\":0,\"ticks\":\"\"},\"colorscale\":[[0.0,\"#0d0887\"],[0.1111111111111111,\"#46039f\"],[0.2222222222222222,\"#7201a8\"],[0.3333333333333333,\"#9c179e\"],[0.4444444444444444,\"#bd3786\"],[0.5555555555555556,\"#d8576b\"],[0.6666666666666666,\"#ed7953\"],[0.7777777777777778,\"#fb9f3a\"],[0.8888888888888888,\"#fdca26\"],[1.0,\"#f0f921\"]],\"type\":\"heatmapgl\"}],\"histogram\":[{\"marker\":{\"pattern\":{\"fillmode\":\"overlay\",\"size\":10,\"solidity\":0.2}},\"type\":\"histogram\"}],\"histogram2d\":[{\"colorbar\":{\"outlinewidth\":0,\"ticks\":\"\"},\"colorscale\":[[0.0,\"#0d0887\"],[0.1111111111111111,\"#46039f\"],[0.2222222222222222,\"#7201a8\"],[0.3333333333333333,\"#9c179e\"],[0.4444444444444444,\"#bd3786\"],[0.5555555555555556,\"#d8576b\"],[0.6666666666666666,\"#ed7953\"],[0.7777777777777778,\"#fb9f3a\"],[0.8888888888888888,\"#fdca26\"],[1.0,\"#f0f921\"]],\"type\":\"histogram2d\"}],\"histogram2dcontour\":[{\"colorbar\":{\"outlinewidth\":0,\"ticks\":\"\"},\"colorscale\":[[0.0,\"#0d0887\"],[0.1111111111111111,\"#46039f\"],[0.2222222222222222,\"#7201a8\"],[0.3333333333333333,\"#9c179e\"],[0.4444444444444444,\"#bd3786\"],[0.5555555555555556,\"#d8576b\"],[0.6666666666666666,\"#ed7953\"],[0.7777777777777778,\"#fb9f3a\"],[0.8888888888888888,\"#fdca26\"],[1.0,\"#f0f921\"]],\"type\":\"histogram2dcontour\"}],\"mesh3d\":[{\"colorbar\":{\"outlinewidth\":0,\"ticks\":\"\"},\"type\":\"mesh3d\"}],\"parcoords\":[{\"line\":{\"colorbar\":{\"outlinewidth\":0,\"ticks\":\"\"}},\"type\":\"parcoords\"}],\"pie\":[{\"automargin\":true,\"type\":\"pie\"}],\"scatter\":[{\"marker\":{\"colorbar\":{\"outlinewidth\":0,\"ticks\":\"\"}},\"type\":\"scatter\"}],\"scatter3d\":[{\"line\":{\"colorbar\":{\"outlinewidth\":0,\"ticks\":\"\"}},\"marker\":{\"colorbar\":{\"outlinewidth\":0,\"ticks\":\"\"}},\"type\":\"scatter3d\"}],\"scattercarpet\":[{\"marker\":{\"colorbar\":{\"outlinewidth\":0,\"ticks\":\"\"}},\"type\":\"scattercarpet\"}],\"scattergeo\":[{\"marker\":{\"colorbar\":{\"outlinewidth\":0,\"ticks\":\"\"}},\"type\":\"scattergeo\"}],\"scattergl\":[{\"marker\":{\"colorbar\":{\"outlinewidth\":0,\"ticks\":\"\"}},\"type\":\"scattergl\"}],\"scattermapbox\":[{\"marker\":{\"colorbar\":{\"outlinewidth\":0,\"ticks\":\"\"}},\"type\":\"scattermapbox\"}],\"scatterpolar\":[{\"marker\":{\"colorbar\":{\"outlinewidth\":0,\"ticks\":\"\"}},\"type\":\"scatterpolar\"}],\"scatterpolargl\":[{\"marker\":{\"colorbar\":{\"outlinewidth\":0,\"ticks\":\"\"}},\"type\":\"scatterpolargl\"}],\"scatterternary\":[{\"marker\":{\"colorbar\":{\"outlinewidth\":0,\"ticks\":\"\"}},\"type\":\"scatterternary\"}],\"surface\":[{\"colorbar\":{\"outlinewidth\":0,\"ticks\":\"\"},\"colorscale\":[[0.0,\"#0d0887\"],[0.1111111111111111,\"#46039f\"],[0.2222222222222222,\"#7201a8\"],[0.3333333333333333,\"#9c179e\"],[0.4444444444444444,\"#bd3786\"],[0.5555555555555556,\"#d8576b\"],[0.6666666666666666,\"#ed7953\"],[0.7777777777777778,\"#fb9f3a\"],[0.8888888888888888,\"#fdca26\"],[1.0,\"#f0f921\"]],\"type\":\"surface\"}],\"table\":[{\"cells\":{\"fill\":{\"color\":\"#EBF0F8\"},\"line\":{\"color\":\"white\"}},\"header\":{\"fill\":{\"color\":\"#C8D4E3\"},\"line\":{\"color\":\"white\"}},\"type\":\"table\"}]},\"layout\":{\"annotationdefaults\":{\"arrowcolor\":\"#2a3f5f\",\"arrowhead\":0,\"arrowwidth\":1},\"autotypenumbers\":\"strict\",\"coloraxis\":{\"colorbar\":{\"outlinewidth\":0,\"ticks\":\"\"}},\"colorscale\":{\"diverging\":[[0,\"#8e0152\"],[0.1,\"#c51b7d\"],[0.2,\"#de77ae\"],[0.3,\"#f1b6da\"],[0.4,\"#fde0ef\"],[0.5,\"#f7f7f7\"],[0.6,\"#e6f5d0\"],[0.7,\"#b8e186\"],[0.8,\"#7fbc41\"],[0.9,\"#4d9221\"],[1,\"#276419\"]],\"sequential\":[[0.0,\"#0d0887\"],[0.1111111111111111,\"#46039f\"],[0.2222222222222222,\"#7201a8\"],[0.3333333333333333,\"#9c179e\"],[0.4444444444444444,\"#bd3786\"],[0.5555555555555556,\"#d8576b\"],[0.6666666666666666,\"#ed7953\"],[0.7777777777777778,\"#fb9f3a\"],[0.8888888888888888,\"#fdca26\"],[1.0,\"#f0f921\"]],\"sequentialminus\":[[0.0,\"#0d0887\"],[0.1111111111111111,\"#46039f\"],[0.2222222222222222,\"#7201a8\"],[0.3333333333333333,\"#9c179e\"],[0.4444444444444444,\"#bd3786\"],[0.5555555555555556,\"#d8576b\"],[0.6666666666666666,\"#ed7953\"],[0.7777777777777778,\"#fb9f3a\"],[0.8888888888888888,\"#fdca26\"],[1.0,\"#f0f921\"]]},\"colorway\":[\"#636efa\",\"#EF553B\",\"#00cc96\",\"#ab63fa\",\"#FFA15A\",\"#19d3f3\",\"#FF6692\",\"#B6E880\",\"#FF97FF\",\"#FECB52\"],\"font\":{\"color\":\"#2a3f5f\"},\"geo\":{\"bgcolor\":\"white\",\"lakecolor\":\"white\",\"landcolor\":\"#E5ECF6\",\"showlakes\":true,\"showland\":true,\"subunitcolor\":\"white\"},\"hoverlabel\":{\"align\":\"left\"},\"hovermode\":\"closest\",\"mapbox\":{\"style\":\"light\"},\"paper_bgcolor\":\"white\",\"plot_bgcolor\":\"#E5ECF6\",\"polar\":{\"angularaxis\":{\"gridcolor\":\"white\",\"linecolor\":\"white\",\"ticks\":\"\"},\"bgcolor\":\"#E5ECF6\",\"radialaxis\":{\"gridcolor\":\"white\",\"linecolor\":\"white\",\"ticks\":\"\"}},\"scene\":{\"xaxis\":{\"backgroundcolor\":\"#E5ECF6\",\"gridcolor\":\"white\",\"gridwidth\":2,\"linecolor\":\"white\",\"showbackground\":true,\"ticks\":\"\",\"zerolinecolor\":\"white\"},\"yaxis\":{\"backgroundcolor\":\"#E5ECF6\",\"gridcolor\":\"white\",\"gridwidth\":2,\"linecolor\":\"white\",\"showbackground\":true,\"ticks\":\"\",\"zerolinecolor\":\"white\"},\"zaxis\":{\"backgroundcolor\":\"#E5ECF6\",\"gridcolor\":\"white\",\"gridwidth\":2,\"linecolor\":\"white\",\"showbackground\":true,\"ticks\":\"\",\"zerolinecolor\":\"white\"}},\"shapedefaults\":{\"line\":{\"color\":\"#2a3f5f\"}},\"ternary\":{\"aaxis\":{\"gridcolor\":\"white\",\"linecolor\":\"white\",\"ticks\":\"\"},\"baxis\":{\"gridcolor\":\"white\",\"linecolor\":\"white\",\"ticks\":\"\"},\"bgcolor\":\"#E5ECF6\",\"caxis\":{\"gridcolor\":\"white\",\"linecolor\":\"white\",\"ticks\":\"\"}},\"title\":{\"x\":0.05},\"xaxis\":{\"automargin\":true,\"gridcolor\":\"white\",\"linecolor\":\"white\",\"ticks\":\"\",\"title\":{\"standoff\":15},\"zerolinecolor\":\"white\",\"zerolinewidth\":2},\"yaxis\":{\"automargin\":true,\"gridcolor\":\"white\",\"linecolor\":\"white\",\"ticks\":\"\",\"title\":{\"standoff\":15},\"zerolinecolor\":\"white\",\"zerolinewidth\":2}}},\"legend\":{\"tracegroupgap\":0},\"title\":{\"text\":\"In what team are players in the top 10 goalscorers at? <br> Data from season 2006 to 2018\"},\"height\":1500,\"width\":1500,\"coloraxis\":{\"showscale\":false},\"xaxis\":{\"title\":{\"text\":\"Goals Scored\"}},\"yaxis\":{\"title\":{\"text\":\"Team\"}}},                        {\"responsive\": true}                    ).then(function(){\n",
       "                            \n",
       "var gd = document.getElementById('3135ab4d-1ab4-4b80-ac65-9f74f3d0fddc');\n",
       "var x = new MutationObserver(function (mutations, observer) {{\n",
       "        var display = window.getComputedStyle(gd).display;\n",
       "        if (!display || display === 'none') {{\n",
       "            console.log([gd, 'removed!']);\n",
       "            Plotly.purge(gd);\n",
       "            observer.disconnect();\n",
       "        }}\n",
       "}});\n",
       "\n",
       "// Listen for the removal of the full notebook cells\n",
       "var notebookContainer = gd.closest('#notebook-container');\n",
       "if (notebookContainer) {{\n",
       "    x.observe(notebookContainer, {childList: true});\n",
       "}}\n",
       "\n",
       "// Listen for the clearing of the current output cell\n",
       "var outputEl = gd.closest('.output');\n",
       "if (outputEl) {{\n",
       "    x.observe(outputEl, {childList: true});\n",
       "}}\n",
       "\n",
       "                        })                };                });            </script>        </div>"
      ]
     },
     "metadata": {},
     "output_type": "display_data"
    }
   ],
   "source": [
    "burst = px.sunburst(team_player_goals, \n",
    "                    path=['team', 'year', 'player'], \n",
    "                    values='goals scored',\n",
    "                    title=f'In what team are players in the top {top_n_players} goalscorers at? <br> Data from season {start_year} to {end_year}',\n",
    "                    width=1500,\n",
    "                    height=1500\n",
    "                   )\n",
    "\n",
    "burst.update_layout(xaxis_title='Goals Scored', \n",
    "                    yaxis_title='Team',\n",
    "                    coloraxis_showscale=False)\n",
    "\n",
    "burst.show()"
   ]
  },
  {
   "cell_type": "code",
   "execution_count": 284,
   "id": "ff40ffa5",
   "metadata": {},
   "outputs": [],
   "source": [
    "moving_average = df.rolling(window=top_n_players*2).mean()"
   ]
  },
  {
   "cell_type": "code",
   "execution_count": 285,
   "id": "f33d73b2",
   "metadata": {},
   "outputs": [
    {
     "data": {
      "image/png": "[encoded data removed]",
      "text/plain": [
       "<Figure size 3200x1600 with 1 Axes>"
      ]
     },
     "metadata": {
      "needs_background": "light"
     },
     "output_type": "display_data"
    }
   ],
   "source": [
    "plt.figure(figsize=(16,8), dpi=200)\n",
    "plt.title(f'Top {top_n_players} goalscorers La Liga from {start_year} to {end_year}', fontsize=18)\n",
    "plt.yticks(fontsize=14)\n",
    "plt.xticks(ticks=np.arange(start_year, end_year, step=2), \n",
    "           fontsize=14, \n",
    "           rotation=45)\n",
    "\n",
    "ax = plt.gca()\n",
    "ax.set_xlim(start_year, end_year+1)\n",
    "\n",
    "ax.scatter(x=df.year, \n",
    "           y=df['goals scored'], \n",
    "           c='dodgerblue',\n",
    "           alpha=0.7,\n",
    "           s=100,)\n",
    "\n",
    "ax.plot(df.year, \n",
    "        moving_average['goals scored'], \n",
    "        c='crimson', \n",
    "        linewidth=3,)\n",
    "\n",
    "plt.show()"
   ]
  },
  {
   "cell_type": "code",
   "execution_count": 279,
   "id": "876b6b40",
   "metadata": {},
   "outputs": [
    {
     "data": {
      "image/png": "[encoded data removed]",
      "text/plain": [
       "<Figure size 1600x800 with 1 Axes>"
      ]
     },
     "metadata": {
      "needs_background": "light"
     },
     "output_type": "display_data"
    }
   ],
   "source": [
    "plt.figure(figsize=(8, 4), dpi=200)\n",
    "sns.histplot(data=df,\n",
    "             x=df['goals per game'],\n",
    "             bins=30)\n",
    "plt.xlabel('Goals per game')\n",
    "plt.title(f\"Distribution of Goals per game ({start_year}-{end_year})\")\n",
    "plt.show()"
   ]
  }
 ],
 "metadata": {
  "kernelspec": {
   "display_name": "Python 3",
   "language": "python",
   "name": "python3"
  },
  "language_info": {
   "codemirror_mode": {
    "name": "ipython",
    "version": 3
   },
   "file_extension": ".py",
   "mimetype": "text/x-python",
   "name": "python",
   "nbconvert_exporter": "python",
   "pygments_lexer": "ipython3",
   "version": "3.8.8"
  }
 },
 "nbformat": 4,
 "nbformat_minor": 5
}
